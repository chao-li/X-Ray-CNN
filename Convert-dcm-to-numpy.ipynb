{
 "cells": [
  {
   "cell_type": "code",
   "execution_count": 1,
   "metadata": {},
   "outputs": [
    {
     "name": "stderr",
     "output_type": "stream",
     "text": [
      "/anaconda3/lib/python3.6/site-packages/h5py/__init__.py:36: FutureWarning: Conversion of the second argument of issubdtype from `float` to `np.floating` is deprecated. In future, it will be treated as `np.float64 == np.dtype(float).type`.\n",
      "  from ._conv import register_converters as _register_converters\n",
      "Using TensorFlow backend.\n"
     ]
    }
   ],
   "source": [
    "import numpy as np\n",
    "import pydicom\n",
    "from models.preprocessing import SimplePreprocessor\n",
    "import os"
   ]
  },
  {
   "cell_type": "markdown",
   "metadata": {},
   "source": [
    "## Load data and conver to numpy"
   ]
  },
  {
   "cell_type": "code",
   "execution_count": 2,
   "metadata": {},
   "outputs": [],
   "source": [
    "## get a list of images\n",
    "pneumonia_path = '/Users/clidev/Desktop/Capstone_Project/pnumonia/all_train_dcm_data/pneumonia'\n",
    "normal_path =  '/Users/clidev/Desktop/Capstone_Project/pnumonia/all_train_dcm_data/normal'"
   ]
  },
  {
   "cell_type": "code",
   "execution_count": 3,
   "metadata": {},
   "outputs": [],
   "source": [
    "pneumonia_list = os.listdir(pneumonia_path)\n",
    "normal_list = os.listdir(normal_path)"
   ]
  },
  {
   "cell_type": "code",
   "execution_count": 4,
   "metadata": {},
   "outputs": [],
   "source": [
    "# create a list of classes that contains lists of file names for each category\n",
    "classes = []\n",
    "classes.append(normal_list)\n",
    "classes.append(pneumonia_list)"
   ]
  },
  {
   "cell_type": "code",
   "execution_count": 5,
   "metadata": {},
   "outputs": [],
   "source": [
    "# create a list of folder name for each class\n",
    "class_paths = []\n",
    "class_paths.append(normal_path)\n",
    "class_paths.append(pneumonia_path)\n"
   ]
  },
  {
   "cell_type": "code",
   "execution_count": 6,
   "metadata": {},
   "outputs": [],
   "source": [
    "# itialize the simple preprocessor to reduce resolution to 512 by 512\n",
    "sp = SimplePreprocessor(width = 128, height = 128)"
   ]
  },
  {
   "cell_type": "markdown",
   "metadata": {},
   "source": [
    "### Convert to numpy"
   ]
  },
  {
   "cell_type": "code",
   "execution_count": 7,
   "metadata": {},
   "outputs": [
    {
     "name": "stdout",
     "output_type": "stream",
     "text": [
      "class 0\n",
      "percentage 1.749425693585439\n",
      "class 0\n",
      "percentage 3.5165223537727512\n",
      "class 0\n",
      "percentage 5.283619013960063\n",
      "class 0\n",
      "percentage 7.0507156741473755\n",
      "class 0\n",
      "percentage 8.817812334334688\n",
      "class 0\n",
      "percentage 10.584908994522001\n",
      "class 0\n",
      "percentage 12.352005654709313\n",
      "class 0\n",
      "percentage 14.119102314896626\n",
      "class 0\n",
      "percentage 15.886198975083937\n",
      "class 0\n",
      "percentage 17.65329563527125\n",
      "class 0\n",
      "percentage 19.420392295458562\n",
      "class 0\n",
      "percentage 21.187488955645875\n",
      "class 0\n",
      "percentage 22.954585615833185\n",
      "class 0\n",
      "percentage 24.7216822760205\n",
      "class 0\n",
      "percentage 26.48877893620781\n",
      "class 0\n",
      "percentage 28.255875596395125\n",
      "class 0\n",
      "percentage 30.022972256582435\n",
      "class 0\n",
      "percentage 31.790068916769748\n",
      "class 0\n",
      "percentage 33.55716557695706\n",
      "class 0\n",
      "percentage 35.324262237144374\n",
      "class 0\n",
      "percentage 37.09135889733168\n",
      "class 0\n",
      "percentage 38.858455557518994\n",
      "class 0\n",
      "percentage 40.62555221770631\n",
      "class 0\n",
      "percentage 42.39264887789362\n",
      "class 0\n",
      "percentage 44.159745538080934\n",
      "class 0\n",
      "percentage 45.92684219826825\n",
      "class 0\n",
      "percentage 47.69393885845556\n",
      "class 0\n",
      "percentage 49.46103551864287\n",
      "class 0\n",
      "percentage 51.22813217883018\n",
      "class 0\n",
      "percentage 52.99522883901749\n",
      "class 0\n",
      "percentage 54.76232549920481\n",
      "class 0\n",
      "percentage 56.52942215939212\n",
      "class 0\n",
      "percentage 58.29651881957943\n",
      "class 0\n",
      "percentage 60.06361547976674\n",
      "class 0\n",
      "percentage 61.83071213995406\n",
      "class 0\n",
      "percentage 63.597808800141365\n",
      "class 0\n",
      "percentage 65.36490546032869\n",
      "class 0\n",
      "percentage 67.13200212051599\n",
      "class 0\n",
      "percentage 68.8990987807033\n",
      "class 0\n",
      "percentage 70.66619544089062\n",
      "class 0\n",
      "percentage 72.43329210107792\n",
      "class 0\n",
      "percentage 74.20038876126524\n",
      "class 0\n",
      "percentage 75.96748542145255\n",
      "class 0\n",
      "percentage 77.73458208163987\n",
      "class 0\n",
      "percentage 79.50167874182718\n",
      "class 0\n",
      "percentage 81.2687754020145\n",
      "class 0\n",
      "percentage 83.0358720622018\n",
      "class 0\n",
      "percentage 84.80296872238911\n",
      "class 0\n",
      "percentage 86.57006538257642\n",
      "class 0\n",
      "percentage 88.33716204276374\n",
      "class 0\n",
      "percentage 90.10425870295106\n",
      "class 0\n",
      "percentage 91.87135536313836\n",
      "class 0\n",
      "percentage 93.63845202332568\n",
      "class 0\n",
      "percentage 95.40554868351299\n",
      "class 0\n",
      "percentage 97.17264534370031\n",
      "class 0\n",
      "percentage 98.93974200388762\n",
      "class 1\n",
      "percentage 0.7068386640749249\n",
      "class 1\n",
      "percentage 2.473935324262237\n",
      "class 1\n",
      "percentage 4.24103198444955\n",
      "class 1\n",
      "percentage 6.008128644636861\n",
      "class 1\n",
      "percentage 7.775225304824174\n",
      "class 1\n",
      "percentage 9.542321965011485\n",
      "class 1\n",
      "percentage 11.309418625198798\n",
      "class 1\n",
      "percentage 13.076515285386112\n",
      "class 1\n",
      "percentage 14.843611945573423\n",
      "class 1\n",
      "percentage 16.610708605760735\n",
      "class 1\n",
      "percentage 18.377805265948048\n",
      "class 1\n",
      "percentage 20.144901926135358\n",
      "class 1\n",
      "percentage 21.911998586322674\n",
      "class 1\n",
      "percentage 23.679095246509984\n",
      "class 1\n",
      "percentage 25.446191906697297\n",
      "class 1\n",
      "percentage 27.213288566884607\n",
      "class 1\n",
      "percentage 28.98038522707192\n",
      "class 1\n",
      "percentage 30.74748188725923\n",
      "class 1\n",
      "percentage 32.51457854744654\n",
      "class 1\n",
      "percentage 34.28167520763385\n",
      "class 1\n",
      "percentage 36.04877186782117\n",
      "class 1\n",
      "percentage 37.81586852800849\n",
      "class 1\n",
      "percentage 39.58296518819579\n",
      "class 1\n",
      "percentage 41.350061848383106\n",
      "class 1\n",
      "percentage 43.11715850857042\n",
      "class 1\n",
      "percentage 44.88425516875773\n",
      "class 1\n",
      "percentage 46.65135182894504\n",
      "class 1\n",
      "percentage 48.41844848913235\n",
      "class 1\n",
      "percentage 50.185545149319665\n",
      "class 1\n",
      "percentage 51.952641809506986\n",
      "class 1\n",
      "percentage 53.71973846969429\n",
      "class 1\n",
      "percentage 55.486835129881605\n",
      "class 1\n",
      "percentage 57.25393179006891\n",
      "class 1\n",
      "percentage 59.02102845025623\n",
      "class 1\n",
      "percentage 60.78812511044354\n",
      "class 1\n",
      "percentage 62.55522177063085\n",
      "class 1\n",
      "percentage 64.32231843081817\n",
      "class 1\n",
      "percentage 66.08941509100548\n",
      "class 1\n",
      "percentage 67.8565117511928\n",
      "class 1\n",
      "percentage 69.6236084113801\n",
      "class 1\n",
      "percentage 71.39070507156742\n",
      "class 1\n",
      "percentage 73.15780173175472\n",
      "class 1\n",
      "percentage 74.92489839194204\n",
      "class 1\n",
      "percentage 76.69199505212934\n",
      "class 1\n",
      "percentage 78.45909171231666\n",
      "class 1\n",
      "percentage 80.22618837250398\n",
      "class 1\n",
      "percentage 81.99328503269129\n",
      "class 1\n",
      "percentage 83.76038169287861\n",
      "class 1\n",
      "percentage 85.52747835306592\n",
      "class 1\n",
      "percentage 87.29457501325322\n",
      "class 1\n",
      "percentage 89.06167167344053\n",
      "class 1\n",
      "percentage 90.82876833362785\n",
      "class 1\n",
      "percentage 92.59586499381516\n",
      "class 1\n",
      "percentage 94.36296165400248\n",
      "class 1\n",
      "percentage 96.13005831418978\n",
      "class 1\n",
      "percentage 97.8971549743771\n",
      "class 1\n",
      "percentage 99.66425163456442\n"
     ]
    }
   ],
   "source": [
    "data = []\n",
    "labels = []\n",
    "PrintCount = 0\n",
    "# loop through classes\n",
    "for (i, classs) in enumerate(classes):\n",
    "    #print('class', classs)\n",
    "    for (j,image_path) in enumerate(classs):\n",
    "        #print(class_paths[i] + '/' + image_path)\n",
    "\n",
    "        # load the image into an array\n",
    "        dcm_data = pydicom.read_file(class_paths[i] + '/' + image_path)\n",
    "        im = dcm_data.pixel_array\n",
    "        \n",
    "        # cut image size down to 512 X 512\n",
    "        im = sp.preprocess(im)\n",
    "\n",
    "        # add the depth dimension\n",
    "        im = np.expand_dims(im,axis = 2)\n",
    "        \n",
    "        \n",
    "\n",
    "        # append to list\n",
    "        labels.append(i)\n",
    "        data.append(im)\n",
    "        \n",
    "        PrintCount += 1\n",
    "        if (PrintCount % 100 == 0):\n",
    "            print('class', i)\n",
    "            print('percentage', (j/len(classs))*100)"
   ]
  },
  {
   "cell_type": "markdown",
   "metadata": {},
   "source": [
    "## Save as X and y"
   ]
  },
  {
   "cell_type": "code",
   "execution_count": 8,
   "metadata": {},
   "outputs": [],
   "source": [
    "X = np.array(data)"
   ]
  },
  {
   "cell_type": "code",
   "execution_count": 9,
   "metadata": {},
   "outputs": [],
   "source": [
    "y = np.array(labels)"
   ]
  },
  {
   "cell_type": "code",
   "execution_count": 10,
   "metadata": {},
   "outputs": [],
   "source": [
    "np.save(file = './image_as_numpy/X.npy', arr = X)\n",
    "np.save(file = './image_as_numpy/y.npy', arr = y)"
   ]
  },
  {
   "cell_type": "markdown",
   "metadata": {},
   "source": [
    "### Check if data is safe"
   ]
  },
  {
   "cell_type": "code",
   "execution_count": 11,
   "metadata": {},
   "outputs": [],
   "source": [
    "test_image_path = '/Users/clidev/Desktop/Capstone_Project/pnumonia/all_train_dcm_data/normal/7be6b4de-afe9-43c0-a581-0f49608c8976.dcm'"
   ]
  },
  {
   "cell_type": "code",
   "execution_count": 12,
   "metadata": {},
   "outputs": [],
   "source": [
    "dcm_test = pydicom.read_file(test_image_path)\n",
    "im_test = dcm_test.pixel_array"
   ]
  },
  {
   "cell_type": "code",
   "execution_count": 13,
   "metadata": {},
   "outputs": [],
   "source": [
    "im_test = sp.preprocess(im_test)"
   ]
  },
  {
   "cell_type": "code",
   "execution_count": 14,
   "metadata": {},
   "outputs": [
    {
     "data": {
      "text/plain": [
       "array([[ 10,   0,   0, ...,   0,   0,   0],\n",
       "       [  1,   0,   0, ...,   0,   0,   0],\n",
       "       [  0,   0,   0, ...,   0,   0,   0],\n",
       "       ...,\n",
       "       [  1,   1,   1, ...,  51,  65, 102],\n",
       "       [  1,   1,   1, ...,  54,  71, 110],\n",
       "       [  1,   1,   1, ...,  60,  76, 115]], dtype=uint8)"
      ]
     },
     "execution_count": 14,
     "metadata": {},
     "output_type": "execute_result"
    }
   ],
   "source": [
    "X[0,:, :,0]"
   ]
  },
  {
   "cell_type": "code",
   "execution_count": 15,
   "metadata": {},
   "outputs": [
    {
     "data": {
      "text/plain": [
       "array([[ 10,   0,   0, ...,   0,   0,   0],\n",
       "       [  1,   0,   0, ...,   0,   0,   0],\n",
       "       [  0,   0,   0, ...,   0,   0,   0],\n",
       "       ...,\n",
       "       [  1,   1,   1, ...,  51,  65, 102],\n",
       "       [  1,   1,   1, ...,  54,  71, 110],\n",
       "       [  1,   1,   1, ...,  60,  76, 115]], dtype=uint8)"
      ]
     },
     "execution_count": 15,
     "metadata": {},
     "output_type": "execute_result"
    }
   ],
   "source": [
    "im_test"
   ]
  },
  {
   "cell_type": "markdown",
   "metadata": {},
   "source": [
    "## Train Validate Split 80/20/10"
   ]
  },
  {
   "cell_type": "code",
   "execution_count": 16,
   "metadata": {},
   "outputs": [],
   "source": [
    "from sklearn.model_selection import train_test_split"
   ]
  },
  {
   "cell_type": "code",
   "execution_count": 17,
   "metadata": {},
   "outputs": [],
   "source": [
    "X_train, X_vt, y_train, y_vt = train_test_split(X, y, test_size = 0.3, stratify = y)"
   ]
  },
  {
   "cell_type": "code",
   "execution_count": 18,
   "metadata": {},
   "outputs": [],
   "source": [
    "X_validate, X_test, y_validate, y_test = train_test_split(X_vt, y_vt, test_size = 0.3333, stratify = y_vt)"
   ]
  },
  {
   "cell_type": "code",
   "execution_count": 19,
   "metadata": {},
   "outputs": [],
   "source": [
    "np.save(file = './image_as_numpy/X_train.npy', arr = X_train)\n",
    "np.save(file = './image_as_numpy/X_validate.npy', arr = X_validate)\n",
    "np.save(file = './image_as_numpy/X_test.npy', arr = X_test)\n",
    "\n",
    "np.save(file = './image_as_numpy/y_train.npy', arr = y_train)\n",
    "np.save(file = './image_as_numpy/y_validate.npy', arr = y_validate)\n",
    "np.save(file = './image_as_numpy/y_test.npy', arr = y_test)"
   ]
  },
  {
   "cell_type": "code",
   "execution_count": null,
   "metadata": {},
   "outputs": [],
   "source": []
  },
  {
   "cell_type": "markdown",
   "metadata": {},
   "source": [
    "## Test loading the data"
   ]
  },
  {
   "cell_type": "code",
   "execution_count": 20,
   "metadata": {},
   "outputs": [],
   "source": [
    "X_train = np.load('./image_as_numpy/X_train.npy')"
   ]
  },
  {
   "cell_type": "code",
   "execution_count": 21,
   "metadata": {},
   "outputs": [
    {
     "data": {
      "text/plain": [
       "array([[117,  39,   7, ...,   5,   5,   4],\n",
       "       [ 54,   7,   1, ...,   5,   5,   4],\n",
       "       [ 51,   7,   1, ...,   5,   5,   4],\n",
       "       ...,\n",
       "       [ 27,   5,   4, ...,   5,   5,   4],\n",
       "       [ 29,   5,   4, ...,   5,   5,   4],\n",
       "       [ 31,   7,   4, ...,   5,   5,   4]], dtype=uint8)"
      ]
     },
     "execution_count": 21,
     "metadata": {},
     "output_type": "execute_result"
    }
   ],
   "source": [
    "X_train[1,:,:,0]"
   ]
  },
  {
   "cell_type": "code",
   "execution_count": null,
   "metadata": {},
   "outputs": [],
   "source": []
  },
  {
   "cell_type": "code",
   "execution_count": null,
   "metadata": {},
   "outputs": [],
   "source": []
  }
 ],
 "metadata": {
  "kernelspec": {
   "display_name": "Python 3",
   "language": "python",
   "name": "python3"
  },
  "language_info": {
   "codemirror_mode": {
    "name": "ipython",
    "version": 3
   },
   "file_extension": ".py",
   "mimetype": "text/x-python",
   "name": "python",
   "nbconvert_exporter": "python",
   "pygments_lexer": "ipython3",
   "version": "3.6.5"
  }
 },
 "nbformat": 4,
 "nbformat_minor": 2
}
