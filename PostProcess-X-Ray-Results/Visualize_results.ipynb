{
 "cells": [
  {
   "cell_type": "code",
   "execution_count": 1,
   "metadata": {},
   "outputs": [],
   "source": [
    "import numpy as np\n",
    "from sklearn.metrics import accuracy_score\n",
    "import matplotlib.pyplot as plt\n",
    "from sklearn.metrics import accuracy_score\n",
    "from sklearn.metrics import classification_report\n",
    "from sklearn.metrics import confusion_matrix\n",
    "from sklearn.metrics import roc_curve, auc\n",
    "\n",
    "\n",
    "%matplotlib inline"
   ]
  },
  {
   "cell_type": "code",
   "execution_count": 2,
   "metadata": {},
   "outputs": [],
   "source": [
    "folder_path = '/Users/clidev/Desktop/Capstone_Project/pnumonia/X-Ray-CNN/image_as_numpy/'\n",
    "\n",
    "X_train = np.load(folder_path + 'X_train.npy')\n",
    "X_validate = np.load(folder_path + 'X_validate.npy')\n",
    "X_test = np.load(folder_path + 'X_test.npy')\n",
    "\n",
    "y_train = np.load(folder_path + 'y_train.npy')\n",
    "y_validate = np.load(folder_path + 'y_validate.npy')\n",
    "y_test = np.load(folder_path + 'y_test.npy')"
   ]
  },
  {
   "cell_type": "code",
   "execution_count": 3,
   "metadata": {},
   "outputs": [],
   "source": [
    "#path = '/Users/clidev/Desktop/Capstone_Project/pnumonia/X-Ray-CNN/postprocess_output/BaselineNet_Adam_batch64_E150/'\n",
    "path = '/Users/clidev/Desktop/Capstone_Project/pnumonia/X-Ray-CNN/postprocess_output/BaselineNet_NoPad_Adam_batch64_E150/'"
   ]
  },
  {
   "cell_type": "code",
   "execution_count": 4,
   "metadata": {},
   "outputs": [],
   "source": [
    "train_evaluate = np.load(path + 'train_evaluate.npy')\n",
    "validate_evaluate = np.load(path + 'validate_evaluate.npy')\n",
    "test_evaluate = np.load(path + 'test_evaluate.npy')"
   ]
  },
  {
   "cell_type": "code",
   "execution_count": 5,
   "metadata": {},
   "outputs": [],
   "source": [
    "y_train_pred = np.load(path + 'y_train_pred.npy')\n",
    "y_validate_pred = np.load(path + 'y_validate_pred.npy')\n",
    "y_test_pred = np.load(path + 'y_test_pred.npy')"
   ]
  },
  {
   "cell_type": "code",
   "execution_count": 6,
   "metadata": {},
   "outputs": [],
   "source": [
    "y_train_proba = np.load(path + 'y_train_proba.npy')\n",
    "y_validate_proba = np.load(path + 'y_validate_proba.npy')\n",
    "y_test_proba = np.load(path + 'y_test_proba.npy')"
   ]
  },
  {
   "cell_type": "markdown",
   "metadata": {},
   "source": [
    "## Look at evaluation"
   ]
  },
  {
   "cell_type": "code",
   "execution_count": 7,
   "metadata": {},
   "outputs": [
    {
     "data": {
      "text/plain": [
       "array([0.20529204, 0.91858117])"
      ]
     },
     "execution_count": 7,
     "metadata": {},
     "output_type": "execute_result"
    }
   ],
   "source": [
    "train_evaluate"
   ]
  },
  {
   "cell_type": "code",
   "execution_count": 8,
   "metadata": {},
   "outputs": [
    {
     "data": {
      "text/plain": [
       "array([0.21438335, 0.91696113])"
      ]
     },
     "execution_count": 8,
     "metadata": {},
     "output_type": "execute_result"
    }
   ],
   "source": [
    "validate_evaluate"
   ]
  },
  {
   "cell_type": "code",
   "execution_count": 9,
   "metadata": {},
   "outputs": [
    {
     "data": {
      "text/plain": [
       "array([0.23450086, 0.90371025])"
      ]
     },
     "execution_count": 9,
     "metadata": {},
     "output_type": "execute_result"
    }
   ],
   "source": [
    "test_evaluate"
   ]
  },
  {
   "cell_type": "code",
   "execution_count": 10,
   "metadata": {},
   "outputs": [
    {
     "data": {
      "text/plain": [
       "array([[0.00905183],\n",
       "       [0.12902203],\n",
       "       [0.04795357],\n",
       "       ...,\n",
       "       [0.04618336],\n",
       "       [0.9948736 ],\n",
       "       [0.98271906]], dtype=float32)"
      ]
     },
     "execution_count": 10,
     "metadata": {},
     "output_type": "execute_result"
    }
   ],
   "source": [
    "y_test_pred"
   ]
  },
  {
   "cell_type": "code",
   "execution_count": 11,
   "metadata": {},
   "outputs": [
    {
     "data": {
      "text/plain": [
       "array([[0.00905183],\n",
       "       [0.12902203],\n",
       "       [0.04795357],\n",
       "       ...,\n",
       "       [0.04618336],\n",
       "       [0.9948736 ],\n",
       "       [0.98271906]], dtype=float32)"
      ]
     },
     "execution_count": 11,
     "metadata": {},
     "output_type": "execute_result"
    }
   ],
   "source": [
    "y_test_proba"
   ]
  },
  {
   "cell_type": "markdown",
   "metadata": {},
   "source": [
    "## Look at prediction"
   ]
  },
  {
   "cell_type": "markdown",
   "metadata": {},
   "source": [
    "### turn the prediction arrays into 1 dimension"
   ]
  },
  {
   "cell_type": "code",
   "execution_count": 12,
   "metadata": {},
   "outputs": [],
   "source": [
    "y_train_pred = y_train_pred[:, 0]"
   ]
  },
  {
   "cell_type": "code",
   "execution_count": 13,
   "metadata": {},
   "outputs": [],
   "source": [
    "y_validate_pred = y_validate_pred[:,0]"
   ]
  },
  {
   "cell_type": "code",
   "execution_count": 14,
   "metadata": {},
   "outputs": [],
   "source": [
    "y_test_pred = y_test_pred[:,0]"
   ]
  },
  {
   "cell_type": "code",
   "execution_count": 15,
   "metadata": {},
   "outputs": [],
   "source": [
    "y_train_proba = y_train_proba[:,0]\n",
    "y_validate_proba = y_validate_proba[:,0]\n",
    "y_test_proba = y_test_proba[:,0]"
   ]
  },
  {
   "cell_type": "markdown",
   "metadata": {},
   "source": [
    "### get the actual prediction result"
   ]
  },
  {
   "cell_type": "code",
   "execution_count": 16,
   "metadata": {},
   "outputs": [],
   "source": [
    "def getResult(array, threshold):\n",
    "    results = []\n",
    "    for value in array:\n",
    "        if value > threshold:\n",
    "            results.append(1)\n",
    "        else:\n",
    "            results.append(0)\n",
    "    results = np.array(results)\n",
    "    return results"
   ]
  },
  {
   "cell_type": "code",
   "execution_count": 17,
   "metadata": {},
   "outputs": [],
   "source": [
    "threshold = 0.5\n",
    "y_train_results = getResult(y_train_pred, threshold)\n",
    "y_validate_results = getResult(y_validate_pred, threshold)\n",
    "y_test_results = getResult(y_test_pred, threshold)"
   ]
  },
  {
   "cell_type": "markdown",
   "metadata": {},
   "source": [
    "### Get classification accuracy using accuracy_score from sklearn"
   ]
  },
  {
   "cell_type": "code",
   "execution_count": 18,
   "metadata": {},
   "outputs": [],
   "source": [
    "train_accuracy = accuracy_score(y_train, y_train_results)\n",
    "validate_accuracy = accuracy_score(y_validate, y_validate_results)\n",
    "test_accuracy = accuracy_score(y_test, y_test_results)"
   ]
  },
  {
   "cell_type": "code",
   "execution_count": 19,
   "metadata": {},
   "outputs": [
    {
     "name": "stdout",
     "output_type": "stream",
     "text": [
      "train accuracy: 0.9185811663721283\n",
      "validate accuracy: 0.9169611307420494\n",
      "test accuracy: 0.9037102473498233\n"
     ]
    }
   ],
   "source": [
    "print('train accuracy:', train_accuracy)\n",
    "print('validate accuracy:', validate_accuracy)\n",
    "print('test accuracy:', test_accuracy)"
   ]
  },
  {
   "cell_type": "code",
   "execution_count": null,
   "metadata": {},
   "outputs": [],
   "source": []
  },
  {
   "cell_type": "code",
   "execution_count": null,
   "metadata": {},
   "outputs": [],
   "source": []
  },
  {
   "cell_type": "code",
   "execution_count": 21,
   "metadata": {},
   "outputs": [
    {
     "data": {
      "image/png": "[encoded data removed]",
      "text/plain": [
       "<Figure size 576x576 with 1 Axes>"
      ]
     },
     "metadata": {},
     "output_type": "display_data"
    }
   ],
   "source": [
    "\n",
    "fpr, tpr, thresholds = roc_curve(y_test, y_test_pred) \n",
    "roc_auc = auc(fpr, tpr)\n",
    "\n",
    "plt.figure(figsize=[8,8])\n",
    "plt.plot(fpr, tpr, label='ROC curve (area = %0.2f)' % roc_auc, linewidth=4)\n",
    "plt.plot([0, 1], [0, 1], 'k--', linewidth=4)\n",
    "plt.xlim([-0.05, 1.0])\n",
    "plt.ylim([-0.05, 1.05])\n",
    "plt.xlabel('False Positive Rate', fontsize=18)\n",
    "plt.ylabel('True Positive Rate', fontsize=18)\n",
    "plt.title('Pneumonia Prediction', fontsize=18)\n",
    "plt.legend(loc=\"lower right\")\n",
    "plt.show()"
   ]
  },
  {
   "cell_type": "code",
   "execution_count": null,
   "metadata": {},
   "outputs": [],
   "source": []
  }
 ],
 "metadata": {
  "kernelspec": {
   "display_name": "Python 3",
   "language": "python",
   "name": "python3"
  },
  "language_info": {
   "codemirror_mode": {
    "name": "ipython",
    "version": 3
   },
   "file_extension": ".py",
   "mimetype": "text/x-python",
   "name": "python",
   "nbconvert_exporter": "python",
   "pygments_lexer": "ipython3",
   "version": "3.6.5"
  }
 },
 "nbformat": 4,
 "nbformat_minor": 2
}
