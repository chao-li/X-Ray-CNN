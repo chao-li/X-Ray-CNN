{
 "cells": [
  {
   "cell_type": "code",
   "execution_count": 1,
   "metadata": {},
   "outputs": [],
   "source": [
    "import numpy as np\n",
    "import pandas as pd\n",
    "import matplotlib.pyplot as plt\n",
    "from sklearn.metrics import recall_score\n",
    "%matplotlib inline"
   ]
  },
  {
   "cell_type": "markdown",
   "metadata": {},
   "source": [
    "## Loading Data"
   ]
  },
  {
   "cell_type": "code",
   "execution_count": 2,
   "metadata": {},
   "outputs": [],
   "source": [
    "path = '../image64/'"
   ]
  },
  {
   "cell_type": "code",
   "execution_count": 3,
   "metadata": {},
   "outputs": [],
   "source": [
    "X_train = np.load(path + 'X_train.npy')\n",
    "y_train = np.load(path + 'y_train.npy')\n",
    "\n",
    "X_validate = np.load(path + 'X_validate.npy')\n",
    "y_validate = np.load(path + 'y_validate.npy')\n",
    "\n",
    "X_test = np.load(path + 'X_test.npy')\n",
    "y_test = np.load(path + 'y_test.npy')"
   ]
  },
  {
   "cell_type": "markdown",
   "metadata": {},
   "source": [
    "## Reshaping"
   ]
  },
  {
   "cell_type": "code",
   "execution_count": 4,
   "metadata": {},
   "outputs": [
    {
     "data": {
      "text/plain": [
       "(7922, 64, 64, 1)"
      ]
     },
     "execution_count": 4,
     "metadata": {},
     "output_type": "execute_result"
    }
   ],
   "source": [
    "X_train.shape"
   ]
  },
  {
   "cell_type": "code",
   "execution_count": 5,
   "metadata": {},
   "outputs": [
    {
     "data": {
      "text/plain": [
       "(1132, 64, 64, 1)"
      ]
     },
     "execution_count": 5,
     "metadata": {},
     "output_type": "execute_result"
    }
   ],
   "source": [
    "X_test.shape"
   ]
  },
  {
   "cell_type": "code",
   "execution_count": 6,
   "metadata": {},
   "outputs": [
    {
     "data": {
      "text/plain": [
       "(2264, 64, 64, 1)"
      ]
     },
     "execution_count": 6,
     "metadata": {},
     "output_type": "execute_result"
    }
   ],
   "source": [
    "X_validate.shape"
   ]
  },
  {
   "cell_type": "code",
   "execution_count": null,
   "metadata": {},
   "outputs": [],
   "source": [
    "7922 + 1132 + 2264"
   ]
  },
  {
   "cell_type": "code",
   "execution_count": null,
   "metadata": {},
   "outputs": [],
   "source": [
    "7922/2"
   ]
  },
  {
   "cell_type": "code",
   "execution_count": 7,
   "metadata": {},
   "outputs": [],
   "source": [
    "X_train = np.reshape(X_train, (7922, 64*64*1))"
   ]
  },
  {
   "cell_type": "code",
   "execution_count": 8,
   "metadata": {},
   "outputs": [
    {
     "data": {
      "text/plain": [
       "(2264, 64, 64, 1)"
      ]
     },
     "execution_count": 8,
     "metadata": {},
     "output_type": "execute_result"
    }
   ],
   "source": [
    "X_validate.shape"
   ]
  },
  {
   "cell_type": "code",
   "execution_count": 9,
   "metadata": {},
   "outputs": [],
   "source": [
    "X_validate = np.reshape(X_validate, (2264, 64*64*1))"
   ]
  },
  {
   "cell_type": "code",
   "execution_count": 10,
   "metadata": {},
   "outputs": [
    {
     "data": {
      "text/plain": [
       "(1132, 64, 64, 1)"
      ]
     },
     "execution_count": 10,
     "metadata": {},
     "output_type": "execute_result"
    }
   ],
   "source": [
    "X_test.shape"
   ]
  },
  {
   "cell_type": "code",
   "execution_count": 11,
   "metadata": {},
   "outputs": [],
   "source": [
    "X_test = np.reshape(X_test, (1132, 64*64*1))"
   ]
  },
  {
   "cell_type": "markdown",
   "metadata": {},
   "source": [
    "## rescale all pixel by (1./255)"
   ]
  },
  {
   "cell_type": "code",
   "execution_count": 12,
   "metadata": {},
   "outputs": [],
   "source": [
    "X_train = X_train * (1./255)\n",
    "X_validate = X_validate * (1./255)\n",
    "X_test = X_test * (1./255)"
   ]
  },
  {
   "cell_type": "code",
   "execution_count": 13,
   "metadata": {},
   "outputs": [
    {
     "data": {
      "text/plain": [
       "(7922, 4096)"
      ]
     },
     "execution_count": 13,
     "metadata": {},
     "output_type": "execute_result"
    }
   ],
   "source": [
    "X_train.shape"
   ]
  },
  {
   "cell_type": "code",
   "execution_count": 14,
   "metadata": {},
   "outputs": [
    {
     "data": {
      "text/plain": [
       "(2264, 4096)"
      ]
     },
     "execution_count": 14,
     "metadata": {},
     "output_type": "execute_result"
    }
   ],
   "source": [
    "X_validate.shape"
   ]
  },
  {
   "cell_type": "code",
   "execution_count": 15,
   "metadata": {},
   "outputs": [
    {
     "data": {
      "text/plain": [
       "(1132, 4096)"
      ]
     },
     "execution_count": 15,
     "metadata": {},
     "output_type": "execute_result"
    }
   ],
   "source": [
    "X_test.shape"
   ]
  },
  {
   "cell_type": "markdown",
   "metadata": {},
   "source": [
    "## Feature Selection"
   ]
  },
  {
   "cell_type": "code",
   "execution_count": 16,
   "metadata": {},
   "outputs": [],
   "source": [
    "from sklearn.feature_selection import SelectKBest, f_classif"
   ]
  },
  {
   "cell_type": "code",
   "execution_count": 17,
   "metadata": {},
   "outputs": [],
   "source": [
    "######\n",
    "from sklearn.feature_selection import SelectKBest, f_classif\n",
    "skb = SelectKBest(f_classif)\n",
    "skb.fit(X_train, y_train)\n",
    "pixel_number = list(range(64*64))\n",
    "\n",
    "df_skb = pd.DataFrame({'pixel_number': pixel_number,\n",
    "                      'score': skb.scores_.tolist()}).sort_values('score', ascending = False)"
   ]
  },
  {
   "cell_type": "code",
   "execution_count": 18,
   "metadata": {},
   "outputs": [
    {
     "data": {
      "text/html": [
       "<div>\n",
       "<style scoped>\n",
       "    .dataframe tbody tr th:only-of-type {\n",
       "        vertical-align: middle;\n",
       "    }\n",
       "\n",
       "    .dataframe tbody tr th {\n",
       "        vertical-align: top;\n",
       "    }\n",
       "\n",
       "    .dataframe thead th {\n",
       "        text-align: right;\n",
       "    }\n",
       "</style>\n",
       "<table border=\"1\" class=\"dataframe\">\n",
       "  <thead>\n",
       "    <tr style=\"text-align: right;\">\n",
       "      <th></th>\n",
       "      <th>pixel_number</th>\n",
       "      <th>score</th>\n",
       "    </tr>\n",
       "  </thead>\n",
       "  <tbody>\n",
       "    <tr>\n",
       "      <th>1336</th>\n",
       "      <td>1336</td>\n",
       "      <td>1830.027733</td>\n",
       "    </tr>\n",
       "    <tr>\n",
       "      <th>1158</th>\n",
       "      <td>1158</td>\n",
       "      <td>1814.436081</td>\n",
       "    </tr>\n",
       "    <tr>\n",
       "      <th>1094</th>\n",
       "      <td>1094</td>\n",
       "      <td>1813.303381</td>\n",
       "    </tr>\n",
       "    <tr>\n",
       "      <th>1273</th>\n",
       "      <td>1273</td>\n",
       "      <td>1810.632012</td>\n",
       "    </tr>\n",
       "    <tr>\n",
       "      <th>1400</th>\n",
       "      <td>1400</td>\n",
       "      <td>1807.782228</td>\n",
       "    </tr>\n",
       "  </tbody>\n",
       "</table>\n",
       "</div>"
      ],
      "text/plain": [
       "      pixel_number        score\n",
       "1336          1336  1830.027733\n",
       "1158          1158  1814.436081\n",
       "1094          1094  1813.303381\n",
       "1273          1273  1810.632012\n",
       "1400          1400  1807.782228"
      ]
     },
     "execution_count": 18,
     "metadata": {},
     "output_type": "execute_result"
    }
   ],
   "source": [
    "df_skb.head()"
   ]
  },
  {
   "cell_type": "code",
   "execution_count": 19,
   "metadata": {},
   "outputs": [
    {
     "name": "stderr",
     "output_type": "stream",
     "text": [
      "/anaconda3/lib/python3.6/site-packages/scipy/stats/stats.py:1713: FutureWarning: Using a non-tuple sequence for multidimensional indexing is deprecated; use `arr[tuple(seq)]` instead of `arr[seq]`. In the future this will be interpreted as an array index, `arr[np.array(seq)]`, which will result either in an error or a different result.\n",
      "  return np.add.reduce(sorted[indexer] * weights, axis=axis) / sumval\n",
      "/anaconda3/lib/python3.6/site-packages/matplotlib/axes/_axes.py:6462: UserWarning: The 'normed' kwarg is deprecated, and has been replaced by the 'density' kwarg.\n",
      "  warnings.warn(\"The 'normed' kwarg is deprecated, and has been \"\n"
     ]
    },
    {
     "data": {
      "text/plain": [
       "Text(0,0.5,'Frequency')"
      ]
     },
     "execution_count": 19,
     "metadata": {},
     "output_type": "execute_result"
    },
    {
     "data": {
      "image/png": "[encoded data removed]",
      "text/plain": [
       "<Figure size 576x432 with 1 Axes>"
      ]
     },
     "metadata": {},
     "output_type": "display_data"
    }
   ],
   "source": [
    "import seaborn as sns\n",
    "fig, ax = plt.subplots(figsize=(8,6))\n",
    "ax = sns.distplot(df_skb.score.values)\n",
    "ax.set_xlabel(\"Select K Best Score\",fontsize=14)\n",
    "ax.set_ylabel(\"Frequency\",fontsize=14)\n",
    "#ax.xticks(fontsize = 13)\n",
    "#ax.yticks(fontsize = 13)"
   ]
  },
  {
   "cell_type": "code",
   "execution_count": 20,
   "metadata": {},
   "outputs": [
    {
     "data": {
      "text/plain": [
       "<matplotlib.axes._subplots.AxesSubplot at 0x1a5c306ac8>"
      ]
     },
     "execution_count": 20,
     "metadata": {},
     "output_type": "execute_result"
    },
    {
     "data": {
      "image/png": "[encoded data removed]",
      "text/plain": [
       "<Figure size 432x288 with 1 Axes>"
      ]
     },
     "metadata": {},
     "output_type": "display_data"
    }
   ],
   "source": [
    "df_skb.score.plot(kind = 'hist', bins = 50)"
   ]
  },
  {
   "cell_type": "code",
   "execution_count": 21,
   "metadata": {},
   "outputs": [
    {
     "data": {
      "text/html": [
       "<div>\n",
       "<style scoped>\n",
       "    .dataframe tbody tr th:only-of-type {\n",
       "        vertical-align: middle;\n",
       "    }\n",
       "\n",
       "    .dataframe tbody tr th {\n",
       "        vertical-align: top;\n",
       "    }\n",
       "\n",
       "    .dataframe thead th {\n",
       "        text-align: right;\n",
       "    }\n",
       "</style>\n",
       "<table border=\"1\" class=\"dataframe\">\n",
       "  <thead>\n",
       "    <tr style=\"text-align: right;\">\n",
       "      <th></th>\n",
       "      <th>pixel_number</th>\n",
       "      <th>score</th>\n",
       "    </tr>\n",
       "  </thead>\n",
       "  <tbody>\n",
       "    <tr>\n",
       "      <th>1336</th>\n",
       "      <td>1336</td>\n",
       "      <td>1830.027733</td>\n",
       "    </tr>\n",
       "    <tr>\n",
       "      <th>1158</th>\n",
       "      <td>1158</td>\n",
       "      <td>1814.436081</td>\n",
       "    </tr>\n",
       "    <tr>\n",
       "      <th>1094</th>\n",
       "      <td>1094</td>\n",
       "      <td>1813.303381</td>\n",
       "    </tr>\n",
       "    <tr>\n",
       "      <th>1273</th>\n",
       "      <td>1273</td>\n",
       "      <td>1810.632012</td>\n",
       "    </tr>\n",
       "    <tr>\n",
       "      <th>1400</th>\n",
       "      <td>1400</td>\n",
       "      <td>1807.782228</td>\n",
       "    </tr>\n",
       "  </tbody>\n",
       "</table>\n",
       "</div>"
      ],
      "text/plain": [
       "      pixel_number        score\n",
       "1336          1336  1830.027733\n",
       "1158          1158  1814.436081\n",
       "1094          1094  1813.303381\n",
       "1273          1273  1810.632012\n",
       "1400          1400  1807.782228"
      ]
     },
     "execution_count": 21,
     "metadata": {},
     "output_type": "execute_result"
    }
   ],
   "source": [
    "df_skb.head()"
   ]
  },
  {
   "cell_type": "code",
   "execution_count": 22,
   "metadata": {},
   "outputs": [],
   "source": [
    "pixel_wanted = df_skb[df_skb.score >= 500]['pixel_number'].values.tolist()"
   ]
  },
  {
   "cell_type": "code",
   "execution_count": 23,
   "metadata": {},
   "outputs": [
    {
     "data": {
      "text/plain": [
       "1068"
      ]
     },
     "execution_count": 23,
     "metadata": {},
     "output_type": "execute_result"
    }
   ],
   "source": [
    "len(pixel_wanted)"
   ]
  },
  {
   "cell_type": "code",
   "execution_count": null,
   "metadata": {},
   "outputs": [],
   "source": [
    "64*64"
   ]
  },
  {
   "cell_type": "markdown",
   "metadata": {},
   "source": [
    "## logistic regression"
   ]
  },
  {
   "cell_type": "code",
   "execution_count": null,
   "metadata": {},
   "outputs": [],
   "source": []
  },
  {
   "cell_type": "code",
   "execution_count": null,
   "metadata": {},
   "outputs": [],
   "source": [
    "# lr = LogisticRegression()\n",
    "# lr.fit(X_train,y_train)\n",
    "# print('train score', lr.score(X_train, y_train))\n",
    "# print('validation score', lr.score(X_validate, y_validate))\n",
    "# print('test score', lr.score(X_test, y_test))"
   ]
  },
  {
   "cell_type": "code",
   "execution_count": 24,
   "metadata": {},
   "outputs": [
    {
     "name": "stdout",
     "output_type": "stream",
     "text": [
      "train score 0.8574854834637717\n",
      "validation score 0.8277385159010601\n",
      "test score 0.8303886925795053\n"
     ]
    }
   ],
   "source": [
    "from sklearn.linear_model import LogisticRegression\n",
    "lr = LogisticRegression()\n",
    "lr.fit(X_train[:, pixel_wanted], y_train)\n",
    "print('train score', lr.score(X_train[:, pixel_wanted], y_train))\n",
    "print('validation score', lr.score(X_validate[:, pixel_wanted], y_validate))\n",
    "print('test score', lr.score(X_test[:, pixel_wanted], y_test))"
   ]
  },
  {
   "cell_type": "code",
   "execution_count": 25,
   "metadata": {},
   "outputs": [
    {
     "data": {
      "text/plain": [
       "0.8422115627366826"
      ]
     },
     "execution_count": 25,
     "metadata": {},
     "output_type": "execute_result"
    }
   ],
   "source": [
    "recall_score(y_train, lr.predict(X_train[:, pixel_wanted]))"
   ]
  },
  {
   "cell_type": "code",
   "execution_count": 26,
   "metadata": {},
   "outputs": [
    {
     "data": {
      "text/plain": [
       "0.8091872791519434"
      ]
     },
     "execution_count": 26,
     "metadata": {},
     "output_type": "execute_result"
    }
   ],
   "source": [
    "recall_score(y_validate, lr.predict(X_validate[:, pixel_wanted]))"
   ]
  },
  {
   "cell_type": "markdown",
   "metadata": {},
   "source": [
    "### SGD logistic regression"
   ]
  },
  {
   "cell_type": "code",
   "execution_count": 27,
   "metadata": {},
   "outputs": [],
   "source": [
    "from sklearn.linear_model import SGDClassifier"
   ]
  },
  {
   "cell_type": "code",
   "execution_count": null,
   "metadata": {},
   "outputs": [],
   "source": [
    "# SGD = SGDClassifier()\n",
    "# SGD.fit(X_train,y_train)\n",
    "# print('train score', SGD.score(X_train, y_train))\n",
    "# print('validation score', SGD.score(X_validate, y_validate))\n",
    "# print('test score', SGD.score(X_test, y_test))"
   ]
  },
  {
   "cell_type": "code",
   "execution_count": 32,
   "metadata": {},
   "outputs": [
    {
     "name": "stderr",
     "output_type": "stream",
     "text": [
      "/anaconda3/lib/python3.6/site-packages/sklearn/linear_model/stochastic_gradient.py:128: FutureWarning: max_iter and tol parameters have been added in <class 'sklearn.linear_model.stochastic_gradient.SGDClassifier'> in 0.19. If both are left unset, they default to max_iter=5 and tol=None. If tol is not None, max_iter defaults to max_iter=1000. From 0.21, default max_iter will be 1000, and default tol will be 1e-3.\n",
      "  \"and default tol will be 1e-3.\" % type(self), FutureWarning)\n"
     ]
    },
    {
     "name": "stdout",
     "output_type": "stream",
     "text": [
      "train score 0.8338803332491795\n",
      "validation score 0.8118374558303887\n",
      "test score 0.8180212014134276\n"
     ]
    }
   ],
   "source": [
    "SGD = SGDClassifier(loss = 'log', random_state = 0)\n",
    "SGD.fit(X_train[:, pixel_wanted],y_train)\n",
    "print('train score', SGD.score(X_train[:, pixel_wanted], y_train))\n",
    "print('validation score', SGD.score(X_validate[:, pixel_wanted], y_validate))\n",
    "print('test score', SGD.score(X_test[:, pixel_wanted], y_test))"
   ]
  },
  {
   "cell_type": "code",
   "execution_count": null,
   "metadata": {},
   "outputs": [],
   "source": [
    "np.arange(0, 1.2, 0.2)"
   ]
  },
  {
   "cell_type": "code",
   "execution_count": 73,
   "metadata": {},
   "outputs": [
    {
     "data": {
      "text/plain": [
       "array([[914, 218],\n",
       "       [208, 924]])"
      ]
     },
     "execution_count": 73,
     "metadata": {},
     "output_type": "execute_result"
    }
   ],
   "source": [
    "from sklearn.metrics import confusion_matrix\n",
    "from sklearn.metrics import classification_report\n",
    "\n",
    "confusion_matrix(y_validate, SGD.predict(X_validate[:, pixel_wanted]))"
   ]
  },
  {
   "cell_type": "code",
   "execution_count": 74,
   "metadata": {},
   "outputs": [
    {
     "name": "stdout",
     "output_type": "stream",
     "text": [
      "             precision    recall  f1-score   support\n",
      "\n",
      "          0       0.81      0.81      0.81      1132\n",
      "          1       0.81      0.82      0.81      1132\n",
      "\n",
      "avg / total       0.81      0.81      0.81      2264\n",
      "\n"
     ]
    }
   ],
   "source": [
    "print(classification_report(y_validate, SGD.predict(X_validate[:, pixel_wanted])))"
   ]
  },
  {
   "cell_type": "code",
   "execution_count": 75,
   "metadata": {},
   "outputs": [
    {
     "data": {
      "text/plain": [
       "0.8417066397374401"
      ]
     },
     "execution_count": 75,
     "metadata": {},
     "output_type": "execute_result"
    }
   ],
   "source": [
    "recall_score(y_train, SGD.predict(X_train[:, pixel_wanted]))"
   ]
  },
  {
   "cell_type": "code",
   "execution_count": 76,
   "metadata": {},
   "outputs": [
    {
     "data": {
      "text/plain": [
       "0.8162544169611308"
      ]
     },
     "execution_count": 76,
     "metadata": {},
     "output_type": "execute_result"
    }
   ],
   "source": [
    "recall_score(y_validate, SGD.predict(X_validate[:, pixel_wanted]))"
   ]
  },
  {
   "cell_type": "code",
   "execution_count": 37,
   "metadata": {},
   "outputs": [
    {
     "data": {
      "image/png": "[encoded data removed]",
      "text/plain": [
       "<Figure size 576x576 with 1 Axes>"
      ]
     },
     "metadata": {},
     "output_type": "display_data"
    }
   ],
   "source": [
    "from sklearn.metrics import roc_curve, auc\n",
    "fpr, tpr, thresholds = roc_curve(y_validate, SGD.predict_proba(X_validate[:, pixel_wanted])[:,1]) \n",
    "roc_auc = auc(fpr, tpr)\n",
    "\n",
    "plt.figure(figsize=[8,8])\n",
    "plt.plot(fpr, tpr, label='ROC curve (area = %0.2f)' % roc_auc, linewidth=4)\n",
    "plt.plot([0, 1], [0, 1], 'k--', linewidth=4)\n",
    "plt.xlim([-0.05, 1.0])\n",
    "plt.ylim([-0.05, 1.05])\n",
    "plt.xlabel('False Positive Rate', fontsize=18)\n",
    "plt.ylabel('True Positive Rate', fontsize=18)\n",
    "plt.title('Pneumonia Detection', fontsize=18)\n",
    "plt.legend(loc=\"lower right\")\n",
    "plt.show()"
   ]
  },
  {
   "cell_type": "code",
   "execution_count": 43,
   "metadata": {},
   "outputs": [],
   "source": [
    "from sklearn.model_selection import GridSearchCV\n",
    "params = {'penalty': ['l1','l2'],\n",
    "         'l1_ratio': np.arange(0, 1.1, 0.1)}\n",
    "\n",
    "SGD2 = SGDClassifier(loss = 'log')\n",
    "sgd_gs = GridSearchCV(SGD2, params, cv = 5, n_jobs = -1)"
   ]
  },
  {
   "cell_type": "code",
   "execution_count": 44,
   "metadata": {},
   "outputs": [
    {
     "name": "stderr",
     "output_type": "stream",
     "text": [
      "/anaconda3/lib/python3.6/site-packages/sklearn/linear_model/stochastic_gradient.py:128: FutureWarning: max_iter and tol parameters have been added in <class 'sklearn.linear_model.stochastic_gradient.SGDClassifier'> in 0.19. If both are left unset, they default to max_iter=5 and tol=None. If tol is not None, max_iter defaults to max_iter=1000. From 0.21, default max_iter will be 1000, and default tol will be 1e-3.\n",
      "  \"and default tol will be 1e-3.\" % type(self), FutureWarning)\n",
      "/anaconda3/lib/python3.6/site-packages/sklearn/linear_model/stochastic_gradient.py:128: FutureWarning: max_iter and tol parameters have been added in <class 'sklearn.linear_model.stochastic_gradient.SGDClassifier'> in 0.19. If both are left unset, they default to max_iter=5 and tol=None. If tol is not None, max_iter defaults to max_iter=1000. From 0.21, default max_iter will be 1000, and default tol will be 1e-3.\n",
      "  \"and default tol will be 1e-3.\" % type(self), FutureWarning)\n",
      "/anaconda3/lib/python3.6/site-packages/sklearn/linear_model/stochastic_gradient.py:128: FutureWarning: max_iter and tol parameters have been added in <class 'sklearn.linear_model.stochastic_gradient.SGDClassifier'> in 0.19. If both are left unset, they default to max_iter=5 and tol=None. If tol is not None, max_iter defaults to max_iter=1000. From 0.21, default max_iter will be 1000, and default tol will be 1e-3.\n",
      "  \"and default tol will be 1e-3.\" % type(self), FutureWarning)\n",
      "/anaconda3/lib/python3.6/site-packages/sklearn/linear_model/stochastic_gradient.py:128: FutureWarning: max_iter and tol parameters have been added in <class 'sklearn.linear_model.stochastic_gradient.SGDClassifier'> in 0.19. If both are left unset, they default to max_iter=5 and tol=None. If tol is not None, max_iter defaults to max_iter=1000. From 0.21, default max_iter will be 1000, and default tol will be 1e-3.\n",
      "  \"and default tol will be 1e-3.\" % type(self), FutureWarning)\n",
      "/anaconda3/lib/python3.6/site-packages/sklearn/linear_model/stochastic_gradient.py:128: FutureWarning: max_iter and tol parameters have been added in <class 'sklearn.linear_model.stochastic_gradient.SGDClassifier'> in 0.19. If both are left unset, they default to max_iter=5 and tol=None. If tol is not None, max_iter defaults to max_iter=1000. From 0.21, default max_iter will be 1000, and default tol will be 1e-3.\n",
      "  \"and default tol will be 1e-3.\" % type(self), FutureWarning)\n",
      "/anaconda3/lib/python3.6/site-packages/sklearn/linear_model/stochastic_gradient.py:128: FutureWarning: max_iter and tol parameters have been added in <class 'sklearn.linear_model.stochastic_gradient.SGDClassifier'> in 0.19. If both are left unset, they default to max_iter=5 and tol=None. If tol is not None, max_iter defaults to max_iter=1000. From 0.21, default max_iter will be 1000, and default tol will be 1e-3.\n",
      "  \"and default tol will be 1e-3.\" % type(self), FutureWarning)\n",
      "/anaconda3/lib/python3.6/site-packages/sklearn/linear_model/stochastic_gradient.py:128: FutureWarning: max_iter and tol parameters have been added in <class 'sklearn.linear_model.stochastic_gradient.SGDClassifier'> in 0.19. If both are left unset, they default to max_iter=5 and tol=None. If tol is not None, max_iter defaults to max_iter=1000. From 0.21, default max_iter will be 1000, and default tol will be 1e-3.\n",
      "  \"and default tol will be 1e-3.\" % type(self), FutureWarning)\n",
      "/anaconda3/lib/python3.6/site-packages/sklearn/linear_model/stochastic_gradient.py:128: FutureWarning: max_iter and tol parameters have been added in <class 'sklearn.linear_model.stochastic_gradient.SGDClassifier'> in 0.19. If both are left unset, they default to max_iter=5 and tol=None. If tol is not None, max_iter defaults to max_iter=1000. From 0.21, default max_iter will be 1000, and default tol will be 1e-3.\n",
      "  \"and default tol will be 1e-3.\" % type(self), FutureWarning)\n",
      "/anaconda3/lib/python3.6/site-packages/sklearn/linear_model/stochastic_gradient.py:128: FutureWarning: max_iter and tol parameters have been added in <class 'sklearn.linear_model.stochastic_gradient.SGDClassifier'> in 0.19. If both are left unset, they default to max_iter=5 and tol=None. If tol is not None, max_iter defaults to max_iter=1000. From 0.21, default max_iter will be 1000, and default tol will be 1e-3.\n",
      "  \"and default tol will be 1e-3.\" % type(self), FutureWarning)\n",
      "/anaconda3/lib/python3.6/site-packages/sklearn/linear_model/stochastic_gradient.py:128: FutureWarning: max_iter and tol parameters have been added in <class 'sklearn.linear_model.stochastic_gradient.SGDClassifier'> in 0.19. If both are left unset, they default to max_iter=5 and tol=None. If tol is not None, max_iter defaults to max_iter=1000. From 0.21, default max_iter will be 1000, and default tol will be 1e-3.\n",
      "  \"and default tol will be 1e-3.\" % type(self), FutureWarning)\n",
      "/anaconda3/lib/python3.6/site-packages/sklearn/linear_model/stochastic_gradient.py:128: FutureWarning: max_iter and tol parameters have been added in <class 'sklearn.linear_model.stochastic_gradient.SGDClassifier'> in 0.19. If both are left unset, they default to max_iter=5 and tol=None. If tol is not None, max_iter defaults to max_iter=1000. From 0.21, default max_iter will be 1000, and default tol will be 1e-3.\n",
      "  \"and default tol will be 1e-3.\" % type(self), FutureWarning)\n",
      "/anaconda3/lib/python3.6/site-packages/sklearn/linear_model/stochastic_gradient.py:128: FutureWarning: max_iter and tol parameters have been added in <class 'sklearn.linear_model.stochastic_gradient.SGDClassifier'> in 0.19. If both are left unset, they default to max_iter=5 and tol=None. If tol is not None, max_iter defaults to max_iter=1000. From 0.21, default max_iter will be 1000, and default tol will be 1e-3.\n",
      "  \"and default tol will be 1e-3.\" % type(self), FutureWarning)\n",
      "/anaconda3/lib/python3.6/site-packages/sklearn/linear_model/stochastic_gradient.py:128: FutureWarning: max_iter and tol parameters have been added in <class 'sklearn.linear_model.stochastic_gradient.SGDClassifier'> in 0.19. If both are left unset, they default to max_iter=5 and tol=None. If tol is not None, max_iter defaults to max_iter=1000. From 0.21, default max_iter will be 1000, and default tol will be 1e-3.\n",
      "  \"and default tol will be 1e-3.\" % type(self), FutureWarning)\n",
      "/anaconda3/lib/python3.6/site-packages/sklearn/linear_model/stochastic_gradient.py:128: FutureWarning: max_iter and tol parameters have been added in <class 'sklearn.linear_model.stochastic_gradient.SGDClassifier'> in 0.19. If both are left unset, they default to max_iter=5 and tol=None. If tol is not None, max_iter defaults to max_iter=1000. From 0.21, default max_iter will be 1000, and default tol will be 1e-3.\n",
      "  \"and default tol will be 1e-3.\" % type(self), FutureWarning)\n",
      "/anaconda3/lib/python3.6/site-packages/sklearn/linear_model/stochastic_gradient.py:128: FutureWarning: max_iter and tol parameters have been added in <class 'sklearn.linear_model.stochastic_gradient.SGDClassifier'> in 0.19. If both are left unset, they default to max_iter=5 and tol=None. If tol is not None, max_iter defaults to max_iter=1000. From 0.21, default max_iter will be 1000, and default tol will be 1e-3.\n",
      "  \"and default tol will be 1e-3.\" % type(self), FutureWarning)\n",
      "/anaconda3/lib/python3.6/site-packages/sklearn/linear_model/stochastic_gradient.py:128: FutureWarning: max_iter and tol parameters have been added in <class 'sklearn.linear_model.stochastic_gradient.SGDClassifier'> in 0.19. If both are left unset, they default to max_iter=5 and tol=None. If tol is not None, max_iter defaults to max_iter=1000. From 0.21, default max_iter will be 1000, and default tol will be 1e-3.\n",
      "  \"and default tol will be 1e-3.\" % type(self), FutureWarning)\n",
      "/anaconda3/lib/python3.6/site-packages/sklearn/linear_model/stochastic_gradient.py:128: FutureWarning: max_iter and tol parameters have been added in <class 'sklearn.linear_model.stochastic_gradient.SGDClassifier'> in 0.19. If both are left unset, they default to max_iter=5 and tol=None. If tol is not None, max_iter defaults to max_iter=1000. From 0.21, default max_iter will be 1000, and default tol will be 1e-3.\n",
      "  \"and default tol will be 1e-3.\" % type(self), FutureWarning)\n",
      "/anaconda3/lib/python3.6/site-packages/sklearn/linear_model/stochastic_gradient.py:128: FutureWarning: max_iter and tol parameters have been added in <class 'sklearn.linear_model.stochastic_gradient.SGDClassifier'> in 0.19. If both are left unset, they default to max_iter=5 and tol=None. If tol is not None, max_iter defaults to max_iter=1000. From 0.21, default max_iter will be 1000, and default tol will be 1e-3.\n",
      "  \"and default tol will be 1e-3.\" % type(self), FutureWarning)\n"
     ]
    },
    {
     "name": "stderr",
     "output_type": "stream",
     "text": [
      "/anaconda3/lib/python3.6/site-packages/sklearn/linear_model/stochastic_gradient.py:128: FutureWarning: max_iter and tol parameters have been added in <class 'sklearn.linear_model.stochastic_gradient.SGDClassifier'> in 0.19. If both are left unset, they default to max_iter=5 and tol=None. If tol is not None, max_iter defaults to max_iter=1000. From 0.21, default max_iter will be 1000, and default tol will be 1e-3.\n",
      "  \"and default tol will be 1e-3.\" % type(self), FutureWarning)\n",
      "/anaconda3/lib/python3.6/site-packages/sklearn/linear_model/stochastic_gradient.py:128: FutureWarning: max_iter and tol parameters have been added in <class 'sklearn.linear_model.stochastic_gradient.SGDClassifier'> in 0.19. If both are left unset, they default to max_iter=5 and tol=None. If tol is not None, max_iter defaults to max_iter=1000. From 0.21, default max_iter will be 1000, and default tol will be 1e-3.\n",
      "  \"and default tol will be 1e-3.\" % type(self), FutureWarning)\n",
      "/anaconda3/lib/python3.6/site-packages/sklearn/linear_model/stochastic_gradient.py:128: FutureWarning: max_iter and tol parameters have been added in <class 'sklearn.linear_model.stochastic_gradient.SGDClassifier'> in 0.19. If both are left unset, they default to max_iter=5 and tol=None. If tol is not None, max_iter defaults to max_iter=1000. From 0.21, default max_iter will be 1000, and default tol will be 1e-3.\n",
      "  \"and default tol will be 1e-3.\" % type(self), FutureWarning)\n",
      "/anaconda3/lib/python3.6/site-packages/sklearn/linear_model/stochastic_gradient.py:128: FutureWarning: max_iter and tol parameters have been added in <class 'sklearn.linear_model.stochastic_gradient.SGDClassifier'> in 0.19. If both are left unset, they default to max_iter=5 and tol=None. If tol is not None, max_iter defaults to max_iter=1000. From 0.21, default max_iter will be 1000, and default tol will be 1e-3.\n",
      "  \"and default tol will be 1e-3.\" % type(self), FutureWarning)\n",
      "/anaconda3/lib/python3.6/site-packages/sklearn/linear_model/stochastic_gradient.py:128: FutureWarning: max_iter and tol parameters have been added in <class 'sklearn.linear_model.stochastic_gradient.SGDClassifier'> in 0.19. If both are left unset, they default to max_iter=5 and tol=None. If tol is not None, max_iter defaults to max_iter=1000. From 0.21, default max_iter will be 1000, and default tol will be 1e-3.\n",
      "  \"and default tol will be 1e-3.\" % type(self), FutureWarning)\n",
      "/anaconda3/lib/python3.6/site-packages/sklearn/linear_model/stochastic_gradient.py:128: FutureWarning: max_iter and tol parameters have been added in <class 'sklearn.linear_model.stochastic_gradient.SGDClassifier'> in 0.19. If both are left unset, they default to max_iter=5 and tol=None. If tol is not None, max_iter defaults to max_iter=1000. From 0.21, default max_iter will be 1000, and default tol will be 1e-3.\n",
      "  \"and default tol will be 1e-3.\" % type(self), FutureWarning)\n",
      "/anaconda3/lib/python3.6/site-packages/sklearn/linear_model/stochastic_gradient.py:128: FutureWarning: max_iter and tol parameters have been added in <class 'sklearn.linear_model.stochastic_gradient.SGDClassifier'> in 0.19. If both are left unset, they default to max_iter=5 and tol=None. If tol is not None, max_iter defaults to max_iter=1000. From 0.21, default max_iter will be 1000, and default tol will be 1e-3.\n",
      "  \"and default tol will be 1e-3.\" % type(self), FutureWarning)\n",
      "/anaconda3/lib/python3.6/site-packages/sklearn/linear_model/stochastic_gradient.py:128: FutureWarning: max_iter and tol parameters have been added in <class 'sklearn.linear_model.stochastic_gradient.SGDClassifier'> in 0.19. If both are left unset, they default to max_iter=5 and tol=None. If tol is not None, max_iter defaults to max_iter=1000. From 0.21, default max_iter will be 1000, and default tol will be 1e-3.\n",
      "  \"and default tol will be 1e-3.\" % type(self), FutureWarning)\n",
      "/anaconda3/lib/python3.6/site-packages/sklearn/linear_model/stochastic_gradient.py:128: FutureWarning: max_iter and tol parameters have been added in <class 'sklearn.linear_model.stochastic_gradient.SGDClassifier'> in 0.19. If both are left unset, they default to max_iter=5 and tol=None. If tol is not None, max_iter defaults to max_iter=1000. From 0.21, default max_iter will be 1000, and default tol will be 1e-3.\n",
      "  \"and default tol will be 1e-3.\" % type(self), FutureWarning)\n",
      "/anaconda3/lib/python3.6/site-packages/sklearn/linear_model/stochastic_gradient.py:128: FutureWarning: max_iter and tol parameters have been added in <class 'sklearn.linear_model.stochastic_gradient.SGDClassifier'> in 0.19. If both are left unset, they default to max_iter=5 and tol=None. If tol is not None, max_iter defaults to max_iter=1000. From 0.21, default max_iter will be 1000, and default tol will be 1e-3.\n",
      "  \"and default tol will be 1e-3.\" % type(self), FutureWarning)\n",
      "/anaconda3/lib/python3.6/site-packages/sklearn/linear_model/stochastic_gradient.py:128: FutureWarning: max_iter and tol parameters have been added in <class 'sklearn.linear_model.stochastic_gradient.SGDClassifier'> in 0.19. If both are left unset, they default to max_iter=5 and tol=None. If tol is not None, max_iter defaults to max_iter=1000. From 0.21, default max_iter will be 1000, and default tol will be 1e-3.\n",
      "  \"and default tol will be 1e-3.\" % type(self), FutureWarning)\n",
      "/anaconda3/lib/python3.6/site-packages/sklearn/linear_model/stochastic_gradient.py:128: FutureWarning: max_iter and tol parameters have been added in <class 'sklearn.linear_model.stochastic_gradient.SGDClassifier'> in 0.19. If both are left unset, they default to max_iter=5 and tol=None. If tol is not None, max_iter defaults to max_iter=1000. From 0.21, default max_iter will be 1000, and default tol will be 1e-3.\n",
      "  \"and default tol will be 1e-3.\" % type(self), FutureWarning)\n",
      "/anaconda3/lib/python3.6/site-packages/sklearn/linear_model/stochastic_gradient.py:128: FutureWarning: max_iter and tol parameters have been added in <class 'sklearn.linear_model.stochastic_gradient.SGDClassifier'> in 0.19. If both are left unset, they default to max_iter=5 and tol=None. If tol is not None, max_iter defaults to max_iter=1000. From 0.21, default max_iter will be 1000, and default tol will be 1e-3.\n",
      "  \"and default tol will be 1e-3.\" % type(self), FutureWarning)\n",
      "/anaconda3/lib/python3.6/site-packages/sklearn/linear_model/stochastic_gradient.py:128: FutureWarning: max_iter and tol parameters have been added in <class 'sklearn.linear_model.stochastic_gradient.SGDClassifier'> in 0.19. If both are left unset, they default to max_iter=5 and tol=None. If tol is not None, max_iter defaults to max_iter=1000. From 0.21, default max_iter will be 1000, and default tol will be 1e-3.\n",
      "  \"and default tol will be 1e-3.\" % type(self), FutureWarning)\n",
      "/anaconda3/lib/python3.6/site-packages/sklearn/linear_model/stochastic_gradient.py:128: FutureWarning: max_iter and tol parameters have been added in <class 'sklearn.linear_model.stochastic_gradient.SGDClassifier'> in 0.19. If both are left unset, they default to max_iter=5 and tol=None. If tol is not None, max_iter defaults to max_iter=1000. From 0.21, default max_iter will be 1000, and default tol will be 1e-3.\n",
      "  \"and default tol will be 1e-3.\" % type(self), FutureWarning)\n",
      "/anaconda3/lib/python3.6/site-packages/sklearn/linear_model/stochastic_gradient.py:128: FutureWarning: max_iter and tol parameters have been added in <class 'sklearn.linear_model.stochastic_gradient.SGDClassifier'> in 0.19. If both are left unset, they default to max_iter=5 and tol=None. If tol is not None, max_iter defaults to max_iter=1000. From 0.21, default max_iter will be 1000, and default tol will be 1e-3.\n",
      "  \"and default tol will be 1e-3.\" % type(self), FutureWarning)\n",
      "/anaconda3/lib/python3.6/site-packages/sklearn/linear_model/stochastic_gradient.py:128: FutureWarning: max_iter and tol parameters have been added in <class 'sklearn.linear_model.stochastic_gradient.SGDClassifier'> in 0.19. If both are left unset, they default to max_iter=5 and tol=None. If tol is not None, max_iter defaults to max_iter=1000. From 0.21, default max_iter will be 1000, and default tol will be 1e-3.\n",
      "  \"and default tol will be 1e-3.\" % type(self), FutureWarning)\n",
      "/anaconda3/lib/python3.6/site-packages/sklearn/linear_model/stochastic_gradient.py:128: FutureWarning: max_iter and tol parameters have been added in <class 'sklearn.linear_model.stochastic_gradient.SGDClassifier'> in 0.19. If both are left unset, they default to max_iter=5 and tol=None. If tol is not None, max_iter defaults to max_iter=1000. From 0.21, default max_iter will be 1000, and default tol will be 1e-3.\n",
      "  \"and default tol will be 1e-3.\" % type(self), FutureWarning)\n"
     ]
    },
    {
     "name": "stderr",
     "output_type": "stream",
     "text": [
      "/anaconda3/lib/python3.6/site-packages/sklearn/linear_model/stochastic_gradient.py:128: FutureWarning: max_iter and tol parameters have been added in <class 'sklearn.linear_model.stochastic_gradient.SGDClassifier'> in 0.19. If both are left unset, they default to max_iter=5 and tol=None. If tol is not None, max_iter defaults to max_iter=1000. From 0.21, default max_iter will be 1000, and default tol will be 1e-3.\n",
      "  \"and default tol will be 1e-3.\" % type(self), FutureWarning)\n",
      "/anaconda3/lib/python3.6/site-packages/sklearn/linear_model/stochastic_gradient.py:128: FutureWarning: max_iter and tol parameters have been added in <class 'sklearn.linear_model.stochastic_gradient.SGDClassifier'> in 0.19. If both are left unset, they default to max_iter=5 and tol=None. If tol is not None, max_iter defaults to max_iter=1000. From 0.21, default max_iter will be 1000, and default tol will be 1e-3.\n",
      "  \"and default tol will be 1e-3.\" % type(self), FutureWarning)\n",
      "/anaconda3/lib/python3.6/site-packages/sklearn/linear_model/stochastic_gradient.py:128: FutureWarning: max_iter and tol parameters have been added in <class 'sklearn.linear_model.stochastic_gradient.SGDClassifier'> in 0.19. If both are left unset, they default to max_iter=5 and tol=None. If tol is not None, max_iter defaults to max_iter=1000. From 0.21, default max_iter will be 1000, and default tol will be 1e-3.\n",
      "  \"and default tol will be 1e-3.\" % type(self), FutureWarning)\n",
      "/anaconda3/lib/python3.6/site-packages/sklearn/linear_model/stochastic_gradient.py:128: FutureWarning: max_iter and tol parameters have been added in <class 'sklearn.linear_model.stochastic_gradient.SGDClassifier'> in 0.19. If both are left unset, they default to max_iter=5 and tol=None. If tol is not None, max_iter defaults to max_iter=1000. From 0.21, default max_iter will be 1000, and default tol will be 1e-3.\n",
      "  \"and default tol will be 1e-3.\" % type(self), FutureWarning)\n",
      "/anaconda3/lib/python3.6/site-packages/sklearn/linear_model/stochastic_gradient.py:128: FutureWarning: max_iter and tol parameters have been added in <class 'sklearn.linear_model.stochastic_gradient.SGDClassifier'> in 0.19. If both are left unset, they default to max_iter=5 and tol=None. If tol is not None, max_iter defaults to max_iter=1000. From 0.21, default max_iter will be 1000, and default tol will be 1e-3.\n",
      "  \"and default tol will be 1e-3.\" % type(self), FutureWarning)\n",
      "/anaconda3/lib/python3.6/site-packages/sklearn/linear_model/stochastic_gradient.py:128: FutureWarning: max_iter and tol parameters have been added in <class 'sklearn.linear_model.stochastic_gradient.SGDClassifier'> in 0.19. If both are left unset, they default to max_iter=5 and tol=None. If tol is not None, max_iter defaults to max_iter=1000. From 0.21, default max_iter will be 1000, and default tol will be 1e-3.\n",
      "  \"and default tol will be 1e-3.\" % type(self), FutureWarning)\n",
      "/anaconda3/lib/python3.6/site-packages/sklearn/linear_model/stochastic_gradient.py:128: FutureWarning: max_iter and tol parameters have been added in <class 'sklearn.linear_model.stochastic_gradient.SGDClassifier'> in 0.19. If both are left unset, they default to max_iter=5 and tol=None. If tol is not None, max_iter defaults to max_iter=1000. From 0.21, default max_iter will be 1000, and default tol will be 1e-3.\n",
      "  \"and default tol will be 1e-3.\" % type(self), FutureWarning)\n",
      "/anaconda3/lib/python3.6/site-packages/sklearn/linear_model/stochastic_gradient.py:128: FutureWarning: max_iter and tol parameters have been added in <class 'sklearn.linear_model.stochastic_gradient.SGDClassifier'> in 0.19. If both are left unset, they default to max_iter=5 and tol=None. If tol is not None, max_iter defaults to max_iter=1000. From 0.21, default max_iter will be 1000, and default tol will be 1e-3.\n",
      "  \"and default tol will be 1e-3.\" % type(self), FutureWarning)\n",
      "/anaconda3/lib/python3.6/site-packages/sklearn/linear_model/stochastic_gradient.py:128: FutureWarning: max_iter and tol parameters have been added in <class 'sklearn.linear_model.stochastic_gradient.SGDClassifier'> in 0.19. If both are left unset, they default to max_iter=5 and tol=None. If tol is not None, max_iter defaults to max_iter=1000. From 0.21, default max_iter will be 1000, and default tol will be 1e-3.\n",
      "  \"and default tol will be 1e-3.\" % type(self), FutureWarning)\n",
      "/anaconda3/lib/python3.6/site-packages/sklearn/linear_model/stochastic_gradient.py:128: FutureWarning: max_iter and tol parameters have been added in <class 'sklearn.linear_model.stochastic_gradient.SGDClassifier'> in 0.19. If both are left unset, they default to max_iter=5 and tol=None. If tol is not None, max_iter defaults to max_iter=1000. From 0.21, default max_iter will be 1000, and default tol will be 1e-3.\n",
      "  \"and default tol will be 1e-3.\" % type(self), FutureWarning)\n",
      "/anaconda3/lib/python3.6/site-packages/sklearn/linear_model/stochastic_gradient.py:128: FutureWarning: max_iter and tol parameters have been added in <class 'sklearn.linear_model.stochastic_gradient.SGDClassifier'> in 0.19. If both are left unset, they default to max_iter=5 and tol=None. If tol is not None, max_iter defaults to max_iter=1000. From 0.21, default max_iter will be 1000, and default tol will be 1e-3.\n",
      "  \"and default tol will be 1e-3.\" % type(self), FutureWarning)\n",
      "/anaconda3/lib/python3.6/site-packages/sklearn/linear_model/stochastic_gradient.py:128: FutureWarning: max_iter and tol parameters have been added in <class 'sklearn.linear_model.stochastic_gradient.SGDClassifier'> in 0.19. If both are left unset, they default to max_iter=5 and tol=None. If tol is not None, max_iter defaults to max_iter=1000. From 0.21, default max_iter will be 1000, and default tol will be 1e-3.\n",
      "  \"and default tol will be 1e-3.\" % type(self), FutureWarning)\n",
      "/anaconda3/lib/python3.6/site-packages/sklearn/linear_model/stochastic_gradient.py:128: FutureWarning: max_iter and tol parameters have been added in <class 'sklearn.linear_model.stochastic_gradient.SGDClassifier'> in 0.19. If both are left unset, they default to max_iter=5 and tol=None. If tol is not None, max_iter defaults to max_iter=1000. From 0.21, default max_iter will be 1000, and default tol will be 1e-3.\n",
      "  \"and default tol will be 1e-3.\" % type(self), FutureWarning)\n",
      "/anaconda3/lib/python3.6/site-packages/sklearn/linear_model/stochastic_gradient.py:128: FutureWarning: max_iter and tol parameters have been added in <class 'sklearn.linear_model.stochastic_gradient.SGDClassifier'> in 0.19. If both are left unset, they default to max_iter=5 and tol=None. If tol is not None, max_iter defaults to max_iter=1000. From 0.21, default max_iter will be 1000, and default tol will be 1e-3.\n",
      "  \"and default tol will be 1e-3.\" % type(self), FutureWarning)\n",
      "/anaconda3/lib/python3.6/site-packages/sklearn/linear_model/stochastic_gradient.py:128: FutureWarning: max_iter and tol parameters have been added in <class 'sklearn.linear_model.stochastic_gradient.SGDClassifier'> in 0.19. If both are left unset, they default to max_iter=5 and tol=None. If tol is not None, max_iter defaults to max_iter=1000. From 0.21, default max_iter will be 1000, and default tol will be 1e-3.\n",
      "  \"and default tol will be 1e-3.\" % type(self), FutureWarning)\n",
      "/anaconda3/lib/python3.6/site-packages/sklearn/linear_model/stochastic_gradient.py:128: FutureWarning: max_iter and tol parameters have been added in <class 'sklearn.linear_model.stochastic_gradient.SGDClassifier'> in 0.19. If both are left unset, they default to max_iter=5 and tol=None. If tol is not None, max_iter defaults to max_iter=1000. From 0.21, default max_iter will be 1000, and default tol will be 1e-3.\n",
      "  \"and default tol will be 1e-3.\" % type(self), FutureWarning)\n",
      "/anaconda3/lib/python3.6/site-packages/sklearn/linear_model/stochastic_gradient.py:128: FutureWarning: max_iter and tol parameters have been added in <class 'sklearn.linear_model.stochastic_gradient.SGDClassifier'> in 0.19. If both are left unset, they default to max_iter=5 and tol=None. If tol is not None, max_iter defaults to max_iter=1000. From 0.21, default max_iter will be 1000, and default tol will be 1e-3.\n",
      "  \"and default tol will be 1e-3.\" % type(self), FutureWarning)\n",
      "/anaconda3/lib/python3.6/site-packages/sklearn/linear_model/stochastic_gradient.py:128: FutureWarning: max_iter and tol parameters have been added in <class 'sklearn.linear_model.stochastic_gradient.SGDClassifier'> in 0.19. If both are left unset, they default to max_iter=5 and tol=None. If tol is not None, max_iter defaults to max_iter=1000. From 0.21, default max_iter will be 1000, and default tol will be 1e-3.\n",
      "  \"and default tol will be 1e-3.\" % type(self), FutureWarning)\n"
     ]
    },
    {
     "name": "stderr",
     "output_type": "stream",
     "text": [
      "/anaconda3/lib/python3.6/site-packages/sklearn/linear_model/stochastic_gradient.py:128: FutureWarning: max_iter and tol parameters have been added in <class 'sklearn.linear_model.stochastic_gradient.SGDClassifier'> in 0.19. If both are left unset, they default to max_iter=5 and tol=None. If tol is not None, max_iter defaults to max_iter=1000. From 0.21, default max_iter will be 1000, and default tol will be 1e-3.\n",
      "  \"and default tol will be 1e-3.\" % type(self), FutureWarning)\n",
      "/anaconda3/lib/python3.6/site-packages/sklearn/linear_model/stochastic_gradient.py:128: FutureWarning: max_iter and tol parameters have been added in <class 'sklearn.linear_model.stochastic_gradient.SGDClassifier'> in 0.19. If both are left unset, they default to max_iter=5 and tol=None. If tol is not None, max_iter defaults to max_iter=1000. From 0.21, default max_iter will be 1000, and default tol will be 1e-3.\n",
      "  \"and default tol will be 1e-3.\" % type(self), FutureWarning)\n",
      "/anaconda3/lib/python3.6/site-packages/sklearn/linear_model/stochastic_gradient.py:128: FutureWarning: max_iter and tol parameters have been added in <class 'sklearn.linear_model.stochastic_gradient.SGDClassifier'> in 0.19. If both are left unset, they default to max_iter=5 and tol=None. If tol is not None, max_iter defaults to max_iter=1000. From 0.21, default max_iter will be 1000, and default tol will be 1e-3.\n",
      "  \"and default tol will be 1e-3.\" % type(self), FutureWarning)\n",
      "/anaconda3/lib/python3.6/site-packages/sklearn/linear_model/stochastic_gradient.py:128: FutureWarning: max_iter and tol parameters have been added in <class 'sklearn.linear_model.stochastic_gradient.SGDClassifier'> in 0.19. If both are left unset, they default to max_iter=5 and tol=None. If tol is not None, max_iter defaults to max_iter=1000. From 0.21, default max_iter will be 1000, and default tol will be 1e-3.\n",
      "  \"and default tol will be 1e-3.\" % type(self), FutureWarning)\n",
      "/anaconda3/lib/python3.6/site-packages/sklearn/linear_model/stochastic_gradient.py:128: FutureWarning: max_iter and tol parameters have been added in <class 'sklearn.linear_model.stochastic_gradient.SGDClassifier'> in 0.19. If both are left unset, they default to max_iter=5 and tol=None. If tol is not None, max_iter defaults to max_iter=1000. From 0.21, default max_iter will be 1000, and default tol will be 1e-3.\n",
      "  \"and default tol will be 1e-3.\" % type(self), FutureWarning)\n",
      "/anaconda3/lib/python3.6/site-packages/sklearn/linear_model/stochastic_gradient.py:128: FutureWarning: max_iter and tol parameters have been added in <class 'sklearn.linear_model.stochastic_gradient.SGDClassifier'> in 0.19. If both are left unset, they default to max_iter=5 and tol=None. If tol is not None, max_iter defaults to max_iter=1000. From 0.21, default max_iter will be 1000, and default tol will be 1e-3.\n",
      "  \"and default tol will be 1e-3.\" % type(self), FutureWarning)\n",
      "/anaconda3/lib/python3.6/site-packages/sklearn/linear_model/stochastic_gradient.py:128: FutureWarning: max_iter and tol parameters have been added in <class 'sklearn.linear_model.stochastic_gradient.SGDClassifier'> in 0.19. If both are left unset, they default to max_iter=5 and tol=None. If tol is not None, max_iter defaults to max_iter=1000. From 0.21, default max_iter will be 1000, and default tol will be 1e-3.\n",
      "  \"and default tol will be 1e-3.\" % type(self), FutureWarning)\n",
      "/anaconda3/lib/python3.6/site-packages/sklearn/linear_model/stochastic_gradient.py:128: FutureWarning: max_iter and tol parameters have been added in <class 'sklearn.linear_model.stochastic_gradient.SGDClassifier'> in 0.19. If both are left unset, they default to max_iter=5 and tol=None. If tol is not None, max_iter defaults to max_iter=1000. From 0.21, default max_iter will be 1000, and default tol will be 1e-3.\n",
      "  \"and default tol will be 1e-3.\" % type(self), FutureWarning)\n",
      "/anaconda3/lib/python3.6/site-packages/sklearn/linear_model/stochastic_gradient.py:128: FutureWarning: max_iter and tol parameters have been added in <class 'sklearn.linear_model.stochastic_gradient.SGDClassifier'> in 0.19. If both are left unset, they default to max_iter=5 and tol=None. If tol is not None, max_iter defaults to max_iter=1000. From 0.21, default max_iter will be 1000, and default tol will be 1e-3.\n",
      "  \"and default tol will be 1e-3.\" % type(self), FutureWarning)\n",
      "/anaconda3/lib/python3.6/site-packages/sklearn/linear_model/stochastic_gradient.py:128: FutureWarning: max_iter and tol parameters have been added in <class 'sklearn.linear_model.stochastic_gradient.SGDClassifier'> in 0.19. If both are left unset, they default to max_iter=5 and tol=None. If tol is not None, max_iter defaults to max_iter=1000. From 0.21, default max_iter will be 1000, and default tol will be 1e-3.\n",
      "  \"and default tol will be 1e-3.\" % type(self), FutureWarning)\n",
      "/anaconda3/lib/python3.6/site-packages/sklearn/linear_model/stochastic_gradient.py:128: FutureWarning: max_iter and tol parameters have been added in <class 'sklearn.linear_model.stochastic_gradient.SGDClassifier'> in 0.19. If both are left unset, they default to max_iter=5 and tol=None. If tol is not None, max_iter defaults to max_iter=1000. From 0.21, default max_iter will be 1000, and default tol will be 1e-3.\n",
      "  \"and default tol will be 1e-3.\" % type(self), FutureWarning)\n",
      "/anaconda3/lib/python3.6/site-packages/sklearn/linear_model/stochastic_gradient.py:128: FutureWarning: max_iter and tol parameters have been added in <class 'sklearn.linear_model.stochastic_gradient.SGDClassifier'> in 0.19. If both are left unset, they default to max_iter=5 and tol=None. If tol is not None, max_iter defaults to max_iter=1000. From 0.21, default max_iter will be 1000, and default tol will be 1e-3.\n",
      "  \"and default tol will be 1e-3.\" % type(self), FutureWarning)\n",
      "/anaconda3/lib/python3.6/site-packages/sklearn/linear_model/stochastic_gradient.py:128: FutureWarning: max_iter and tol parameters have been added in <class 'sklearn.linear_model.stochastic_gradient.SGDClassifier'> in 0.19. If both are left unset, they default to max_iter=5 and tol=None. If tol is not None, max_iter defaults to max_iter=1000. From 0.21, default max_iter will be 1000, and default tol will be 1e-3.\n",
      "  \"and default tol will be 1e-3.\" % type(self), FutureWarning)\n",
      "/anaconda3/lib/python3.6/site-packages/sklearn/linear_model/stochastic_gradient.py:128: FutureWarning: max_iter and tol parameters have been added in <class 'sklearn.linear_model.stochastic_gradient.SGDClassifier'> in 0.19. If both are left unset, they default to max_iter=5 and tol=None. If tol is not None, max_iter defaults to max_iter=1000. From 0.21, default max_iter will be 1000, and default tol will be 1e-3.\n",
      "  \"and default tol will be 1e-3.\" % type(self), FutureWarning)\n",
      "/anaconda3/lib/python3.6/site-packages/sklearn/linear_model/stochastic_gradient.py:128: FutureWarning: max_iter and tol parameters have been added in <class 'sklearn.linear_model.stochastic_gradient.SGDClassifier'> in 0.19. If both are left unset, they default to max_iter=5 and tol=None. If tol is not None, max_iter defaults to max_iter=1000. From 0.21, default max_iter will be 1000, and default tol will be 1e-3.\n",
      "  \"and default tol will be 1e-3.\" % type(self), FutureWarning)\n",
      "/anaconda3/lib/python3.6/site-packages/sklearn/linear_model/stochastic_gradient.py:128: FutureWarning: max_iter and tol parameters have been added in <class 'sklearn.linear_model.stochastic_gradient.SGDClassifier'> in 0.19. If both are left unset, they default to max_iter=5 and tol=None. If tol is not None, max_iter defaults to max_iter=1000. From 0.21, default max_iter will be 1000, and default tol will be 1e-3.\n",
      "  \"and default tol will be 1e-3.\" % type(self), FutureWarning)\n",
      "/anaconda3/lib/python3.6/site-packages/sklearn/linear_model/stochastic_gradient.py:128: FutureWarning: max_iter and tol parameters have been added in <class 'sklearn.linear_model.stochastic_gradient.SGDClassifier'> in 0.19. If both are left unset, they default to max_iter=5 and tol=None. If tol is not None, max_iter defaults to max_iter=1000. From 0.21, default max_iter will be 1000, and default tol will be 1e-3.\n",
      "  \"and default tol will be 1e-3.\" % type(self), FutureWarning)\n",
      "/anaconda3/lib/python3.6/site-packages/sklearn/linear_model/stochastic_gradient.py:128: FutureWarning: max_iter and tol parameters have been added in <class 'sklearn.linear_model.stochastic_gradient.SGDClassifier'> in 0.19. If both are left unset, they default to max_iter=5 and tol=None. If tol is not None, max_iter defaults to max_iter=1000. From 0.21, default max_iter will be 1000, and default tol will be 1e-3.\n",
      "  \"and default tol will be 1e-3.\" % type(self), FutureWarning)\n"
     ]
    },
    {
     "name": "stderr",
     "output_type": "stream",
     "text": [
      "/anaconda3/lib/python3.6/site-packages/sklearn/linear_model/stochastic_gradient.py:128: FutureWarning: max_iter and tol parameters have been added in <class 'sklearn.linear_model.stochastic_gradient.SGDClassifier'> in 0.19. If both are left unset, they default to max_iter=5 and tol=None. If tol is not None, max_iter defaults to max_iter=1000. From 0.21, default max_iter will be 1000, and default tol will be 1e-3.\n",
      "  \"and default tol will be 1e-3.\" % type(self), FutureWarning)\n",
      "/anaconda3/lib/python3.6/site-packages/sklearn/linear_model/stochastic_gradient.py:128: FutureWarning: max_iter and tol parameters have been added in <class 'sklearn.linear_model.stochastic_gradient.SGDClassifier'> in 0.19. If both are left unset, they default to max_iter=5 and tol=None. If tol is not None, max_iter defaults to max_iter=1000. From 0.21, default max_iter will be 1000, and default tol will be 1e-3.\n",
      "  \"and default tol will be 1e-3.\" % type(self), FutureWarning)\n",
      "/anaconda3/lib/python3.6/site-packages/sklearn/linear_model/stochastic_gradient.py:128: FutureWarning: max_iter and tol parameters have been added in <class 'sklearn.linear_model.stochastic_gradient.SGDClassifier'> in 0.19. If both are left unset, they default to max_iter=5 and tol=None. If tol is not None, max_iter defaults to max_iter=1000. From 0.21, default max_iter will be 1000, and default tol will be 1e-3.\n",
      "  \"and default tol will be 1e-3.\" % type(self), FutureWarning)\n",
      "/anaconda3/lib/python3.6/site-packages/sklearn/linear_model/stochastic_gradient.py:128: FutureWarning: max_iter and tol parameters have been added in <class 'sklearn.linear_model.stochastic_gradient.SGDClassifier'> in 0.19. If both are left unset, they default to max_iter=5 and tol=None. If tol is not None, max_iter defaults to max_iter=1000. From 0.21, default max_iter will be 1000, and default tol will be 1e-3.\n",
      "  \"and default tol will be 1e-3.\" % type(self), FutureWarning)\n",
      "/anaconda3/lib/python3.6/site-packages/sklearn/linear_model/stochastic_gradient.py:128: FutureWarning: max_iter and tol parameters have been added in <class 'sklearn.linear_model.stochastic_gradient.SGDClassifier'> in 0.19. If both are left unset, they default to max_iter=5 and tol=None. If tol is not None, max_iter defaults to max_iter=1000. From 0.21, default max_iter will be 1000, and default tol will be 1e-3.\n",
      "  \"and default tol will be 1e-3.\" % type(self), FutureWarning)\n",
      "/anaconda3/lib/python3.6/site-packages/sklearn/linear_model/stochastic_gradient.py:128: FutureWarning: max_iter and tol parameters have been added in <class 'sklearn.linear_model.stochastic_gradient.SGDClassifier'> in 0.19. If both are left unset, they default to max_iter=5 and tol=None. If tol is not None, max_iter defaults to max_iter=1000. From 0.21, default max_iter will be 1000, and default tol will be 1e-3.\n",
      "  \"and default tol will be 1e-3.\" % type(self), FutureWarning)\n",
      "/anaconda3/lib/python3.6/site-packages/sklearn/linear_model/stochastic_gradient.py:128: FutureWarning: max_iter and tol parameters have been added in <class 'sklearn.linear_model.stochastic_gradient.SGDClassifier'> in 0.19. If both are left unset, they default to max_iter=5 and tol=None. If tol is not None, max_iter defaults to max_iter=1000. From 0.21, default max_iter will be 1000, and default tol will be 1e-3.\n",
      "  \"and default tol will be 1e-3.\" % type(self), FutureWarning)\n",
      "/anaconda3/lib/python3.6/site-packages/sklearn/linear_model/stochastic_gradient.py:128: FutureWarning: max_iter and tol parameters have been added in <class 'sklearn.linear_model.stochastic_gradient.SGDClassifier'> in 0.19. If both are left unset, they default to max_iter=5 and tol=None. If tol is not None, max_iter defaults to max_iter=1000. From 0.21, default max_iter will be 1000, and default tol will be 1e-3.\n",
      "  \"and default tol will be 1e-3.\" % type(self), FutureWarning)\n",
      "/anaconda3/lib/python3.6/site-packages/sklearn/linear_model/stochastic_gradient.py:128: FutureWarning: max_iter and tol parameters have been added in <class 'sklearn.linear_model.stochastic_gradient.SGDClassifier'> in 0.19. If both are left unset, they default to max_iter=5 and tol=None. If tol is not None, max_iter defaults to max_iter=1000. From 0.21, default max_iter will be 1000, and default tol will be 1e-3.\n",
      "  \"and default tol will be 1e-3.\" % type(self), FutureWarning)\n",
      "/anaconda3/lib/python3.6/site-packages/sklearn/linear_model/stochastic_gradient.py:128: FutureWarning: max_iter and tol parameters have been added in <class 'sklearn.linear_model.stochastic_gradient.SGDClassifier'> in 0.19. If both are left unset, they default to max_iter=5 and tol=None. If tol is not None, max_iter defaults to max_iter=1000. From 0.21, default max_iter will be 1000, and default tol will be 1e-3.\n",
      "  \"and default tol will be 1e-3.\" % type(self), FutureWarning)\n",
      "/anaconda3/lib/python3.6/site-packages/sklearn/linear_model/stochastic_gradient.py:128: FutureWarning: max_iter and tol parameters have been added in <class 'sklearn.linear_model.stochastic_gradient.SGDClassifier'> in 0.19. If both are left unset, they default to max_iter=5 and tol=None. If tol is not None, max_iter defaults to max_iter=1000. From 0.21, default max_iter will be 1000, and default tol will be 1e-3.\n",
      "  \"and default tol will be 1e-3.\" % type(self), FutureWarning)\n",
      "/anaconda3/lib/python3.6/site-packages/sklearn/linear_model/stochastic_gradient.py:128: FutureWarning: max_iter and tol parameters have been added in <class 'sklearn.linear_model.stochastic_gradient.SGDClassifier'> in 0.19. If both are left unset, they default to max_iter=5 and tol=None. If tol is not None, max_iter defaults to max_iter=1000. From 0.21, default max_iter will be 1000, and default tol will be 1e-3.\n",
      "  \"and default tol will be 1e-3.\" % type(self), FutureWarning)\n",
      "/anaconda3/lib/python3.6/site-packages/sklearn/linear_model/stochastic_gradient.py:128: FutureWarning: max_iter and tol parameters have been added in <class 'sklearn.linear_model.stochastic_gradient.SGDClassifier'> in 0.19. If both are left unset, they default to max_iter=5 and tol=None. If tol is not None, max_iter defaults to max_iter=1000. From 0.21, default max_iter will be 1000, and default tol will be 1e-3.\n",
      "  \"and default tol will be 1e-3.\" % type(self), FutureWarning)\n",
      "/anaconda3/lib/python3.6/site-packages/sklearn/linear_model/stochastic_gradient.py:128: FutureWarning: max_iter and tol parameters have been added in <class 'sklearn.linear_model.stochastic_gradient.SGDClassifier'> in 0.19. If both are left unset, they default to max_iter=5 and tol=None. If tol is not None, max_iter defaults to max_iter=1000. From 0.21, default max_iter will be 1000, and default tol will be 1e-3.\n",
      "  \"and default tol will be 1e-3.\" % type(self), FutureWarning)\n",
      "/anaconda3/lib/python3.6/site-packages/sklearn/linear_model/stochastic_gradient.py:128: FutureWarning: max_iter and tol parameters have been added in <class 'sklearn.linear_model.stochastic_gradient.SGDClassifier'> in 0.19. If both are left unset, they default to max_iter=5 and tol=None. If tol is not None, max_iter defaults to max_iter=1000. From 0.21, default max_iter will be 1000, and default tol will be 1e-3.\n",
      "  \"and default tol will be 1e-3.\" % type(self), FutureWarning)\n",
      "/anaconda3/lib/python3.6/site-packages/sklearn/linear_model/stochastic_gradient.py:128: FutureWarning: max_iter and tol parameters have been added in <class 'sklearn.linear_model.stochastic_gradient.SGDClassifier'> in 0.19. If both are left unset, they default to max_iter=5 and tol=None. If tol is not None, max_iter defaults to max_iter=1000. From 0.21, default max_iter will be 1000, and default tol will be 1e-3.\n",
      "  \"and default tol will be 1e-3.\" % type(self), FutureWarning)\n",
      "/anaconda3/lib/python3.6/site-packages/sklearn/linear_model/stochastic_gradient.py:128: FutureWarning: max_iter and tol parameters have been added in <class 'sklearn.linear_model.stochastic_gradient.SGDClassifier'> in 0.19. If both are left unset, they default to max_iter=5 and tol=None. If tol is not None, max_iter defaults to max_iter=1000. From 0.21, default max_iter will be 1000, and default tol will be 1e-3.\n",
      "  \"and default tol will be 1e-3.\" % type(self), FutureWarning)\n",
      "/anaconda3/lib/python3.6/site-packages/sklearn/linear_model/stochastic_gradient.py:128: FutureWarning: max_iter and tol parameters have been added in <class 'sklearn.linear_model.stochastic_gradient.SGDClassifier'> in 0.19. If both are left unset, they default to max_iter=5 and tol=None. If tol is not None, max_iter defaults to max_iter=1000. From 0.21, default max_iter will be 1000, and default tol will be 1e-3.\n",
      "  \"and default tol will be 1e-3.\" % type(self), FutureWarning)\n"
     ]
    },
    {
     "name": "stderr",
     "output_type": "stream",
     "text": [
      "/anaconda3/lib/python3.6/site-packages/sklearn/linear_model/stochastic_gradient.py:128: FutureWarning: max_iter and tol parameters have been added in <class 'sklearn.linear_model.stochastic_gradient.SGDClassifier'> in 0.19. If both are left unset, they default to max_iter=5 and tol=None. If tol is not None, max_iter defaults to max_iter=1000. From 0.21, default max_iter will be 1000, and default tol will be 1e-3.\n",
      "  \"and default tol will be 1e-3.\" % type(self), FutureWarning)\n",
      "/anaconda3/lib/python3.6/site-packages/sklearn/linear_model/stochastic_gradient.py:128: FutureWarning: max_iter and tol parameters have been added in <class 'sklearn.linear_model.stochastic_gradient.SGDClassifier'> in 0.19. If both are left unset, they default to max_iter=5 and tol=None. If tol is not None, max_iter defaults to max_iter=1000. From 0.21, default max_iter will be 1000, and default tol will be 1e-3.\n",
      "  \"and default tol will be 1e-3.\" % type(self), FutureWarning)\n",
      "/anaconda3/lib/python3.6/site-packages/sklearn/linear_model/stochastic_gradient.py:128: FutureWarning: max_iter and tol parameters have been added in <class 'sklearn.linear_model.stochastic_gradient.SGDClassifier'> in 0.19. If both are left unset, they default to max_iter=5 and tol=None. If tol is not None, max_iter defaults to max_iter=1000. From 0.21, default max_iter will be 1000, and default tol will be 1e-3.\n",
      "  \"and default tol will be 1e-3.\" % type(self), FutureWarning)\n",
      "/anaconda3/lib/python3.6/site-packages/sklearn/linear_model/stochastic_gradient.py:128: FutureWarning: max_iter and tol parameters have been added in <class 'sklearn.linear_model.stochastic_gradient.SGDClassifier'> in 0.19. If both are left unset, they default to max_iter=5 and tol=None. If tol is not None, max_iter defaults to max_iter=1000. From 0.21, default max_iter will be 1000, and default tol will be 1e-3.\n",
      "  \"and default tol will be 1e-3.\" % type(self), FutureWarning)\n",
      "/anaconda3/lib/python3.6/site-packages/sklearn/linear_model/stochastic_gradient.py:128: FutureWarning: max_iter and tol parameters have been added in <class 'sklearn.linear_model.stochastic_gradient.SGDClassifier'> in 0.19. If both are left unset, they default to max_iter=5 and tol=None. If tol is not None, max_iter defaults to max_iter=1000. From 0.21, default max_iter will be 1000, and default tol will be 1e-3.\n",
      "  \"and default tol will be 1e-3.\" % type(self), FutureWarning)\n",
      "/anaconda3/lib/python3.6/site-packages/sklearn/linear_model/stochastic_gradient.py:128: FutureWarning: max_iter and tol parameters have been added in <class 'sklearn.linear_model.stochastic_gradient.SGDClassifier'> in 0.19. If both are left unset, they default to max_iter=5 and tol=None. If tol is not None, max_iter defaults to max_iter=1000. From 0.21, default max_iter will be 1000, and default tol will be 1e-3.\n",
      "  \"and default tol will be 1e-3.\" % type(self), FutureWarning)\n",
      "/anaconda3/lib/python3.6/site-packages/sklearn/linear_model/stochastic_gradient.py:128: FutureWarning: max_iter and tol parameters have been added in <class 'sklearn.linear_model.stochastic_gradient.SGDClassifier'> in 0.19. If both are left unset, they default to max_iter=5 and tol=None. If tol is not None, max_iter defaults to max_iter=1000. From 0.21, default max_iter will be 1000, and default tol will be 1e-3.\n",
      "  \"and default tol will be 1e-3.\" % type(self), FutureWarning)\n",
      "/anaconda3/lib/python3.6/site-packages/sklearn/linear_model/stochastic_gradient.py:128: FutureWarning: max_iter and tol parameters have been added in <class 'sklearn.linear_model.stochastic_gradient.SGDClassifier'> in 0.19. If both are left unset, they default to max_iter=5 and tol=None. If tol is not None, max_iter defaults to max_iter=1000. From 0.21, default max_iter will be 1000, and default tol will be 1e-3.\n",
      "  \"and default tol will be 1e-3.\" % type(self), FutureWarning)\n",
      "/anaconda3/lib/python3.6/site-packages/sklearn/linear_model/stochastic_gradient.py:128: FutureWarning: max_iter and tol parameters have been added in <class 'sklearn.linear_model.stochastic_gradient.SGDClassifier'> in 0.19. If both are left unset, they default to max_iter=5 and tol=None. If tol is not None, max_iter defaults to max_iter=1000. From 0.21, default max_iter will be 1000, and default tol will be 1e-3.\n",
      "  \"and default tol will be 1e-3.\" % type(self), FutureWarning)\n",
      "/anaconda3/lib/python3.6/site-packages/sklearn/linear_model/stochastic_gradient.py:128: FutureWarning: max_iter and tol parameters have been added in <class 'sklearn.linear_model.stochastic_gradient.SGDClassifier'> in 0.19. If both are left unset, they default to max_iter=5 and tol=None. If tol is not None, max_iter defaults to max_iter=1000. From 0.21, default max_iter will be 1000, and default tol will be 1e-3.\n",
      "  \"and default tol will be 1e-3.\" % type(self), FutureWarning)\n",
      "/anaconda3/lib/python3.6/site-packages/sklearn/linear_model/stochastic_gradient.py:128: FutureWarning: max_iter and tol parameters have been added in <class 'sklearn.linear_model.stochastic_gradient.SGDClassifier'> in 0.19. If both are left unset, they default to max_iter=5 and tol=None. If tol is not None, max_iter defaults to max_iter=1000. From 0.21, default max_iter will be 1000, and default tol will be 1e-3.\n",
      "  \"and default tol will be 1e-3.\" % type(self), FutureWarning)\n",
      "/anaconda3/lib/python3.6/site-packages/sklearn/linear_model/stochastic_gradient.py:128: FutureWarning: max_iter and tol parameters have been added in <class 'sklearn.linear_model.stochastic_gradient.SGDClassifier'> in 0.19. If both are left unset, they default to max_iter=5 and tol=None. If tol is not None, max_iter defaults to max_iter=1000. From 0.21, default max_iter will be 1000, and default tol will be 1e-3.\n",
      "  \"and default tol will be 1e-3.\" % type(self), FutureWarning)\n",
      "/anaconda3/lib/python3.6/site-packages/sklearn/linear_model/stochastic_gradient.py:128: FutureWarning: max_iter and tol parameters have been added in <class 'sklearn.linear_model.stochastic_gradient.SGDClassifier'> in 0.19. If both are left unset, they default to max_iter=5 and tol=None. If tol is not None, max_iter defaults to max_iter=1000. From 0.21, default max_iter will be 1000, and default tol will be 1e-3.\n",
      "  \"and default tol will be 1e-3.\" % type(self), FutureWarning)\n",
      "/anaconda3/lib/python3.6/site-packages/sklearn/linear_model/stochastic_gradient.py:128: FutureWarning: max_iter and tol parameters have been added in <class 'sklearn.linear_model.stochastic_gradient.SGDClassifier'> in 0.19. If both are left unset, they default to max_iter=5 and tol=None. If tol is not None, max_iter defaults to max_iter=1000. From 0.21, default max_iter will be 1000, and default tol will be 1e-3.\n",
      "  \"and default tol will be 1e-3.\" % type(self), FutureWarning)\n",
      "/anaconda3/lib/python3.6/site-packages/sklearn/linear_model/stochastic_gradient.py:128: FutureWarning: max_iter and tol parameters have been added in <class 'sklearn.linear_model.stochastic_gradient.SGDClassifier'> in 0.19. If both are left unset, they default to max_iter=5 and tol=None. If tol is not None, max_iter defaults to max_iter=1000. From 0.21, default max_iter will be 1000, and default tol will be 1e-3.\n",
      "  \"and default tol will be 1e-3.\" % type(self), FutureWarning)\n",
      "/anaconda3/lib/python3.6/site-packages/sklearn/linear_model/stochastic_gradient.py:128: FutureWarning: max_iter and tol parameters have been added in <class 'sklearn.linear_model.stochastic_gradient.SGDClassifier'> in 0.19. If both are left unset, they default to max_iter=5 and tol=None. If tol is not None, max_iter defaults to max_iter=1000. From 0.21, default max_iter will be 1000, and default tol will be 1e-3.\n",
      "  \"and default tol will be 1e-3.\" % type(self), FutureWarning)\n",
      "/anaconda3/lib/python3.6/site-packages/sklearn/linear_model/stochastic_gradient.py:128: FutureWarning: max_iter and tol parameters have been added in <class 'sklearn.linear_model.stochastic_gradient.SGDClassifier'> in 0.19. If both are left unset, they default to max_iter=5 and tol=None. If tol is not None, max_iter defaults to max_iter=1000. From 0.21, default max_iter will be 1000, and default tol will be 1e-3.\n",
      "  \"and default tol will be 1e-3.\" % type(self), FutureWarning)\n",
      "/anaconda3/lib/python3.6/site-packages/sklearn/linear_model/stochastic_gradient.py:128: FutureWarning: max_iter and tol parameters have been added in <class 'sklearn.linear_model.stochastic_gradient.SGDClassifier'> in 0.19. If both are left unset, they default to max_iter=5 and tol=None. If tol is not None, max_iter defaults to max_iter=1000. From 0.21, default max_iter will be 1000, and default tol will be 1e-3.\n",
      "  \"and default tol will be 1e-3.\" % type(self), FutureWarning)\n"
     ]
    },
    {
     "name": "stderr",
     "output_type": "stream",
     "text": [
      "/anaconda3/lib/python3.6/site-packages/sklearn/linear_model/stochastic_gradient.py:128: FutureWarning: max_iter and tol parameters have been added in <class 'sklearn.linear_model.stochastic_gradient.SGDClassifier'> in 0.19. If both are left unset, they default to max_iter=5 and tol=None. If tol is not None, max_iter defaults to max_iter=1000. From 0.21, default max_iter will be 1000, and default tol will be 1e-3.\n",
      "  \"and default tol will be 1e-3.\" % type(self), FutureWarning)\n",
      "/anaconda3/lib/python3.6/site-packages/sklearn/linear_model/stochastic_gradient.py:128: FutureWarning: max_iter and tol parameters have been added in <class 'sklearn.linear_model.stochastic_gradient.SGDClassifier'> in 0.19. If both are left unset, they default to max_iter=5 and tol=None. If tol is not None, max_iter defaults to max_iter=1000. From 0.21, default max_iter will be 1000, and default tol will be 1e-3.\n",
      "  \"and default tol will be 1e-3.\" % type(self), FutureWarning)\n",
      "/anaconda3/lib/python3.6/site-packages/sklearn/linear_model/stochastic_gradient.py:128: FutureWarning: max_iter and tol parameters have been added in <class 'sklearn.linear_model.stochastic_gradient.SGDClassifier'> in 0.19. If both are left unset, they default to max_iter=5 and tol=None. If tol is not None, max_iter defaults to max_iter=1000. From 0.21, default max_iter will be 1000, and default tol will be 1e-3.\n",
      "  \"and default tol will be 1e-3.\" % type(self), FutureWarning)\n"
     ]
    },
    {
     "data": {
      "text/plain": [
       "GridSearchCV(cv=5, error_score='raise',\n",
       "       estimator=SGDClassifier(alpha=0.0001, average=False, class_weight=None, epsilon=0.1,\n",
       "       eta0=0.0, fit_intercept=True, l1_ratio=0.15,\n",
       "       learning_rate='optimal', loss='log', max_iter=None, n_iter=None,\n",
       "       n_jobs=1, penalty='l2', power_t=0.5, random_state=None,\n",
       "       shuffle=True, tol=None, verbose=0, warm_start=False),\n",
       "       fit_params=None, iid=True, n_jobs=-1,\n",
       "       param_grid={'penalty': ['l1', 'l2'], 'l1_ratio': array([0. , 0.1, 0.2, 0.3, 0.4, 0.5, 0.6, 0.7, 0.8, 0.9, 1. ])},\n",
       "       pre_dispatch='2*n_jobs', refit=True, return_train_score='warn',\n",
       "       scoring=None, verbose=0)"
      ]
     },
     "execution_count": 44,
     "metadata": {},
     "output_type": "execute_result"
    }
   ],
   "source": [
    "sgd_gs.fit(X_train[:, pixel_wanted],y_train)"
   ]
  },
  {
   "cell_type": "code",
   "execution_count": 45,
   "metadata": {},
   "outputs": [
    {
     "data": {
      "text/plain": [
       "{'l1_ratio': 0.7000000000000001, 'penalty': 'l1'}"
      ]
     },
     "execution_count": 45,
     "metadata": {},
     "output_type": "execute_result"
    }
   ],
   "source": [
    "sgd_gs.best_params_"
   ]
  },
  {
   "cell_type": "code",
   "execution_count": 46,
   "metadata": {},
   "outputs": [
    {
     "data": {
      "text/plain": [
       "0.8384246402423631"
      ]
     },
     "execution_count": 46,
     "metadata": {},
     "output_type": "execute_result"
    }
   ],
   "source": [
    "sgd_gs.score(X_train[:, pixel_wanted], y_train)\n",
    "\n"
   ]
  },
  {
   "cell_type": "code",
   "execution_count": 47,
   "metadata": {},
   "outputs": [
    {
     "data": {
      "text/plain": [
       "0.8193462897526502"
      ]
     },
     "execution_count": 47,
     "metadata": {},
     "output_type": "execute_result"
    }
   ],
   "source": [
    "sgd_gs.score(X_validate[:, pixel_wanted], y_validate)"
   ]
  },
  {
   "cell_type": "code",
   "execution_count": 48,
   "metadata": {},
   "outputs": [
    {
     "data": {
      "text/plain": [
       "0.7811158798283262"
      ]
     },
     "execution_count": 48,
     "metadata": {},
     "output_type": "execute_result"
    }
   ],
   "source": [
    "recall_score(y_train, sgd_gs.predict(X_train[:, pixel_wanted]))"
   ]
  },
  {
   "cell_type": "code",
   "execution_count": 50,
   "metadata": {},
   "outputs": [
    {
     "data": {
      "text/plain": [
       "0.7606007067137809"
      ]
     },
     "execution_count": 50,
     "metadata": {},
     "output_type": "execute_result"
    }
   ],
   "source": [
    "recall_score(y_validate, sgd_gs.predict(X_validate[:, pixel_wanted]))"
   ]
  },
  {
   "cell_type": "markdown",
   "metadata": {},
   "source": [
    "## SVM (SGD)"
   ]
  },
  {
   "cell_type": "code",
   "execution_count": 52,
   "metadata": {},
   "outputs": [
    {
     "name": "stderr",
     "output_type": "stream",
     "text": [
      "/anaconda3/lib/python3.6/site-packages/sklearn/linear_model/stochastic_gradient.py:128: FutureWarning: max_iter and tol parameters have been added in <class 'sklearn.linear_model.stochastic_gradient.SGDClassifier'> in 0.19. If both are left unset, they default to max_iter=5 and tol=None. If tol is not None, max_iter defaults to max_iter=1000. From 0.21, default max_iter will be 1000, and default tol will be 1e-3.\n",
      "  \"and default tol will be 1e-3.\" % type(self), FutureWarning)\n"
     ]
    },
    {
     "name": "stdout",
     "output_type": "stream",
     "text": [
      "train score 0.8153244130270134\n",
      "validation score 0.8003533568904594\n",
      "test score 0.8030035335689046\n"
     ]
    }
   ],
   "source": [
    "SGD_SVM = SGDClassifier(loss = 'hinge')\n",
    "SGD_SVM.fit(X_train[:, pixel_wanted],y_train)\n",
    "print('train score', SGD_SVM.score(X_train[:, pixel_wanted], y_train))\n",
    "print('validation score', SGD_SVM.score(X_validate[:, pixel_wanted], y_validate))\n",
    "print('test score', SGD_SVM.score(X_test[:, pixel_wanted], y_test))"
   ]
  },
  {
   "cell_type": "code",
   "execution_count": 53,
   "metadata": {},
   "outputs": [
    {
     "data": {
      "text/plain": [
       "0.6983085079525372"
      ]
     },
     "execution_count": 53,
     "metadata": {},
     "output_type": "execute_result"
    }
   ],
   "source": [
    "recall_score(y_train, SGD_SVM.predict(X_train[:, pixel_wanted]))"
   ]
  },
  {
   "cell_type": "code",
   "execution_count": 54,
   "metadata": {},
   "outputs": [
    {
     "data": {
      "text/plain": [
       "0.6828621908127208"
      ]
     },
     "execution_count": 54,
     "metadata": {},
     "output_type": "execute_result"
    }
   ],
   "source": [
    "recall_score(y_validate, SGD_SVM.predict(X_validate[:, pixel_wanted]))"
   ]
  },
  {
   "cell_type": "code",
   "execution_count": null,
   "metadata": {},
   "outputs": [],
   "source": []
  },
  {
   "cell_type": "markdown",
   "metadata": {},
   "source": [
    "## Random Forest"
   ]
  },
  {
   "cell_type": "code",
   "execution_count": null,
   "metadata": {},
   "outputs": [],
   "source": [
    "# from sklearn.ensemble import RandomForestClassifier\n",
    "\n",
    "# rfc = RandomForestClassifier()\n",
    "# rfc.fit(X_train, y_train)\n",
    "# print('train score', rfc.score(X_train, y_train))\n",
    "# print('validation score', rfc.score(X_validate, y_validate))\n",
    "# print('test score', rfc.score(X_test, y_test))"
   ]
  },
  {
   "cell_type": "code",
   "execution_count": 56,
   "metadata": {},
   "outputs": [
    {
     "name": "stderr",
     "output_type": "stream",
     "text": [
      "/anaconda3/lib/python3.6/site-packages/sklearn/ensemble/weight_boosting.py:29: DeprecationWarning: numpy.core.umath_tests is an internal NumPy module and should not be imported. It will be removed in a future NumPy release.\n",
      "  from numpy.core.umath_tests import inner1d\n"
     ]
    },
    {
     "name": "stdout",
     "output_type": "stream",
     "text": [
      "train score 0.9910376167634436\n",
      "validation score 0.838339222614841\n",
      "test score 0.842756183745583\n"
     ]
    }
   ],
   "source": [
    "from sklearn.ensemble import RandomForestClassifier\n",
    "rfc = RandomForestClassifier()\n",
    "rfc.fit(X_train[:, pixel_wanted], y_train)\n",
    "print('train score', rfc.score(X_train[:, pixel_wanted], y_train))\n",
    "print('validation score', rfc.score(X_validate[:, pixel_wanted], y_validate))\n",
    "print('test score', rfc.score(X_test[:, pixel_wanted], y_test))"
   ]
  },
  {
   "cell_type": "code",
   "execution_count": 57,
   "metadata": {},
   "outputs": [
    {
     "data": {
      "text/plain": [
       "0.9853572330219641"
      ]
     },
     "execution_count": 57,
     "metadata": {},
     "output_type": "execute_result"
    }
   ],
   "source": [
    "recall_score(y_train, rfc.predict(X_train[:, pixel_wanted]))"
   ]
  },
  {
   "cell_type": "code",
   "execution_count": 58,
   "metadata": {},
   "outputs": [
    {
     "data": {
      "text/plain": [
       "0.7915194346289752"
      ]
     },
     "execution_count": 58,
     "metadata": {},
     "output_type": "execute_result"
    }
   ],
   "source": [
    "recall_score(y_validate, rfc.predict(X_validate[:, pixel_wanted]))"
   ]
  },
  {
   "cell_type": "code",
   "execution_count": null,
   "metadata": {},
   "outputs": [],
   "source": []
  },
  {
   "cell_type": "code",
   "execution_count": 59,
   "metadata": {},
   "outputs": [],
   "source": [
    "params = {'max_depth': [8],\n",
    "          'max_features': [0.9]}\n",
    "\n",
    "rf = RandomForestClassifier()\n",
    "rf_gs = GridSearchCV(rf, params, cv = 5, n_jobs = -1)"
   ]
  },
  {
   "cell_type": "code",
   "execution_count": 60,
   "metadata": {},
   "outputs": [
    {
     "data": {
      "text/plain": [
       "GridSearchCV(cv=5, error_score='raise',\n",
       "       estimator=RandomForestClassifier(bootstrap=True, class_weight=None, criterion='gini',\n",
       "            max_depth=None, max_features='auto', max_leaf_nodes=None,\n",
       "            min_impurity_decrease=0.0, min_impurity_split=None,\n",
       "            min_samples_leaf=1, min_samples_split=2,\n",
       "            min_weight_fraction_leaf=0.0, n_estimators=10, n_jobs=1,\n",
       "            oob_score=False, random_state=None, verbose=0,\n",
       "            warm_start=False),\n",
       "       fit_params=None, iid=True, n_jobs=-1,\n",
       "       param_grid={'max_depth': [8], 'max_features': [0.9]},\n",
       "       pre_dispatch='2*n_jobs', refit=True, return_train_score='warn',\n",
       "       scoring=None, verbose=0)"
      ]
     },
     "execution_count": 60,
     "metadata": {},
     "output_type": "execute_result"
    }
   ],
   "source": [
    "rf_gs.fit(X_train[:, pixel_wanted], y_train)"
   ]
  },
  {
   "cell_type": "code",
   "execution_count": 61,
   "metadata": {},
   "outputs": [
    {
     "data": {
      "text/plain": [
       "{'max_depth': 8, 'max_features': 0.9}"
      ]
     },
     "execution_count": 61,
     "metadata": {},
     "output_type": "execute_result"
    }
   ],
   "source": [
    "rf_gs.best_params_"
   ]
  },
  {
   "cell_type": "code",
   "execution_count": 62,
   "metadata": {},
   "outputs": [
    {
     "data": {
      "text/plain": [
       "0.9330977026003534"
      ]
     },
     "execution_count": 62,
     "metadata": {},
     "output_type": "execute_result"
    }
   ],
   "source": [
    "rf_gs.score(X_train[:, pixel_wanted], y_train)"
   ]
  },
  {
   "cell_type": "code",
   "execution_count": 63,
   "metadata": {},
   "outputs": [
    {
     "data": {
      "text/plain": [
       "0.8440812720848057"
      ]
     },
     "execution_count": 63,
     "metadata": {},
     "output_type": "execute_result"
    }
   ],
   "source": [
    "rf_gs.score(X_validate[:, pixel_wanted], y_validate)"
   ]
  },
  {
   "cell_type": "code",
   "execution_count": 69,
   "metadata": {},
   "outputs": [
    {
     "data": {
      "text/plain": [
       "0.9123958596314062"
      ]
     },
     "execution_count": 69,
     "metadata": {},
     "output_type": "execute_result"
    }
   ],
   "source": [
    "recall_score(y_train, rf_gs.predict(X_train[:, pixel_wanted]))"
   ]
  },
  {
   "cell_type": "code",
   "execution_count": 70,
   "metadata": {},
   "outputs": [
    {
     "data": {
      "text/plain": [
       "0.8074204946996466"
      ]
     },
     "execution_count": 70,
     "metadata": {},
     "output_type": "execute_result"
    }
   ],
   "source": [
    "recall_score(y_validate, rf_gs.predict(X_validate[:, pixel_wanted]))"
   ]
  },
  {
   "cell_type": "code",
   "execution_count": null,
   "metadata": {},
   "outputs": [],
   "source": []
  },
  {
   "cell_type": "markdown",
   "metadata": {},
   "source": [
    "## CatBoost"
   ]
  },
  {
   "cell_type": "code",
   "execution_count": 64,
   "metadata": {},
   "outputs": [],
   "source": [
    "from catboost import CatBoostClassifier, Pool, cv"
   ]
  },
  {
   "cell_type": "code",
   "execution_count": 65,
   "metadata": {},
   "outputs": [],
   "source": [
    "from sklearn.metrics import accuracy_score"
   ]
  },
  {
   "cell_type": "code",
   "execution_count": 67,
   "metadata": {},
   "outputs": [
    {
     "name": "stdout",
     "output_type": "stream",
     "text": [
      "0:\tlearn: 0.6752827\ttotal: 1.11s\tremaining: 18m 28s\n",
      "1:\tlearn: 0.6588480\ttotal: 1.52s\tremaining: 12m 40s\n",
      "2:\tlearn: 0.6436094\ttotal: 1.81s\tremaining: 10m 2s\n",
      "3:\tlearn: 0.6284882\ttotal: 2.1s\tremaining: 8m 44s\n",
      "4:\tlearn: 0.6163941\ttotal: 2.4s\tremaining: 7m 58s\n",
      "5:\tlearn: 0.6041857\ttotal: 2.69s\tremaining: 7m 24s\n",
      "6:\tlearn: 0.5917858\ttotal: 2.97s\tremaining: 7m 1s\n",
      "7:\tlearn: 0.5802053\ttotal: 3.26s\tremaining: 6m 44s\n",
      "8:\tlearn: 0.5704176\ttotal: 3.55s\tremaining: 6m 30s\n",
      "9:\tlearn: 0.5604486\ttotal: 3.83s\tremaining: 6m 19s\n",
      "10:\tlearn: 0.5504263\ttotal: 4.12s\tremaining: 6m 10s\n",
      "11:\tlearn: 0.5418832\ttotal: 4.41s\tremaining: 6m 2s\n",
      "12:\tlearn: 0.5333366\ttotal: 4.76s\tremaining: 6m 1s\n",
      "13:\tlearn: 0.5253642\ttotal: 5.07s\tremaining: 5m 57s\n",
      "14:\tlearn: 0.5175354\ttotal: 5.37s\tremaining: 5m 52s\n",
      "15:\tlearn: 0.5104381\ttotal: 5.66s\tremaining: 5m 47s\n",
      "16:\tlearn: 0.5039764\ttotal: 5.99s\tremaining: 5m 46s\n",
      "17:\tlearn: 0.4974415\ttotal: 6.31s\tremaining: 5m 44s\n",
      "18:\tlearn: 0.4910908\ttotal: 6.64s\tremaining: 5m 43s\n",
      "19:\tlearn: 0.4860276\ttotal: 7.02s\tremaining: 5m 44s\n",
      "20:\tlearn: 0.4796924\ttotal: 7.33s\tremaining: 5m 41s\n",
      "21:\tlearn: 0.4738703\ttotal: 7.65s\tremaining: 5m 40s\n",
      "22:\tlearn: 0.4687170\ttotal: 7.95s\tremaining: 5m 37s\n",
      "23:\tlearn: 0.4649040\ttotal: 8.27s\tremaining: 5m 36s\n",
      "24:\tlearn: 0.4605000\ttotal: 8.65s\tremaining: 5m 37s\n",
      "25:\tlearn: 0.4561050\ttotal: 8.99s\tremaining: 5m 36s\n",
      "26:\tlearn: 0.4522652\ttotal: 9.35s\tremaining: 5m 36s\n",
      "27:\tlearn: 0.4483845\ttotal: 9.66s\tremaining: 5m 35s\n",
      "28:\tlearn: 0.4446589\ttotal: 9.95s\tremaining: 5m 33s\n",
      "29:\tlearn: 0.4413134\ttotal: 10.2s\tremaining: 5m 31s\n",
      "30:\tlearn: 0.4380145\ttotal: 10.5s\tremaining: 5m 28s\n",
      "31:\tlearn: 0.4351748\ttotal: 10.8s\tremaining: 5m 27s\n",
      "32:\tlearn: 0.4326178\ttotal: 11.3s\tremaining: 5m 30s\n",
      "33:\tlearn: 0.4296752\ttotal: 11.6s\tremaining: 5m 28s\n",
      "34:\tlearn: 0.4269681\ttotal: 11.9s\tremaining: 5m 26s\n",
      "35:\tlearn: 0.4244113\ttotal: 12.1s\tremaining: 5m 24s\n",
      "36:\tlearn: 0.4219841\ttotal: 12.4s\tremaining: 5m 23s\n",
      "37:\tlearn: 0.4193335\ttotal: 12.7s\tremaining: 5m 22s\n",
      "38:\tlearn: 0.4167605\ttotal: 13s\tremaining: 5m 20s\n",
      "39:\tlearn: 0.4146968\ttotal: 13.3s\tremaining: 5m 19s\n",
      "40:\tlearn: 0.4127839\ttotal: 13.6s\tremaining: 5m 17s\n",
      "41:\tlearn: 0.4104130\ttotal: 13.9s\tremaining: 5m 16s\n",
      "42:\tlearn: 0.4080118\ttotal: 14.2s\tremaining: 5m 15s\n",
      "43:\tlearn: 0.4056813\ttotal: 14.4s\tremaining: 5m 13s\n",
      "44:\tlearn: 0.4036826\ttotal: 14.7s\tremaining: 5m 12s\n",
      "45:\tlearn: 0.4018347\ttotal: 15s\tremaining: 5m 11s\n",
      "46:\tlearn: 0.3995713\ttotal: 15.3s\tremaining: 5m 10s\n",
      "47:\tlearn: 0.3981610\ttotal: 15.6s\tremaining: 5m 9s\n",
      "48:\tlearn: 0.3963190\ttotal: 15.9s\tremaining: 5m 8s\n",
      "49:\tlearn: 0.3947242\ttotal: 16.2s\tremaining: 5m 7s\n",
      "50:\tlearn: 0.3928868\ttotal: 16.5s\tremaining: 5m 6s\n",
      "51:\tlearn: 0.3911783\ttotal: 16.8s\tremaining: 5m 5s\n",
      "52:\tlearn: 0.3894844\ttotal: 17.1s\tremaining: 5m 4s\n",
      "53:\tlearn: 0.3880405\ttotal: 17.4s\tremaining: 5m 4s\n",
      "54:\tlearn: 0.3864382\ttotal: 17.7s\tremaining: 5m 3s\n",
      "55:\tlearn: 0.3848409\ttotal: 18s\tremaining: 5m 2s\n",
      "56:\tlearn: 0.3830729\ttotal: 18.3s\tremaining: 5m 3s\n",
      "57:\tlearn: 0.3819903\ttotal: 18.7s\tremaining: 5m 4s\n",
      "58:\tlearn: 0.3806330\ttotal: 19s\tremaining: 5m 3s\n",
      "59:\tlearn: 0.3792428\ttotal: 19.3s\tremaining: 5m 2s\n",
      "60:\tlearn: 0.3777577\ttotal: 19.6s\tremaining: 5m 2s\n",
      "61:\tlearn: 0.3762423\ttotal: 20s\tremaining: 5m 2s\n",
      "62:\tlearn: 0.3749470\ttotal: 20.3s\tremaining: 5m 1s\n",
      "63:\tlearn: 0.3734623\ttotal: 20.6s\tremaining: 5m\n",
      "64:\tlearn: 0.3724272\ttotal: 20.9s\tremaining: 5m 1s\n",
      "65:\tlearn: 0.3714714\ttotal: 21.3s\tremaining: 5m 1s\n",
      "66:\tlearn: 0.3699516\ttotal: 21.6s\tremaining: 5m\n",
      "67:\tlearn: 0.3687045\ttotal: 22s\tremaining: 5m 1s\n",
      "68:\tlearn: 0.3676554\ttotal: 22.4s\tremaining: 5m 2s\n",
      "69:\tlearn: 0.3665513\ttotal: 22.7s\tremaining: 5m 1s\n",
      "70:\tlearn: 0.3653497\ttotal: 23s\tremaining: 5m\n",
      "71:\tlearn: 0.3643671\ttotal: 23.3s\tremaining: 5m\n",
      "72:\tlearn: 0.3632544\ttotal: 23.6s\tremaining: 4m 59s\n",
      "73:\tlearn: 0.3622939\ttotal: 23.9s\tremaining: 4m 59s\n",
      "74:\tlearn: 0.3612410\ttotal: 24.3s\tremaining: 4m 59s\n",
      "75:\tlearn: 0.3601424\ttotal: 24.5s\tremaining: 4m 58s\n",
      "76:\tlearn: 0.3592406\ttotal: 24.8s\tremaining: 4m 57s\n",
      "77:\tlearn: 0.3584172\ttotal: 25.1s\tremaining: 4m 56s\n",
      "78:\tlearn: 0.3572586\ttotal: 25.4s\tremaining: 4m 55s\n",
      "79:\tlearn: 0.3563901\ttotal: 25.6s\tremaining: 4m 54s\n",
      "80:\tlearn: 0.3555043\ttotal: 26s\tremaining: 4m 54s\n",
      "81:\tlearn: 0.3548897\ttotal: 26.3s\tremaining: 4m 54s\n",
      "82:\tlearn: 0.3540140\ttotal: 26.6s\tremaining: 4m 53s\n",
      "83:\tlearn: 0.3532331\ttotal: 27s\tremaining: 4m 54s\n",
      "84:\tlearn: 0.3523809\ttotal: 27.4s\tremaining: 4m 54s\n",
      "85:\tlearn: 0.3515212\ttotal: 27.7s\tremaining: 4m 54s\n",
      "86:\tlearn: 0.3510593\ttotal: 28s\tremaining: 4m 53s\n",
      "87:\tlearn: 0.3501649\ttotal: 28.2s\tremaining: 4m 52s\n",
      "88:\tlearn: 0.3492975\ttotal: 28.5s\tremaining: 4m 52s\n",
      "89:\tlearn: 0.3483666\ttotal: 28.8s\tremaining: 4m 51s\n",
      "90:\tlearn: 0.3475107\ttotal: 29.1s\tremaining: 4m 50s\n",
      "91:\tlearn: 0.3469223\ttotal: 29.4s\tremaining: 4m 50s\n",
      "92:\tlearn: 0.3460885\ttotal: 29.7s\tremaining: 4m 49s\n",
      "93:\tlearn: 0.3452715\ttotal: 29.9s\tremaining: 4m 48s\n",
      "94:\tlearn: 0.3444513\ttotal: 30.3s\tremaining: 4m 48s\n",
      "95:\tlearn: 0.3436068\ttotal: 30.5s\tremaining: 4m 47s\n",
      "96:\tlearn: 0.3431234\ttotal: 30.8s\tremaining: 4m 47s\n",
      "97:\tlearn: 0.3423514\ttotal: 31.1s\tremaining: 4m 46s\n",
      "98:\tlearn: 0.3417245\ttotal: 31.4s\tremaining: 4m 45s\n",
      "99:\tlearn: 0.3412378\ttotal: 31.7s\tremaining: 4m 45s\n",
      "100:\tlearn: 0.3408475\ttotal: 32s\tremaining: 4m 44s\n",
      "101:\tlearn: 0.3400344\ttotal: 32.3s\tremaining: 4m 44s\n",
      "102:\tlearn: 0.3393293\ttotal: 32.6s\tremaining: 4m 44s\n",
      "103:\tlearn: 0.3386603\ttotal: 32.9s\tremaining: 4m 43s\n",
      "104:\tlearn: 0.3380939\ttotal: 33.2s\tremaining: 4m 43s\n",
      "105:\tlearn: 0.3371720\ttotal: 33.5s\tremaining: 4m 42s\n",
      "106:\tlearn: 0.3367699\ttotal: 33.8s\tremaining: 4m 41s\n",
      "107:\tlearn: 0.3363390\ttotal: 34.1s\tremaining: 4m 41s\n",
      "108:\tlearn: 0.3358768\ttotal: 34.4s\tremaining: 4m 40s\n",
      "109:\tlearn: 0.3353104\ttotal: 34.7s\tremaining: 4m 40s\n",
      "110:\tlearn: 0.3350121\ttotal: 35s\tremaining: 4m 40s\n",
      "111:\tlearn: 0.3344208\ttotal: 35.3s\tremaining: 4m 39s\n",
      "112:\tlearn: 0.3338131\ttotal: 35.6s\tremaining: 4m 39s\n",
      "113:\tlearn: 0.3330676\ttotal: 35.9s\tremaining: 4m 39s\n",
      "114:\tlearn: 0.3327210\ttotal: 36.2s\tremaining: 4m 38s\n",
      "115:\tlearn: 0.3320639\ttotal: 36.5s\tremaining: 4m 38s\n",
      "116:\tlearn: 0.3313068\ttotal: 36.8s\tremaining: 4m 37s\n",
      "117:\tlearn: 0.3307610\ttotal: 37.1s\tremaining: 4m 37s\n",
      "118:\tlearn: 0.3302538\ttotal: 37.4s\tremaining: 4m 36s\n",
      "119:\tlearn: 0.3299290\ttotal: 37.7s\tremaining: 4m 36s\n",
      "120:\tlearn: 0.3292810\ttotal: 38s\tremaining: 4m 35s\n",
      "121:\tlearn: 0.3286677\ttotal: 38.2s\tremaining: 4m 35s\n",
      "122:\tlearn: 0.3282421\ttotal: 38.5s\tremaining: 4m 34s\n",
      "123:\tlearn: 0.3277118\ttotal: 38.8s\tremaining: 4m 34s\n",
      "124:\tlearn: 0.3272539\ttotal: 39.1s\tremaining: 4m 33s\n",
      "125:\tlearn: 0.3267794\ttotal: 39.4s\tremaining: 4m 32s\n",
      "126:\tlearn: 0.3263280\ttotal: 39.8s\tremaining: 4m 33s\n",
      "127:\tlearn: 0.3258315\ttotal: 40.2s\tremaining: 4m 33s\n",
      "128:\tlearn: 0.3253868\ttotal: 40.5s\tremaining: 4m 33s\n",
      "129:\tlearn: 0.3250189\ttotal: 40.9s\tremaining: 4m 33s\n",
      "130:\tlearn: 0.3245323\ttotal: 41.2s\tremaining: 4m 33s\n",
      "131:\tlearn: 0.3242592\ttotal: 41.5s\tremaining: 4m 32s\n",
      "132:\tlearn: 0.3237208\ttotal: 41.9s\tremaining: 4m 32s\n",
      "133:\tlearn: 0.3230861\ttotal: 42.2s\tremaining: 4m 32s\n",
      "134:\tlearn: 0.3226804\ttotal: 42.6s\tremaining: 4m 32s\n",
      "135:\tlearn: 0.3219641\ttotal: 42.9s\tremaining: 4m 32s\n",
      "136:\tlearn: 0.3215319\ttotal: 43.3s\tremaining: 4m 32s\n",
      "137:\tlearn: 0.3210085\ttotal: 43.6s\tremaining: 4m 32s\n",
      "138:\tlearn: 0.3204889\ttotal: 44s\tremaining: 4m 32s\n",
      "139:\tlearn: 0.3200119\ttotal: 44.3s\tremaining: 4m 32s\n",
      "140:\tlearn: 0.3197542\ttotal: 44.6s\tremaining: 4m 31s\n",
      "141:\tlearn: 0.3193204\ttotal: 44.9s\tremaining: 4m 31s\n",
      "142:\tlearn: 0.3189105\ttotal: 45.2s\tremaining: 4m 30s\n",
      "143:\tlearn: 0.3186367\ttotal: 45.4s\tremaining: 4m 30s\n",
      "144:\tlearn: 0.3182642\ttotal: 45.7s\tremaining: 4m 29s\n",
      "145:\tlearn: 0.3176384\ttotal: 46s\tremaining: 4m 29s\n",
      "146:\tlearn: 0.3169783\ttotal: 46.4s\tremaining: 4m 29s\n",
      "147:\tlearn: 0.3164090\ttotal: 46.8s\tremaining: 4m 29s\n",
      "148:\tlearn: 0.3161296\ttotal: 47.1s\tremaining: 4m 29s\n",
      "149:\tlearn: 0.3156736\ttotal: 47.5s\tremaining: 4m 28s\n",
      "150:\tlearn: 0.3153634\ttotal: 47.8s\tremaining: 4m 28s\n",
      "151:\tlearn: 0.3149862\ttotal: 48.1s\tremaining: 4m 28s\n",
      "152:\tlearn: 0.3146292\ttotal: 48.4s\tremaining: 4m 28s\n",
      "153:\tlearn: 0.3143149\ttotal: 48.7s\tremaining: 4m 27s\n",
      "154:\tlearn: 0.3139208\ttotal: 49s\tremaining: 4m 27s\n",
      "155:\tlearn: 0.3134712\ttotal: 49.3s\tremaining: 4m 26s\n",
      "156:\tlearn: 0.3130912\ttotal: 49.6s\tremaining: 4m 26s\n",
      "157:\tlearn: 0.3127803\ttotal: 49.9s\tremaining: 4m 25s\n",
      "158:\tlearn: 0.3124795\ttotal: 50.2s\tremaining: 4m 25s\n"
     ]
    },
    {
     "name": "stdout",
     "output_type": "stream",
     "text": [
      "159:\tlearn: 0.3120266\ttotal: 50.5s\tremaining: 4m 25s\n",
      "160:\tlearn: 0.3116248\ttotal: 50.8s\tremaining: 4m 24s\n",
      "161:\tlearn: 0.3112200\ttotal: 51.2s\tremaining: 4m 24s\n",
      "162:\tlearn: 0.3110069\ttotal: 51.5s\tremaining: 4m 24s\n",
      "163:\tlearn: 0.3104743\ttotal: 51.8s\tremaining: 4m 24s\n",
      "164:\tlearn: 0.3098705\ttotal: 52.1s\tremaining: 4m 23s\n",
      "165:\tlearn: 0.3096456\ttotal: 52.5s\tremaining: 4m 23s\n",
      "166:\tlearn: 0.3093228\ttotal: 52.8s\tremaining: 4m 23s\n",
      "167:\tlearn: 0.3089238\ttotal: 53.1s\tremaining: 4m 22s\n",
      "168:\tlearn: 0.3087864\ttotal: 53.4s\tremaining: 4m 22s\n",
      "169:\tlearn: 0.3082119\ttotal: 53.7s\tremaining: 4m 22s\n",
      "170:\tlearn: 0.3079788\ttotal: 54s\tremaining: 4m 21s\n",
      "171:\tlearn: 0.3075396\ttotal: 54.2s\tremaining: 4m 21s\n",
      "172:\tlearn: 0.3072768\ttotal: 54.5s\tremaining: 4m 20s\n",
      "173:\tlearn: 0.3069409\ttotal: 54.8s\tremaining: 4m 19s\n",
      "174:\tlearn: 0.3067043\ttotal: 55s\tremaining: 4m 19s\n",
      "175:\tlearn: 0.3061333\ttotal: 55.3s\tremaining: 4m 18s\n",
      "176:\tlearn: 0.3058953\ttotal: 55.6s\tremaining: 4m 18s\n",
      "177:\tlearn: 0.3055562\ttotal: 55.9s\tremaining: 4m 17s\n",
      "178:\tlearn: 0.3051844\ttotal: 56.1s\tremaining: 4m 17s\n",
      "179:\tlearn: 0.3046717\ttotal: 56.4s\tremaining: 4m 17s\n",
      "180:\tlearn: 0.3042468\ttotal: 56.7s\tremaining: 4m 16s\n",
      "181:\tlearn: 0.3035773\ttotal: 57s\tremaining: 4m 16s\n",
      "182:\tlearn: 0.3031664\ttotal: 57.3s\tremaining: 4m 15s\n",
      "183:\tlearn: 0.3027706\ttotal: 57.6s\tremaining: 4m 15s\n",
      "184:\tlearn: 0.3023495\ttotal: 57.9s\tremaining: 4m 15s\n",
      "185:\tlearn: 0.3020092\ttotal: 58.2s\tremaining: 4m 14s\n",
      "186:\tlearn: 0.3016907\ttotal: 58.5s\tremaining: 4m 14s\n",
      "187:\tlearn: 0.3014906\ttotal: 58.7s\tremaining: 4m 13s\n",
      "188:\tlearn: 0.3011258\ttotal: 59s\tremaining: 4m 13s\n",
      "189:\tlearn: 0.3010301\ttotal: 59.3s\tremaining: 4m 12s\n",
      "190:\tlearn: 0.3006972\ttotal: 59.5s\tremaining: 4m 12s\n",
      "191:\tlearn: 0.3002697\ttotal: 59.8s\tremaining: 4m 11s\n",
      "192:\tlearn: 0.2998009\ttotal: 1m\tremaining: 4m 11s\n",
      "193:\tlearn: 0.2995243\ttotal: 1m\tremaining: 4m 10s\n",
      "194:\tlearn: 0.2991264\ttotal: 1m\tremaining: 4m 10s\n",
      "195:\tlearn: 0.2989141\ttotal: 1m\tremaining: 4m 10s\n",
      "196:\tlearn: 0.2985063\ttotal: 1m 1s\tremaining: 4m 9s\n",
      "197:\tlearn: 0.2982895\ttotal: 1m 1s\tremaining: 4m 9s\n",
      "198:\tlearn: 0.2979604\ttotal: 1m 1s\tremaining: 4m 8s\n",
      "199:\tlearn: 0.2977849\ttotal: 1m 2s\tremaining: 4m 8s\n",
      "200:\tlearn: 0.2973633\ttotal: 1m 2s\tremaining: 4m 8s\n",
      "201:\tlearn: 0.2970301\ttotal: 1m 2s\tremaining: 4m 7s\n",
      "202:\tlearn: 0.2967816\ttotal: 1m 2s\tremaining: 4m 7s\n",
      "203:\tlearn: 0.2964266\ttotal: 1m 3s\tremaining: 4m 6s\n",
      "204:\tlearn: 0.2960759\ttotal: 1m 3s\tremaining: 4m 6s\n",
      "205:\tlearn: 0.2958096\ttotal: 1m 3s\tremaining: 4m 5s\n",
      "206:\tlearn: 0.2954063\ttotal: 1m 4s\tremaining: 4m 5s\n",
      "207:\tlearn: 0.2952001\ttotal: 1m 4s\tremaining: 4m 4s\n",
      "208:\tlearn: 0.2950345\ttotal: 1m 4s\tremaining: 4m 4s\n",
      "209:\tlearn: 0.2947293\ttotal: 1m 4s\tremaining: 4m 4s\n",
      "210:\tlearn: 0.2946438\ttotal: 1m 5s\tremaining: 4m 3s\n",
      "211:\tlearn: 0.2943290\ttotal: 1m 5s\tremaining: 4m 3s\n",
      "212:\tlearn: 0.2939949\ttotal: 1m 5s\tremaining: 4m 2s\n",
      "213:\tlearn: 0.2937980\ttotal: 1m 6s\tremaining: 4m 2s\n",
      "214:\tlearn: 0.2934884\ttotal: 1m 6s\tremaining: 4m 1s\n",
      "215:\tlearn: 0.2931999\ttotal: 1m 6s\tremaining: 4m 1s\n",
      "216:\tlearn: 0.2929168\ttotal: 1m 6s\tremaining: 4m 1s\n",
      "217:\tlearn: 0.2924102\ttotal: 1m 7s\tremaining: 4m\n",
      "218:\tlearn: 0.2921782\ttotal: 1m 7s\tremaining: 4m\n",
      "219:\tlearn: 0.2919587\ttotal: 1m 7s\tremaining: 3m 59s\n",
      "220:\tlearn: 0.2915617\ttotal: 1m 7s\tremaining: 3m 59s\n",
      "221:\tlearn: 0.2913229\ttotal: 1m 8s\tremaining: 3m 58s\n",
      "222:\tlearn: 0.2911926\ttotal: 1m 8s\tremaining: 3m 58s\n",
      "223:\tlearn: 0.2907274\ttotal: 1m 8s\tremaining: 3m 58s\n",
      "224:\tlearn: 0.2905251\ttotal: 1m 8s\tremaining: 3m 57s\n",
      "225:\tlearn: 0.2903749\ttotal: 1m 9s\tremaining: 3m 57s\n",
      "226:\tlearn: 0.2900879\ttotal: 1m 9s\tremaining: 3m 56s\n",
      "227:\tlearn: 0.2897074\ttotal: 1m 9s\tremaining: 3m 56s\n",
      "228:\tlearn: 0.2895411\ttotal: 1m 10s\tremaining: 3m 56s\n",
      "229:\tlearn: 0.2892063\ttotal: 1m 10s\tremaining: 3m 55s\n",
      "230:\tlearn: 0.2887714\ttotal: 1m 10s\tremaining: 3m 55s\n",
      "231:\tlearn: 0.2886031\ttotal: 1m 10s\tremaining: 3m 54s\n",
      "232:\tlearn: 0.2882452\ttotal: 1m 11s\tremaining: 3m 54s\n",
      "233:\tlearn: 0.2879003\ttotal: 1m 11s\tremaining: 3m 54s\n",
      "234:\tlearn: 0.2877289\ttotal: 1m 11s\tremaining: 3m 53s\n",
      "235:\tlearn: 0.2873148\ttotal: 1m 12s\tremaining: 3m 53s\n",
      "236:\tlearn: 0.2871309\ttotal: 1m 12s\tremaining: 3m 52s\n",
      "237:\tlearn: 0.2869963\ttotal: 1m 12s\tremaining: 3m 52s\n",
      "238:\tlearn: 0.2867987\ttotal: 1m 12s\tremaining: 3m 52s\n",
      "239:\tlearn: 0.2866575\ttotal: 1m 13s\tremaining: 3m 51s\n",
      "240:\tlearn: 0.2865622\ttotal: 1m 13s\tremaining: 3m 51s\n",
      "241:\tlearn: 0.2862888\ttotal: 1m 13s\tremaining: 3m 50s\n",
      "242:\tlearn: 0.2859793\ttotal: 1m 14s\tremaining: 3m 50s\n",
      "243:\tlearn: 0.2855881\ttotal: 1m 14s\tremaining: 3m 50s\n",
      "244:\tlearn: 0.2852701\ttotal: 1m 14s\tremaining: 3m 49s\n",
      "245:\tlearn: 0.2850088\ttotal: 1m 14s\tremaining: 3m 49s\n",
      "246:\tlearn: 0.2847749\ttotal: 1m 15s\tremaining: 3m 48s\n",
      "247:\tlearn: 0.2845810\ttotal: 1m 15s\tremaining: 3m 48s\n",
      "248:\tlearn: 0.2843500\ttotal: 1m 15s\tremaining: 3m 48s\n",
      "249:\tlearn: 0.2840549\ttotal: 1m 15s\tremaining: 3m 47s\n",
      "250:\tlearn: 0.2838407\ttotal: 1m 16s\tremaining: 3m 47s\n",
      "251:\tlearn: 0.2835433\ttotal: 1m 16s\tremaining: 3m 47s\n",
      "252:\tlearn: 0.2831385\ttotal: 1m 16s\tremaining: 3m 46s\n",
      "253:\tlearn: 0.2829802\ttotal: 1m 17s\tremaining: 3m 46s\n",
      "254:\tlearn: 0.2826223\ttotal: 1m 17s\tremaining: 3m 45s\n",
      "255:\tlearn: 0.2825234\ttotal: 1m 17s\tremaining: 3m 45s\n",
      "256:\tlearn: 0.2823108\ttotal: 1m 17s\tremaining: 3m 45s\n",
      "257:\tlearn: 0.2820698\ttotal: 1m 18s\tremaining: 3m 45s\n",
      "258:\tlearn: 0.2817967\ttotal: 1m 18s\tremaining: 3m 44s\n",
      "259:\tlearn: 0.2816836\ttotal: 1m 19s\tremaining: 3m 45s\n",
      "260:\tlearn: 0.2814273\ttotal: 1m 19s\tremaining: 3m 45s\n",
      "261:\tlearn: 0.2810573\ttotal: 1m 19s\tremaining: 3m 45s\n",
      "262:\tlearn: 0.2809209\ttotal: 1m 20s\tremaining: 3m 45s\n",
      "263:\tlearn: 0.2807078\ttotal: 1m 20s\tremaining: 3m 45s\n",
      "264:\tlearn: 0.2806516\ttotal: 1m 21s\tremaining: 3m 45s\n",
      "265:\tlearn: 0.2805769\ttotal: 1m 21s\tremaining: 3m 45s\n",
      "266:\tlearn: 0.2801967\ttotal: 1m 21s\tremaining: 3m 44s\n",
      "267:\tlearn: 0.2799086\ttotal: 1m 22s\tremaining: 3m 44s\n",
      "268:\tlearn: 0.2798027\ttotal: 1m 22s\tremaining: 3m 44s\n",
      "269:\tlearn: 0.2795723\ttotal: 1m 22s\tremaining: 3m 44s\n",
      "270:\tlearn: 0.2793995\ttotal: 1m 23s\tremaining: 3m 43s\n",
      "271:\tlearn: 0.2793168\ttotal: 1m 23s\tremaining: 3m 43s\n",
      "272:\tlearn: 0.2792142\ttotal: 1m 23s\tremaining: 3m 43s\n",
      "273:\tlearn: 0.2789525\ttotal: 1m 24s\tremaining: 3m 42s\n",
      "274:\tlearn: 0.2786643\ttotal: 1m 24s\tremaining: 3m 42s\n",
      "275:\tlearn: 0.2784727\ttotal: 1m 24s\tremaining: 3m 42s\n",
      "276:\tlearn: 0.2783418\ttotal: 1m 24s\tremaining: 3m 41s\n",
      "277:\tlearn: 0.2780949\ttotal: 1m 25s\tremaining: 3m 41s\n",
      "278:\tlearn: 0.2778473\ttotal: 1m 25s\tremaining: 3m 41s\n",
      "279:\tlearn: 0.2777526\ttotal: 1m 25s\tremaining: 3m 40s\n",
      "280:\tlearn: 0.2775570\ttotal: 1m 26s\tremaining: 3m 40s\n",
      "281:\tlearn: 0.2773141\ttotal: 1m 26s\tremaining: 3m 40s\n",
      "282:\tlearn: 0.2770762\ttotal: 1m 26s\tremaining: 3m 39s\n",
      "283:\tlearn: 0.2767634\ttotal: 1m 27s\tremaining: 3m 39s\n",
      "284:\tlearn: 0.2766223\ttotal: 1m 27s\tremaining: 3m 39s\n",
      "285:\tlearn: 0.2763054\ttotal: 1m 27s\tremaining: 3m 38s\n",
      "286:\tlearn: 0.2762349\ttotal: 1m 27s\tremaining: 3m 38s\n",
      "287:\tlearn: 0.2760231\ttotal: 1m 28s\tremaining: 3m 37s\n",
      "288:\tlearn: 0.2757419\ttotal: 1m 28s\tremaining: 3m 37s\n",
      "289:\tlearn: 0.2754681\ttotal: 1m 28s\tremaining: 3m 37s\n",
      "290:\tlearn: 0.2754081\ttotal: 1m 29s\tremaining: 3m 36s\n",
      "291:\tlearn: 0.2750164\ttotal: 1m 29s\tremaining: 3m 36s\n",
      "292:\tlearn: 0.2747419\ttotal: 1m 29s\tremaining: 3m 36s\n",
      "293:\tlearn: 0.2746302\ttotal: 1m 29s\tremaining: 3m 35s\n",
      "294:\tlearn: 0.2741980\ttotal: 1m 30s\tremaining: 3m 35s\n",
      "295:\tlearn: 0.2739598\ttotal: 1m 30s\tremaining: 3m 35s\n",
      "296:\tlearn: 0.2738187\ttotal: 1m 30s\tremaining: 3m 34s\n",
      "297:\tlearn: 0.2736082\ttotal: 1m 31s\tremaining: 3m 34s\n",
      "298:\tlearn: 0.2734031\ttotal: 1m 31s\tremaining: 3m 34s\n",
      "299:\tlearn: 0.2731264\ttotal: 1m 31s\tremaining: 3m 33s\n",
      "300:\tlearn: 0.2728930\ttotal: 1m 31s\tremaining: 3m 33s\n",
      "301:\tlearn: 0.2724239\ttotal: 1m 32s\tremaining: 3m 33s\n",
      "302:\tlearn: 0.2722852\ttotal: 1m 32s\tremaining: 3m 32s\n",
      "303:\tlearn: 0.2721662\ttotal: 1m 32s\tremaining: 3m 32s\n",
      "304:\tlearn: 0.2720520\ttotal: 1m 33s\tremaining: 3m 32s\n",
      "305:\tlearn: 0.2719332\ttotal: 1m 33s\tremaining: 3m 31s\n",
      "306:\tlearn: 0.2718180\ttotal: 1m 33s\tremaining: 3m 31s\n",
      "307:\tlearn: 0.2716527\ttotal: 1m 33s\tremaining: 3m 31s\n",
      "308:\tlearn: 0.2714798\ttotal: 1m 34s\tremaining: 3m 30s\n",
      "309:\tlearn: 0.2712414\ttotal: 1m 34s\tremaining: 3m 30s\n",
      "310:\tlearn: 0.2708434\ttotal: 1m 34s\tremaining: 3m 30s\n",
      "311:\tlearn: 0.2706162\ttotal: 1m 35s\tremaining: 3m 29s\n",
      "312:\tlearn: 0.2704776\ttotal: 1m 35s\tremaining: 3m 29s\n"
     ]
    },
    {
     "name": "stdout",
     "output_type": "stream",
     "text": [
      "313:\tlearn: 0.2700687\ttotal: 1m 35s\tremaining: 3m 29s\n",
      "314:\tlearn: 0.2700075\ttotal: 1m 36s\tremaining: 3m 29s\n",
      "315:\tlearn: 0.2697886\ttotal: 1m 36s\tremaining: 3m 29s\n",
      "316:\tlearn: 0.2696691\ttotal: 1m 36s\tremaining: 3m 28s\n",
      "317:\tlearn: 0.2694390\ttotal: 1m 37s\tremaining: 3m 28s\n",
      "318:\tlearn: 0.2691585\ttotal: 1m 37s\tremaining: 3m 28s\n",
      "319:\tlearn: 0.2690737\ttotal: 1m 37s\tremaining: 3m 27s\n",
      "320:\tlearn: 0.2689506\ttotal: 1m 38s\tremaining: 3m 27s\n",
      "321:\tlearn: 0.2687837\ttotal: 1m 38s\tremaining: 3m 27s\n",
      "322:\tlearn: 0.2685893\ttotal: 1m 38s\tremaining: 3m 26s\n",
      "323:\tlearn: 0.2683367\ttotal: 1m 39s\tremaining: 3m 26s\n",
      "324:\tlearn: 0.2680052\ttotal: 1m 39s\tremaining: 3m 26s\n",
      "325:\tlearn: 0.2677333\ttotal: 1m 39s\tremaining: 3m 25s\n",
      "326:\tlearn: 0.2674694\ttotal: 1m 39s\tremaining: 3m 25s\n",
      "327:\tlearn: 0.2671615\ttotal: 1m 40s\tremaining: 3m 25s\n",
      "328:\tlearn: 0.2669795\ttotal: 1m 40s\tremaining: 3m 24s\n",
      "329:\tlearn: 0.2668760\ttotal: 1m 40s\tremaining: 3m 24s\n",
      "330:\tlearn: 0.2666791\ttotal: 1m 41s\tremaining: 3m 24s\n",
      "331:\tlearn: 0.2665727\ttotal: 1m 41s\tremaining: 3m 23s\n",
      "332:\tlearn: 0.2661218\ttotal: 1m 41s\tremaining: 3m 23s\n",
      "333:\tlearn: 0.2658967\ttotal: 1m 41s\tremaining: 3m 23s\n",
      "334:\tlearn: 0.2656869\ttotal: 1m 42s\tremaining: 3m 23s\n",
      "335:\tlearn: 0.2652532\ttotal: 1m 42s\tremaining: 3m 22s\n",
      "336:\tlearn: 0.2651593\ttotal: 1m 42s\tremaining: 3m 22s\n",
      "337:\tlearn: 0.2648547\ttotal: 1m 43s\tremaining: 3m 22s\n",
      "338:\tlearn: 0.2645773\ttotal: 1m 43s\tremaining: 3m 21s\n",
      "339:\tlearn: 0.2640365\ttotal: 1m 43s\tremaining: 3m 21s\n",
      "340:\tlearn: 0.2637949\ttotal: 1m 44s\tremaining: 3m 21s\n",
      "341:\tlearn: 0.2635930\ttotal: 1m 44s\tremaining: 3m 20s\n",
      "342:\tlearn: 0.2633205\ttotal: 1m 44s\tremaining: 3m 20s\n",
      "343:\tlearn: 0.2628143\ttotal: 1m 45s\tremaining: 3m 20s\n",
      "344:\tlearn: 0.2623424\ttotal: 1m 45s\tremaining: 3m 19s\n",
      "345:\tlearn: 0.2622318\ttotal: 1m 45s\tremaining: 3m 19s\n",
      "346:\tlearn: 0.2618968\ttotal: 1m 45s\tremaining: 3m 19s\n",
      "347:\tlearn: 0.2617141\ttotal: 1m 46s\tremaining: 3m 18s\n",
      "348:\tlearn: 0.2614108\ttotal: 1m 46s\tremaining: 3m 18s\n",
      "349:\tlearn: 0.2610163\ttotal: 1m 46s\tremaining: 3m 18s\n",
      "350:\tlearn: 0.2607341\ttotal: 1m 46s\tremaining: 3m 17s\n",
      "351:\tlearn: 0.2605745\ttotal: 1m 47s\tremaining: 3m 17s\n",
      "352:\tlearn: 0.2601560\ttotal: 1m 47s\tremaining: 3m 17s\n",
      "353:\tlearn: 0.2600715\ttotal: 1m 47s\tremaining: 3m 16s\n",
      "354:\tlearn: 0.2599761\ttotal: 1m 48s\tremaining: 3m 16s\n",
      "355:\tlearn: 0.2596617\ttotal: 1m 48s\tremaining: 3m 16s\n",
      "356:\tlearn: 0.2592988\ttotal: 1m 48s\tremaining: 3m 15s\n",
      "357:\tlearn: 0.2590699\ttotal: 1m 48s\tremaining: 3m 15s\n",
      "358:\tlearn: 0.2588899\ttotal: 1m 49s\tremaining: 3m 15s\n",
      "359:\tlearn: 0.2586998\ttotal: 1m 49s\tremaining: 3m 14s\n",
      "360:\tlearn: 0.2586133\ttotal: 1m 49s\tremaining: 3m 14s\n",
      "361:\tlearn: 0.2583776\ttotal: 1m 50s\tremaining: 3m 14s\n",
      "362:\tlearn: 0.2581006\ttotal: 1m 50s\tremaining: 3m 13s\n",
      "363:\tlearn: 0.2578238\ttotal: 1m 50s\tremaining: 3m 13s\n",
      "364:\tlearn: 0.2575587\ttotal: 1m 51s\tremaining: 3m 13s\n",
      "365:\tlearn: 0.2573687\ttotal: 1m 51s\tremaining: 3m 12s\n",
      "366:\tlearn: 0.2573294\ttotal: 1m 51s\tremaining: 3m 12s\n",
      "367:\tlearn: 0.2569798\ttotal: 1m 52s\tremaining: 3m 12s\n",
      "368:\tlearn: 0.2569152\ttotal: 1m 52s\tremaining: 3m 11s\n",
      "369:\tlearn: 0.2567503\ttotal: 1m 52s\tremaining: 3m 11s\n",
      "370:\tlearn: 0.2564195\ttotal: 1m 52s\tremaining: 3m 11s\n",
      "371:\tlearn: 0.2560790\ttotal: 1m 53s\tremaining: 3m 11s\n",
      "372:\tlearn: 0.2558866\ttotal: 1m 53s\tremaining: 3m 10s\n",
      "373:\tlearn: 0.2558029\ttotal: 1m 53s\tremaining: 3m 10s\n",
      "374:\tlearn: 0.2554885\ttotal: 1m 53s\tremaining: 3m 9s\n",
      "375:\tlearn: 0.2554071\ttotal: 1m 54s\tremaining: 3m 9s\n",
      "376:\tlearn: 0.2552744\ttotal: 1m 54s\tremaining: 3m 9s\n",
      "377:\tlearn: 0.2552472\ttotal: 1m 54s\tremaining: 3m 8s\n",
      "378:\tlearn: 0.2550029\ttotal: 1m 55s\tremaining: 3m 8s\n",
      "379:\tlearn: 0.2547363\ttotal: 1m 55s\tremaining: 3m 8s\n",
      "380:\tlearn: 0.2546643\ttotal: 1m 55s\tremaining: 3m 7s\n",
      "381:\tlearn: 0.2544902\ttotal: 1m 55s\tremaining: 3m 7s\n",
      "382:\tlearn: 0.2542688\ttotal: 1m 56s\tremaining: 3m 7s\n",
      "383:\tlearn: 0.2539393\ttotal: 1m 56s\tremaining: 3m 6s\n",
      "384:\tlearn: 0.2537628\ttotal: 1m 56s\tremaining: 3m 6s\n",
      "385:\tlearn: 0.2534072\ttotal: 1m 56s\tremaining: 3m 6s\n",
      "386:\tlearn: 0.2533535\ttotal: 1m 57s\tremaining: 3m 5s\n",
      "387:\tlearn: 0.2530842\ttotal: 1m 57s\tremaining: 3m 5s\n",
      "388:\tlearn: 0.2529785\ttotal: 1m 57s\tremaining: 3m 4s\n",
      "389:\tlearn: 0.2526004\ttotal: 1m 58s\tremaining: 3m 4s\n",
      "390:\tlearn: 0.2524534\ttotal: 1m 58s\tremaining: 3m 4s\n",
      "391:\tlearn: 0.2523370\ttotal: 1m 58s\tremaining: 3m 3s\n",
      "392:\tlearn: 0.2522533\ttotal: 1m 58s\tremaining: 3m 3s\n",
      "393:\tlearn: 0.2521818\ttotal: 1m 59s\tremaining: 3m 3s\n",
      "394:\tlearn: 0.2520373\ttotal: 1m 59s\tremaining: 3m 2s\n",
      "395:\tlearn: 0.2519687\ttotal: 1m 59s\tremaining: 3m 2s\n",
      "396:\tlearn: 0.2518660\ttotal: 1m 59s\tremaining: 3m 2s\n",
      "397:\tlearn: 0.2517811\ttotal: 2m\tremaining: 3m 1s\n",
      "398:\tlearn: 0.2515575\ttotal: 2m\tremaining: 3m 1s\n",
      "399:\tlearn: 0.2514590\ttotal: 2m\tremaining: 3m 1s\n",
      "400:\tlearn: 0.2512683\ttotal: 2m 1s\tremaining: 3m\n",
      "401:\tlearn: 0.2508967\ttotal: 2m 1s\tremaining: 3m\n",
      "402:\tlearn: 0.2504180\ttotal: 2m 1s\tremaining: 3m\n",
      "403:\tlearn: 0.2503689\ttotal: 2m 1s\tremaining: 2m 59s\n",
      "404:\tlearn: 0.2503443\ttotal: 2m 2s\tremaining: 2m 59s\n",
      "405:\tlearn: 0.2501900\ttotal: 2m 2s\tremaining: 2m 59s\n",
      "406:\tlearn: 0.2501619\ttotal: 2m 2s\tremaining: 2m 59s\n",
      "407:\tlearn: 0.2501161\ttotal: 2m 3s\tremaining: 2m 58s\n",
      "408:\tlearn: 0.2497414\ttotal: 2m 3s\tremaining: 2m 58s\n",
      "409:\tlearn: 0.2494727\ttotal: 2m 3s\tremaining: 2m 58s\n",
      "410:\tlearn: 0.2493716\ttotal: 2m 4s\tremaining: 2m 57s\n",
      "411:\tlearn: 0.2490094\ttotal: 2m 4s\tremaining: 2m 57s\n",
      "412:\tlearn: 0.2487680\ttotal: 2m 4s\tremaining: 2m 57s\n",
      "413:\tlearn: 0.2485347\ttotal: 2m 5s\tremaining: 2m 57s\n",
      "414:\tlearn: 0.2483237\ttotal: 2m 5s\tremaining: 2m 56s\n",
      "415:\tlearn: 0.2480566\ttotal: 2m 5s\tremaining: 2m 56s\n",
      "416:\tlearn: 0.2480159\ttotal: 2m 6s\tremaining: 2m 56s\n",
      "417:\tlearn: 0.2477696\ttotal: 2m 6s\tremaining: 2m 55s\n",
      "418:\tlearn: 0.2476690\ttotal: 2m 6s\tremaining: 2m 55s\n",
      "419:\tlearn: 0.2474725\ttotal: 2m 7s\tremaining: 2m 55s\n",
      "420:\tlearn: 0.2474456\ttotal: 2m 7s\tremaining: 2m 55s\n",
      "421:\tlearn: 0.2473408\ttotal: 2m 7s\tremaining: 2m 54s\n",
      "422:\tlearn: 0.2472114\ttotal: 2m 7s\tremaining: 2m 54s\n",
      "423:\tlearn: 0.2470678\ttotal: 2m 8s\tremaining: 2m 54s\n",
      "424:\tlearn: 0.2468698\ttotal: 2m 8s\tremaining: 2m 53s\n",
      "425:\tlearn: 0.2468047\ttotal: 2m 8s\tremaining: 2m 53s\n",
      "426:\tlearn: 0.2467945\ttotal: 2m 9s\tremaining: 2m 53s\n",
      "427:\tlearn: 0.2464287\ttotal: 2m 9s\tremaining: 2m 52s\n",
      "428:\tlearn: 0.2462258\ttotal: 2m 9s\tremaining: 2m 52s\n",
      "429:\tlearn: 0.2458361\ttotal: 2m 10s\tremaining: 2m 52s\n",
      "430:\tlearn: 0.2454756\ttotal: 2m 10s\tremaining: 2m 52s\n",
      "431:\tlearn: 0.2452489\ttotal: 2m 10s\tremaining: 2m 51s\n",
      "432:\tlearn: 0.2451394\ttotal: 2m 10s\tremaining: 2m 51s\n",
      "433:\tlearn: 0.2450742\ttotal: 2m 11s\tremaining: 2m 51s\n",
      "434:\tlearn: 0.2450254\ttotal: 2m 11s\tremaining: 2m 50s\n",
      "435:\tlearn: 0.2446127\ttotal: 2m 11s\tremaining: 2m 50s\n",
      "436:\tlearn: 0.2442782\ttotal: 2m 12s\tremaining: 2m 50s\n",
      "437:\tlearn: 0.2441720\ttotal: 2m 12s\tremaining: 2m 49s\n",
      "438:\tlearn: 0.2440270\ttotal: 2m 12s\tremaining: 2m 49s\n",
      "439:\tlearn: 0.2437629\ttotal: 2m 12s\tremaining: 2m 49s\n",
      "440:\tlearn: 0.2435566\ttotal: 2m 13s\tremaining: 2m 48s\n",
      "441:\tlearn: 0.2433058\ttotal: 2m 13s\tremaining: 2m 48s\n",
      "442:\tlearn: 0.2431747\ttotal: 2m 13s\tremaining: 2m 48s\n",
      "443:\tlearn: 0.2429971\ttotal: 2m 13s\tremaining: 2m 47s\n",
      "444:\tlearn: 0.2429194\ttotal: 2m 14s\tremaining: 2m 47s\n",
      "445:\tlearn: 0.2424465\ttotal: 2m 14s\tremaining: 2m 47s\n",
      "446:\tlearn: 0.2421433\ttotal: 2m 14s\tremaining: 2m 46s\n",
      "447:\tlearn: 0.2420057\ttotal: 2m 15s\tremaining: 2m 46s\n",
      "448:\tlearn: 0.2419499\ttotal: 2m 15s\tremaining: 2m 46s\n",
      "449:\tlearn: 0.2416763\ttotal: 2m 15s\tremaining: 2m 45s\n",
      "450:\tlearn: 0.2415841\ttotal: 2m 15s\tremaining: 2m 45s\n",
      "451:\tlearn: 0.2412409\ttotal: 2m 16s\tremaining: 2m 45s\n",
      "452:\tlearn: 0.2411060\ttotal: 2m 16s\tremaining: 2m 44s\n",
      "453:\tlearn: 0.2409383\ttotal: 2m 16s\tremaining: 2m 44s\n",
      "454:\tlearn: 0.2407559\ttotal: 2m 16s\tremaining: 2m 44s\n",
      "455:\tlearn: 0.2405562\ttotal: 2m 17s\tremaining: 2m 43s\n",
      "456:\tlearn: 0.2403590\ttotal: 2m 17s\tremaining: 2m 43s\n",
      "457:\tlearn: 0.2402513\ttotal: 2m 17s\tremaining: 2m 43s\n",
      "458:\tlearn: 0.2401033\ttotal: 2m 18s\tremaining: 2m 42s\n",
      "459:\tlearn: 0.2398365\ttotal: 2m 18s\tremaining: 2m 42s\n",
      "460:\tlearn: 0.2397106\ttotal: 2m 18s\tremaining: 2m 42s\n",
      "461:\tlearn: 0.2395358\ttotal: 2m 19s\tremaining: 2m 41s\n",
      "462:\tlearn: 0.2394476\ttotal: 2m 19s\tremaining: 2m 41s\n",
      "463:\tlearn: 0.2393921\ttotal: 2m 19s\tremaining: 2m 41s\n",
      "464:\tlearn: 0.2391900\ttotal: 2m 19s\tremaining: 2m 41s\n",
      "465:\tlearn: 0.2389536\ttotal: 2m 20s\tremaining: 2m 40s\n",
      "466:\tlearn: 0.2387176\ttotal: 2m 20s\tremaining: 2m 40s\n"
     ]
    },
    {
     "name": "stdout",
     "output_type": "stream",
     "text": [
      "467:\tlearn: 0.2384255\ttotal: 2m 21s\tremaining: 2m 40s\n",
      "468:\tlearn: 0.2381807\ttotal: 2m 21s\tremaining: 2m 40s\n",
      "469:\tlearn: 0.2379186\ttotal: 2m 22s\tremaining: 2m 40s\n",
      "470:\tlearn: 0.2378479\ttotal: 2m 22s\tremaining: 2m 39s\n",
      "471:\tlearn: 0.2375907\ttotal: 2m 22s\tremaining: 2m 39s\n",
      "472:\tlearn: 0.2374378\ttotal: 2m 23s\tremaining: 2m 39s\n",
      "473:\tlearn: 0.2373623\ttotal: 2m 23s\tremaining: 2m 39s\n",
      "474:\tlearn: 0.2373085\ttotal: 2m 23s\tremaining: 2m 38s\n",
      "475:\tlearn: 0.2372881\ttotal: 2m 23s\tremaining: 2m 38s\n",
      "476:\tlearn: 0.2371515\ttotal: 2m 24s\tremaining: 2m 38s\n",
      "477:\tlearn: 0.2369430\ttotal: 2m 24s\tremaining: 2m 37s\n",
      "478:\tlearn: 0.2368219\ttotal: 2m 24s\tremaining: 2m 37s\n",
      "479:\tlearn: 0.2366747\ttotal: 2m 25s\tremaining: 2m 37s\n",
      "480:\tlearn: 0.2366493\ttotal: 2m 25s\tremaining: 2m 36s\n",
      "481:\tlearn: 0.2364489\ttotal: 2m 25s\tremaining: 2m 36s\n",
      "482:\tlearn: 0.2362742\ttotal: 2m 26s\tremaining: 2m 36s\n",
      "483:\tlearn: 0.2360377\ttotal: 2m 26s\tremaining: 2m 36s\n",
      "484:\tlearn: 0.2359352\ttotal: 2m 26s\tremaining: 2m 35s\n",
      "485:\tlearn: 0.2357560\ttotal: 2m 26s\tremaining: 2m 35s\n",
      "486:\tlearn: 0.2357005\ttotal: 2m 27s\tremaining: 2m 35s\n",
      "487:\tlearn: 0.2356082\ttotal: 2m 27s\tremaining: 2m 34s\n",
      "488:\tlearn: 0.2354290\ttotal: 2m 27s\tremaining: 2m 34s\n",
      "489:\tlearn: 0.2352574\ttotal: 2m 28s\tremaining: 2m 34s\n",
      "490:\tlearn: 0.2350171\ttotal: 2m 28s\tremaining: 2m 33s\n",
      "491:\tlearn: 0.2349945\ttotal: 2m 28s\tremaining: 2m 33s\n",
      "492:\tlearn: 0.2347636\ttotal: 2m 29s\tremaining: 2m 33s\n",
      "493:\tlearn: 0.2346432\ttotal: 2m 29s\tremaining: 2m 32s\n",
      "494:\tlearn: 0.2343619\ttotal: 2m 29s\tremaining: 2m 32s\n",
      "495:\tlearn: 0.2341529\ttotal: 2m 30s\tremaining: 2m 32s\n",
      "496:\tlearn: 0.2340277\ttotal: 2m 30s\tremaining: 2m 32s\n",
      "497:\tlearn: 0.2339608\ttotal: 2m 30s\tremaining: 2m 31s\n",
      "498:\tlearn: 0.2338214\ttotal: 2m 30s\tremaining: 2m 31s\n",
      "499:\tlearn: 0.2337785\ttotal: 2m 31s\tremaining: 2m 31s\n",
      "500:\tlearn: 0.2337093\ttotal: 2m 31s\tremaining: 2m 30s\n",
      "501:\tlearn: 0.2336526\ttotal: 2m 31s\tremaining: 2m 30s\n",
      "502:\tlearn: 0.2334390\ttotal: 2m 32s\tremaining: 2m 30s\n",
      "503:\tlearn: 0.2333063\ttotal: 2m 32s\tremaining: 2m 30s\n",
      "504:\tlearn: 0.2332168\ttotal: 2m 32s\tremaining: 2m 29s\n",
      "505:\tlearn: 0.2329051\ttotal: 2m 33s\tremaining: 2m 29s\n",
      "506:\tlearn: 0.2327847\ttotal: 2m 33s\tremaining: 2m 29s\n",
      "507:\tlearn: 0.2325714\ttotal: 2m 33s\tremaining: 2m 28s\n",
      "508:\tlearn: 0.2323636\ttotal: 2m 34s\tremaining: 2m 28s\n",
      "509:\tlearn: 0.2321405\ttotal: 2m 34s\tremaining: 2m 28s\n",
      "510:\tlearn: 0.2320323\ttotal: 2m 34s\tremaining: 2m 27s\n",
      "511:\tlearn: 0.2318193\ttotal: 2m 34s\tremaining: 2m 27s\n",
      "512:\tlearn: 0.2316403\ttotal: 2m 35s\tremaining: 2m 27s\n",
      "513:\tlearn: 0.2313323\ttotal: 2m 35s\tremaining: 2m 27s\n",
      "514:\tlearn: 0.2310973\ttotal: 2m 35s\tremaining: 2m 26s\n",
      "515:\tlearn: 0.2309899\ttotal: 2m 36s\tremaining: 2m 26s\n",
      "516:\tlearn: 0.2306536\ttotal: 2m 36s\tremaining: 2m 26s\n",
      "517:\tlearn: 0.2305590\ttotal: 2m 36s\tremaining: 2m 25s\n",
      "518:\tlearn: 0.2304581\ttotal: 2m 37s\tremaining: 2m 25s\n",
      "519:\tlearn: 0.2303187\ttotal: 2m 37s\tremaining: 2m 25s\n",
      "520:\tlearn: 0.2302098\ttotal: 2m 37s\tremaining: 2m 24s\n",
      "521:\tlearn: 0.2301344\ttotal: 2m 37s\tremaining: 2m 24s\n",
      "522:\tlearn: 0.2300601\ttotal: 2m 38s\tremaining: 2m 24s\n",
      "523:\tlearn: 0.2298152\ttotal: 2m 38s\tremaining: 2m 24s\n",
      "524:\tlearn: 0.2295978\ttotal: 2m 38s\tremaining: 2m 23s\n",
      "525:\tlearn: 0.2295120\ttotal: 2m 39s\tremaining: 2m 23s\n",
      "526:\tlearn: 0.2294512\ttotal: 2m 39s\tremaining: 2m 23s\n",
      "527:\tlearn: 0.2293795\ttotal: 2m 39s\tremaining: 2m 22s\n",
      "528:\tlearn: 0.2292432\ttotal: 2m 40s\tremaining: 2m 22s\n",
      "529:\tlearn: 0.2291614\ttotal: 2m 40s\tremaining: 2m 22s\n",
      "530:\tlearn: 0.2290888\ttotal: 2m 40s\tremaining: 2m 21s\n",
      "531:\tlearn: 0.2290373\ttotal: 2m 41s\tremaining: 2m 21s\n",
      "532:\tlearn: 0.2289073\ttotal: 2m 41s\tremaining: 2m 21s\n",
      "533:\tlearn: 0.2287876\ttotal: 2m 41s\tremaining: 2m 21s\n",
      "534:\tlearn: 0.2287051\ttotal: 2m 41s\tremaining: 2m 20s\n",
      "535:\tlearn: 0.2286803\ttotal: 2m 42s\tremaining: 2m 20s\n",
      "536:\tlearn: 0.2286412\ttotal: 2m 42s\tremaining: 2m 20s\n",
      "537:\tlearn: 0.2285629\ttotal: 2m 42s\tremaining: 2m 19s\n",
      "538:\tlearn: 0.2285243\ttotal: 2m 43s\tremaining: 2m 19s\n",
      "539:\tlearn: 0.2283324\ttotal: 2m 43s\tremaining: 2m 19s\n",
      "540:\tlearn: 0.2282368\ttotal: 2m 43s\tremaining: 2m 18s\n",
      "541:\tlearn: 0.2280952\ttotal: 2m 44s\tremaining: 2m 18s\n",
      "542:\tlearn: 0.2279478\ttotal: 2m 44s\tremaining: 2m 18s\n",
      "543:\tlearn: 0.2279468\ttotal: 2m 44s\tremaining: 2m 17s\n",
      "544:\tlearn: 0.2278159\ttotal: 2m 44s\tremaining: 2m 17s\n",
      "545:\tlearn: 0.2275978\ttotal: 2m 44s\tremaining: 2m 17s\n",
      "546:\tlearn: 0.2275186\ttotal: 2m 45s\tremaining: 2m 16s\n",
      "547:\tlearn: 0.2274232\ttotal: 2m 45s\tremaining: 2m 16s\n",
      "548:\tlearn: 0.2273636\ttotal: 2m 45s\tremaining: 2m 16s\n",
      "549:\tlearn: 0.2273295\ttotal: 2m 46s\tremaining: 2m 15s\n",
      "550:\tlearn: 0.2271254\ttotal: 2m 46s\tremaining: 2m 15s\n",
      "551:\tlearn: 0.2269595\ttotal: 2m 46s\tremaining: 2m 15s\n",
      "552:\tlearn: 0.2269174\ttotal: 2m 47s\tremaining: 2m 15s\n",
      "553:\tlearn: 0.2267563\ttotal: 2m 47s\tremaining: 2m 14s\n",
      "554:\tlearn: 0.2265930\ttotal: 2m 47s\tremaining: 2m 14s\n",
      "555:\tlearn: 0.2264140\ttotal: 2m 47s\tremaining: 2m 14s\n",
      "556:\tlearn: 0.2262789\ttotal: 2m 48s\tremaining: 2m 13s\n",
      "557:\tlearn: 0.2261741\ttotal: 2m 48s\tremaining: 2m 13s\n",
      "558:\tlearn: 0.2259858\ttotal: 2m 48s\tremaining: 2m 13s\n",
      "559:\tlearn: 0.2259588\ttotal: 2m 49s\tremaining: 2m 12s\n",
      "560:\tlearn: 0.2257991\ttotal: 2m 49s\tremaining: 2m 12s\n",
      "561:\tlearn: 0.2257687\ttotal: 2m 49s\tremaining: 2m 12s\n",
      "562:\tlearn: 0.2255845\ttotal: 2m 49s\tremaining: 2m 11s\n",
      "563:\tlearn: 0.2255118\ttotal: 2m 50s\tremaining: 2m 11s\n",
      "564:\tlearn: 0.2253829\ttotal: 2m 50s\tremaining: 2m 11s\n",
      "565:\tlearn: 0.2252504\ttotal: 2m 50s\tremaining: 2m 10s\n",
      "566:\tlearn: 0.2250475\ttotal: 2m 51s\tremaining: 2m 10s\n",
      "567:\tlearn: 0.2249457\ttotal: 2m 51s\tremaining: 2m 10s\n",
      "568:\tlearn: 0.2247184\ttotal: 2m 51s\tremaining: 2m 10s\n",
      "569:\tlearn: 0.2245687\ttotal: 2m 52s\tremaining: 2m 9s\n",
      "570:\tlearn: 0.2244013\ttotal: 2m 52s\tremaining: 2m 9s\n",
      "571:\tlearn: 0.2241053\ttotal: 2m 52s\tremaining: 2m 9s\n",
      "572:\tlearn: 0.2238342\ttotal: 2m 53s\tremaining: 2m 8s\n",
      "573:\tlearn: 0.2237056\ttotal: 2m 53s\tremaining: 2m 8s\n",
      "574:\tlearn: 0.2236494\ttotal: 2m 53s\tremaining: 2m 8s\n",
      "575:\tlearn: 0.2233394\ttotal: 2m 53s\tremaining: 2m 7s\n",
      "576:\tlearn: 0.2232647\ttotal: 2m 54s\tremaining: 2m 7s\n",
      "577:\tlearn: 0.2232060\ttotal: 2m 54s\tremaining: 2m 7s\n",
      "578:\tlearn: 0.2229237\ttotal: 2m 54s\tremaining: 2m 6s\n",
      "579:\tlearn: 0.2228299\ttotal: 2m 54s\tremaining: 2m 6s\n",
      "580:\tlearn: 0.2224348\ttotal: 2m 55s\tremaining: 2m 6s\n",
      "581:\tlearn: 0.2223116\ttotal: 2m 55s\tremaining: 2m 6s\n",
      "582:\tlearn: 0.2222549\ttotal: 2m 55s\tremaining: 2m 5s\n",
      "583:\tlearn: 0.2220278\ttotal: 2m 56s\tremaining: 2m 5s\n",
      "584:\tlearn: 0.2218933\ttotal: 2m 56s\tremaining: 2m 5s\n",
      "585:\tlearn: 0.2217688\ttotal: 2m 56s\tremaining: 2m 4s\n",
      "586:\tlearn: 0.2216169\ttotal: 2m 57s\tremaining: 2m 4s\n",
      "587:\tlearn: 0.2214904\ttotal: 2m 57s\tremaining: 2m 4s\n",
      "588:\tlearn: 0.2213062\ttotal: 2m 57s\tremaining: 2m 4s\n",
      "589:\tlearn: 0.2210561\ttotal: 2m 58s\tremaining: 2m 3s\n",
      "590:\tlearn: 0.2210281\ttotal: 2m 58s\tremaining: 2m 3s\n",
      "591:\tlearn: 0.2209847\ttotal: 2m 58s\tremaining: 2m 3s\n",
      "592:\tlearn: 0.2208455\ttotal: 2m 58s\tremaining: 2m 2s\n",
      "593:\tlearn: 0.2206984\ttotal: 2m 59s\tremaining: 2m 2s\n",
      "594:\tlearn: 0.2206829\ttotal: 2m 59s\tremaining: 2m 2s\n",
      "595:\tlearn: 0.2204245\ttotal: 2m 59s\tremaining: 2m 1s\n",
      "596:\tlearn: 0.2202976\ttotal: 3m\tremaining: 2m 1s\n",
      "597:\tlearn: 0.2202676\ttotal: 3m\tremaining: 2m 1s\n",
      "598:\tlearn: 0.2202247\ttotal: 3m 1s\tremaining: 2m 1s\n",
      "599:\tlearn: 0.2201696\ttotal: 3m 1s\tremaining: 2m 1s\n",
      "600:\tlearn: 0.2201098\ttotal: 3m 2s\tremaining: 2m\n",
      "601:\tlearn: 0.2200963\ttotal: 3m 2s\tremaining: 2m\n",
      "602:\tlearn: 0.2199371\ttotal: 3m 2s\tremaining: 2m\n",
      "603:\tlearn: 0.2198238\ttotal: 3m 3s\tremaining: 2m\n",
      "604:\tlearn: 0.2197692\ttotal: 3m 3s\tremaining: 1m 59s\n",
      "605:\tlearn: 0.2197352\ttotal: 3m 3s\tremaining: 1m 59s\n",
      "606:\tlearn: 0.2196028\ttotal: 3m 4s\tremaining: 1m 59s\n",
      "607:\tlearn: 0.2195254\ttotal: 3m 4s\tremaining: 1m 58s\n",
      "608:\tlearn: 0.2194555\ttotal: 3m 4s\tremaining: 1m 58s\n",
      "609:\tlearn: 0.2193740\ttotal: 3m 4s\tremaining: 1m 58s\n",
      "610:\tlearn: 0.2192489\ttotal: 3m 5s\tremaining: 1m 57s\n",
      "611:\tlearn: 0.2190985\ttotal: 3m 5s\tremaining: 1m 57s\n",
      "612:\tlearn: 0.2190276\ttotal: 3m 5s\tremaining: 1m 57s\n",
      "613:\tlearn: 0.2188992\ttotal: 3m 6s\tremaining: 1m 57s\n",
      "614:\tlearn: 0.2186726\ttotal: 3m 6s\tremaining: 1m 56s\n",
      "615:\tlearn: 0.2186146\ttotal: 3m 6s\tremaining: 1m 56s\n",
      "616:\tlearn: 0.2185834\ttotal: 3m 7s\tremaining: 1m 56s\n",
      "617:\tlearn: 0.2184451\ttotal: 3m 7s\tremaining: 1m 55s\n",
      "618:\tlearn: 0.2183484\ttotal: 3m 7s\tremaining: 1m 55s\n",
      "619:\tlearn: 0.2182468\ttotal: 3m 8s\tremaining: 1m 55s\n",
      "620:\tlearn: 0.2181599\ttotal: 3m 8s\tremaining: 1m 54s\n"
     ]
    },
    {
     "name": "stdout",
     "output_type": "stream",
     "text": [
      "621:\tlearn: 0.2181424\ttotal: 3m 8s\tremaining: 1m 54s\n",
      "622:\tlearn: 0.2180710\ttotal: 3m 9s\tremaining: 1m 54s\n",
      "623:\tlearn: 0.2180699\ttotal: 3m 9s\tremaining: 1m 53s\n",
      "624:\tlearn: 0.2178583\ttotal: 3m 9s\tremaining: 1m 53s\n",
      "625:\tlearn: 0.2176879\ttotal: 3m 9s\tremaining: 1m 53s\n",
      "626:\tlearn: 0.2174133\ttotal: 3m 10s\tremaining: 1m 53s\n",
      "627:\tlearn: 0.2172937\ttotal: 3m 10s\tremaining: 1m 52s\n",
      "628:\tlearn: 0.2171515\ttotal: 3m 10s\tremaining: 1m 52s\n",
      "629:\tlearn: 0.2171083\ttotal: 3m 10s\tremaining: 1m 52s\n",
      "630:\tlearn: 0.2170577\ttotal: 3m 11s\tremaining: 1m 51s\n",
      "631:\tlearn: 0.2169893\ttotal: 3m 11s\tremaining: 1m 51s\n",
      "632:\tlearn: 0.2169333\ttotal: 3m 11s\tremaining: 1m 51s\n",
      "633:\tlearn: 0.2168905\ttotal: 3m 12s\tremaining: 1m 50s\n",
      "634:\tlearn: 0.2168708\ttotal: 3m 12s\tremaining: 1m 50s\n",
      "635:\tlearn: 0.2167704\ttotal: 3m 12s\tremaining: 1m 50s\n",
      "636:\tlearn: 0.2166634\ttotal: 3m 13s\tremaining: 1m 50s\n",
      "637:\tlearn: 0.2166218\ttotal: 3m 13s\tremaining: 1m 49s\n",
      "638:\tlearn: 0.2165719\ttotal: 3m 13s\tremaining: 1m 49s\n",
      "639:\tlearn: 0.2163939\ttotal: 3m 14s\tremaining: 1m 49s\n",
      "640:\tlearn: 0.2163729\ttotal: 3m 14s\tremaining: 1m 48s\n",
      "641:\tlearn: 0.2163113\ttotal: 3m 14s\tremaining: 1m 48s\n",
      "642:\tlearn: 0.2162129\ttotal: 3m 15s\tremaining: 1m 48s\n",
      "643:\tlearn: 0.2160195\ttotal: 3m 15s\tremaining: 1m 47s\n",
      "644:\tlearn: 0.2159947\ttotal: 3m 15s\tremaining: 1m 47s\n",
      "645:\tlearn: 0.2157851\ttotal: 3m 15s\tremaining: 1m 47s\n",
      "646:\tlearn: 0.2157510\ttotal: 3m 16s\tremaining: 1m 47s\n",
      "647:\tlearn: 0.2156546\ttotal: 3m 16s\tremaining: 1m 46s\n",
      "648:\tlearn: 0.2155285\ttotal: 3m 16s\tremaining: 1m 46s\n",
      "649:\tlearn: 0.2154786\ttotal: 3m 17s\tremaining: 1m 46s\n",
      "650:\tlearn: 0.2153053\ttotal: 3m 17s\tremaining: 1m 45s\n",
      "651:\tlearn: 0.2153014\ttotal: 3m 17s\tremaining: 1m 45s\n",
      "652:\tlearn: 0.2152680\ttotal: 3m 17s\tremaining: 1m 45s\n",
      "653:\tlearn: 0.2151807\ttotal: 3m 18s\tremaining: 1m 44s\n",
      "654:\tlearn: 0.2151485\ttotal: 3m 18s\tremaining: 1m 44s\n",
      "655:\tlearn: 0.2150567\ttotal: 3m 18s\tremaining: 1m 44s\n",
      "656:\tlearn: 0.2150482\ttotal: 3m 18s\tremaining: 1m 43s\n",
      "657:\tlearn: 0.2149513\ttotal: 3m 19s\tremaining: 1m 43s\n",
      "658:\tlearn: 0.2148559\ttotal: 3m 19s\tremaining: 1m 43s\n",
      "659:\tlearn: 0.2147675\ttotal: 3m 19s\tremaining: 1m 42s\n",
      "660:\tlearn: 0.2147633\ttotal: 3m 19s\tremaining: 1m 42s\n",
      "661:\tlearn: 0.2146247\ttotal: 3m 20s\tremaining: 1m 42s\n",
      "662:\tlearn: 0.2145061\ttotal: 3m 20s\tremaining: 1m 41s\n",
      "663:\tlearn: 0.2144491\ttotal: 3m 20s\tremaining: 1m 41s\n",
      "664:\tlearn: 0.2143434\ttotal: 3m 20s\tremaining: 1m 41s\n",
      "665:\tlearn: 0.2142580\ttotal: 3m 21s\tremaining: 1m 40s\n",
      "666:\tlearn: 0.2142212\ttotal: 3m 21s\tremaining: 1m 40s\n",
      "667:\tlearn: 0.2141730\ttotal: 3m 21s\tremaining: 1m 40s\n",
      "668:\tlearn: 0.2141280\ttotal: 3m 22s\tremaining: 1m 39s\n",
      "669:\tlearn: 0.2140974\ttotal: 3m 22s\tremaining: 1m 39s\n",
      "670:\tlearn: 0.2140411\ttotal: 3m 22s\tremaining: 1m 39s\n",
      "671:\tlearn: 0.2140224\ttotal: 3m 22s\tremaining: 1m 39s\n",
      "672:\tlearn: 0.2137445\ttotal: 3m 23s\tremaining: 1m 38s\n",
      "673:\tlearn: 0.2135010\ttotal: 3m 23s\tremaining: 1m 38s\n",
      "674:\tlearn: 0.2133118\ttotal: 3m 23s\tremaining: 1m 38s\n",
      "675:\tlearn: 0.2131978\ttotal: 3m 24s\tremaining: 1m 37s\n",
      "676:\tlearn: 0.2130371\ttotal: 3m 24s\tremaining: 1m 37s\n",
      "677:\tlearn: 0.2129200\ttotal: 3m 24s\tremaining: 1m 37s\n",
      "678:\tlearn: 0.2128691\ttotal: 3m 24s\tremaining: 1m 36s\n",
      "679:\tlearn: 0.2128525\ttotal: 3m 25s\tremaining: 1m 36s\n",
      "680:\tlearn: 0.2127796\ttotal: 3m 25s\tremaining: 1m 36s\n",
      "681:\tlearn: 0.2127214\ttotal: 3m 25s\tremaining: 1m 35s\n",
      "682:\tlearn: 0.2126367\ttotal: 3m 25s\tremaining: 1m 35s\n",
      "683:\tlearn: 0.2126295\ttotal: 3m 26s\tremaining: 1m 35s\n",
      "684:\tlearn: 0.2124969\ttotal: 3m 26s\tremaining: 1m 34s\n",
      "685:\tlearn: 0.2124575\ttotal: 3m 26s\tremaining: 1m 34s\n",
      "686:\tlearn: 0.2124360\ttotal: 3m 26s\tremaining: 1m 34s\n",
      "687:\tlearn: 0.2123280\ttotal: 3m 27s\tremaining: 1m 33s\n",
      "688:\tlearn: 0.2122853\ttotal: 3m 27s\tremaining: 1m 33s\n",
      "689:\tlearn: 0.2122367\ttotal: 3m 27s\tremaining: 1m 33s\n",
      "690:\tlearn: 0.2122177\ttotal: 3m 28s\tremaining: 1m 33s\n",
      "691:\tlearn: 0.2121442\ttotal: 3m 28s\tremaining: 1m 32s\n",
      "692:\tlearn: 0.2120186\ttotal: 3m 28s\tremaining: 1m 32s\n",
      "693:\tlearn: 0.2119361\ttotal: 3m 28s\tremaining: 1m 32s\n",
      "694:\tlearn: 0.2118575\ttotal: 3m 29s\tremaining: 1m 31s\n",
      "695:\tlearn: 0.2116826\ttotal: 3m 29s\tremaining: 1m 31s\n",
      "696:\tlearn: 0.2114967\ttotal: 3m 29s\tremaining: 1m 31s\n",
      "697:\tlearn: 0.2114864\ttotal: 3m 29s\tremaining: 1m 30s\n",
      "698:\tlearn: 0.2113508\ttotal: 3m 30s\tremaining: 1m 30s\n",
      "699:\tlearn: 0.2112168\ttotal: 3m 30s\tremaining: 1m 30s\n",
      "700:\tlearn: 0.2110333\ttotal: 3m 30s\tremaining: 1m 29s\n",
      "701:\tlearn: 0.2110202\ttotal: 3m 31s\tremaining: 1m 29s\n",
      "702:\tlearn: 0.2109393\ttotal: 3m 31s\tremaining: 1m 29s\n",
      "703:\tlearn: 0.2109306\ttotal: 3m 31s\tremaining: 1m 29s\n",
      "704:\tlearn: 0.2108029\ttotal: 3m 31s\tremaining: 1m 28s\n",
      "705:\tlearn: 0.2107212\ttotal: 3m 32s\tremaining: 1m 28s\n",
      "706:\tlearn: 0.2105332\ttotal: 3m 32s\tremaining: 1m 28s\n",
      "707:\tlearn: 0.2103845\ttotal: 3m 32s\tremaining: 1m 27s\n",
      "708:\tlearn: 0.2102322\ttotal: 3m 33s\tremaining: 1m 27s\n",
      "709:\tlearn: 0.2099319\ttotal: 3m 33s\tremaining: 1m 27s\n",
      "710:\tlearn: 0.2099058\ttotal: 3m 33s\tremaining: 1m 26s\n",
      "711:\tlearn: 0.2098824\ttotal: 3m 33s\tremaining: 1m 26s\n",
      "712:\tlearn: 0.2098184\ttotal: 3m 34s\tremaining: 1m 26s\n",
      "713:\tlearn: 0.2096797\ttotal: 3m 34s\tremaining: 1m 25s\n",
      "714:\tlearn: 0.2095686\ttotal: 3m 34s\tremaining: 1m 25s\n",
      "715:\tlearn: 0.2095433\ttotal: 3m 35s\tremaining: 1m 25s\n",
      "716:\tlearn: 0.2095309\ttotal: 3m 35s\tremaining: 1m 24s\n",
      "717:\tlearn: 0.2094900\ttotal: 3m 35s\tremaining: 1m 24s\n",
      "718:\tlearn: 0.2093288\ttotal: 3m 35s\tremaining: 1m 24s\n",
      "719:\tlearn: 0.2092514\ttotal: 3m 36s\tremaining: 1m 24s\n",
      "720:\tlearn: 0.2089964\ttotal: 3m 36s\tremaining: 1m 23s\n",
      "721:\tlearn: 0.2088497\ttotal: 3m 37s\tremaining: 1m 23s\n",
      "722:\tlearn: 0.2087556\ttotal: 3m 37s\tremaining: 1m 23s\n",
      "723:\tlearn: 0.2086052\ttotal: 3m 38s\tremaining: 1m 23s\n",
      "724:\tlearn: 0.2084287\ttotal: 3m 38s\tremaining: 1m 22s\n",
      "725:\tlearn: 0.2083691\ttotal: 3m 38s\tremaining: 1m 22s\n",
      "726:\tlearn: 0.2082556\ttotal: 3m 38s\tremaining: 1m 22s\n",
      "727:\tlearn: 0.2081909\ttotal: 3m 39s\tremaining: 1m 21s\n",
      "728:\tlearn: 0.2080078\ttotal: 3m 39s\tremaining: 1m 21s\n",
      "729:\tlearn: 0.2078722\ttotal: 3m 39s\tremaining: 1m 21s\n",
      "730:\tlearn: 0.2078441\ttotal: 3m 40s\tremaining: 1m 20s\n",
      "731:\tlearn: 0.2077681\ttotal: 3m 40s\tremaining: 1m 20s\n",
      "732:\tlearn: 0.2077237\ttotal: 3m 40s\tremaining: 1m 20s\n",
      "733:\tlearn: 0.2076422\ttotal: 3m 40s\tremaining: 1m 20s\n",
      "734:\tlearn: 0.2075340\ttotal: 3m 41s\tremaining: 1m 19s\n",
      "735:\tlearn: 0.2073793\ttotal: 3m 41s\tremaining: 1m 19s\n",
      "736:\tlearn: 0.2072561\ttotal: 3m 41s\tremaining: 1m 19s\n",
      "737:\tlearn: 0.2071275\ttotal: 3m 41s\tremaining: 1m 18s\n",
      "738:\tlearn: 0.2071089\ttotal: 3m 42s\tremaining: 1m 18s\n",
      "739:\tlearn: 0.2069876\ttotal: 3m 42s\tremaining: 1m 18s\n",
      "740:\tlearn: 0.2067807\ttotal: 3m 42s\tremaining: 1m 17s\n",
      "741:\tlearn: 0.2067509\ttotal: 3m 43s\tremaining: 1m 17s\n",
      "742:\tlearn: 0.2066315\ttotal: 3m 43s\tremaining: 1m 17s\n",
      "743:\tlearn: 0.2064438\ttotal: 3m 43s\tremaining: 1m 16s\n",
      "744:\tlearn: 0.2064165\ttotal: 3m 43s\tremaining: 1m 16s\n",
      "745:\tlearn: 0.2062664\ttotal: 3m 44s\tremaining: 1m 16s\n",
      "746:\tlearn: 0.2060461\ttotal: 3m 44s\tremaining: 1m 16s\n",
      "747:\tlearn: 0.2060005\ttotal: 3m 44s\tremaining: 1m 15s\n",
      "748:\tlearn: 0.2059645\ttotal: 3m 45s\tremaining: 1m 15s\n",
      "749:\tlearn: 0.2059609\ttotal: 3m 45s\tremaining: 1m 15s\n",
      "750:\tlearn: 0.2058079\ttotal: 3m 45s\tremaining: 1m 14s\n",
      "751:\tlearn: 0.2056713\ttotal: 3m 45s\tremaining: 1m 14s\n",
      "752:\tlearn: 0.2055497\ttotal: 3m 46s\tremaining: 1m 14s\n",
      "753:\tlearn: 0.2054350\ttotal: 3m 46s\tremaining: 1m 13s\n",
      "754:\tlearn: 0.2052544\ttotal: 3m 46s\tremaining: 1m 13s\n",
      "755:\tlearn: 0.2050748\ttotal: 3m 46s\tremaining: 1m 13s\n",
      "756:\tlearn: 0.2049949\ttotal: 3m 47s\tremaining: 1m 12s\n",
      "757:\tlearn: 0.2049378\ttotal: 3m 47s\tremaining: 1m 12s\n",
      "758:\tlearn: 0.2048185\ttotal: 3m 47s\tremaining: 1m 12s\n",
      "759:\tlearn: 0.2048056\ttotal: 3m 47s\tremaining: 1m 11s\n",
      "760:\tlearn: 0.2046071\ttotal: 3m 48s\tremaining: 1m 11s\n",
      "761:\tlearn: 0.2045753\ttotal: 3m 48s\tremaining: 1m 11s\n",
      "762:\tlearn: 0.2045028\ttotal: 3m 48s\tremaining: 1m 11s\n",
      "763:\tlearn: 0.2044850\ttotal: 3m 49s\tremaining: 1m 10s\n",
      "764:\tlearn: 0.2044236\ttotal: 3m 49s\tremaining: 1m 10s\n",
      "765:\tlearn: 0.2042019\ttotal: 3m 49s\tremaining: 1m 10s\n",
      "766:\tlearn: 0.2039997\ttotal: 3m 50s\tremaining: 1m 9s\n",
      "767:\tlearn: 0.2039986\ttotal: 3m 50s\tremaining: 1m 9s\n",
      "768:\tlearn: 0.2039507\ttotal: 3m 51s\tremaining: 1m 9s\n",
      "769:\tlearn: 0.2039232\ttotal: 3m 52s\tremaining: 1m 9s\n",
      "770:\tlearn: 0.2039152\ttotal: 3m 53s\tremaining: 1m 9s\n",
      "771:\tlearn: 0.2038213\ttotal: 3m 54s\tremaining: 1m 9s\n",
      "772:\tlearn: 0.2038116\ttotal: 3m 54s\tremaining: 1m 8s\n"
     ]
    },
    {
     "name": "stdout",
     "output_type": "stream",
     "text": [
      "773:\tlearn: 0.2037471\ttotal: 3m 54s\tremaining: 1m 8s\n",
      "774:\tlearn: 0.2036653\ttotal: 3m 55s\tremaining: 1m 8s\n",
      "775:\tlearn: 0.2035599\ttotal: 3m 55s\tremaining: 1m 7s\n",
      "776:\tlearn: 0.2034869\ttotal: 3m 55s\tremaining: 1m 7s\n",
      "777:\tlearn: 0.2033557\ttotal: 3m 56s\tremaining: 1m 7s\n",
      "778:\tlearn: 0.2033278\ttotal: 3m 56s\tremaining: 1m 7s\n",
      "779:\tlearn: 0.2032774\ttotal: 3m 56s\tremaining: 1m 6s\n",
      "780:\tlearn: 0.2032595\ttotal: 3m 56s\tremaining: 1m 6s\n",
      "781:\tlearn: 0.2032347\ttotal: 3m 57s\tremaining: 1m 6s\n",
      "782:\tlearn: 0.2030162\ttotal: 3m 57s\tremaining: 1m 5s\n",
      "783:\tlearn: 0.2030149\ttotal: 3m 57s\tremaining: 1m 5s\n",
      "784:\tlearn: 0.2029990\ttotal: 3m 58s\tremaining: 1m 5s\n",
      "785:\tlearn: 0.2028941\ttotal: 3m 58s\tremaining: 1m 4s\n",
      "786:\tlearn: 0.2028718\ttotal: 3m 59s\tremaining: 1m 4s\n",
      "787:\tlearn: 0.2028410\ttotal: 3m 59s\tremaining: 1m 4s\n",
      "788:\tlearn: 0.2027836\ttotal: 4m\tremaining: 1m 4s\n",
      "789:\tlearn: 0.2026854\ttotal: 4m\tremaining: 1m 3s\n",
      "790:\tlearn: 0.2026421\ttotal: 4m\tremaining: 1m 3s\n",
      "791:\tlearn: 0.2025710\ttotal: 4m 1s\tremaining: 1m 3s\n",
      "792:\tlearn: 0.2023484\ttotal: 4m 1s\tremaining: 1m 3s\n",
      "793:\tlearn: 0.2021780\ttotal: 4m 2s\tremaining: 1m 2s\n",
      "794:\tlearn: 0.2021282\ttotal: 4m 2s\tremaining: 1m 2s\n",
      "795:\tlearn: 0.2020942\ttotal: 4m 2s\tremaining: 1m 2s\n",
      "796:\tlearn: 0.2019585\ttotal: 4m 3s\tremaining: 1m 1s\n",
      "797:\tlearn: 0.2018881\ttotal: 4m 3s\tremaining: 1m 1s\n",
      "798:\tlearn: 0.2017148\ttotal: 4m 3s\tremaining: 1m 1s\n",
      "799:\tlearn: 0.2016486\ttotal: 4m 3s\tremaining: 1m\n",
      "800:\tlearn: 0.2015656\ttotal: 4m 4s\tremaining: 1m\n",
      "801:\tlearn: 0.2015118\ttotal: 4m 4s\tremaining: 1m\n",
      "802:\tlearn: 0.2014588\ttotal: 4m 4s\tremaining: 1m\n",
      "803:\tlearn: 0.2014370\ttotal: 4m 5s\tremaining: 59.8s\n",
      "804:\tlearn: 0.2014257\ttotal: 4m 5s\tremaining: 59.5s\n",
      "805:\tlearn: 0.2014200\ttotal: 4m 5s\tremaining: 59.2s\n",
      "806:\tlearn: 0.2013603\ttotal: 4m 6s\tremaining: 58.9s\n",
      "807:\tlearn: 0.2012937\ttotal: 4m 6s\tremaining: 58.6s\n",
      "808:\tlearn: 0.2012270\ttotal: 4m 6s\tremaining: 58.3s\n",
      "809:\tlearn: 0.2012018\ttotal: 4m 7s\tremaining: 58s\n",
      "810:\tlearn: 0.2011292\ttotal: 4m 7s\tremaining: 57.7s\n",
      "811:\tlearn: 0.2010659\ttotal: 4m 7s\tremaining: 57.4s\n",
      "812:\tlearn: 0.2009582\ttotal: 4m 8s\tremaining: 57.1s\n",
      "813:\tlearn: 0.2008236\ttotal: 4m 8s\tremaining: 56.8s\n",
      "814:\tlearn: 0.2007726\ttotal: 4m 8s\tremaining: 56.4s\n",
      "815:\tlearn: 0.2006721\ttotal: 4m 8s\tremaining: 56.1s\n",
      "816:\tlearn: 0.2006223\ttotal: 4m 9s\tremaining: 55.8s\n",
      "817:\tlearn: 0.2005481\ttotal: 4m 9s\tremaining: 55.5s\n",
      "818:\tlearn: 0.2005411\ttotal: 4m 9s\tremaining: 55.2s\n",
      "819:\tlearn: 0.2004772\ttotal: 4m 10s\tremaining: 54.9s\n",
      "820:\tlearn: 0.2002116\ttotal: 4m 10s\tremaining: 54.6s\n",
      "821:\tlearn: 0.2001325\ttotal: 4m 10s\tremaining: 54.3s\n",
      "822:\tlearn: 0.2001226\ttotal: 4m 11s\tremaining: 54s\n",
      "823:\tlearn: 0.2000818\ttotal: 4m 11s\tremaining: 53.7s\n",
      "824:\tlearn: 0.2000353\ttotal: 4m 11s\tremaining: 53.4s\n",
      "825:\tlearn: 0.1999134\ttotal: 4m 11s\tremaining: 53.1s\n",
      "826:\tlearn: 0.1998793\ttotal: 4m 12s\tremaining: 52.8s\n",
      "827:\tlearn: 0.1998614\ttotal: 4m 12s\tremaining: 52.4s\n",
      "828:\tlearn: 0.1997220\ttotal: 4m 12s\tremaining: 52.1s\n",
      "829:\tlearn: 0.1996194\ttotal: 4m 13s\tremaining: 51.8s\n",
      "830:\tlearn: 0.1995670\ttotal: 4m 13s\tremaining: 51.5s\n",
      "831:\tlearn: 0.1995214\ttotal: 4m 13s\tremaining: 51.2s\n",
      "832:\tlearn: 0.1992754\ttotal: 4m 13s\tremaining: 50.9s\n",
      "833:\tlearn: 0.1991672\ttotal: 4m 14s\tremaining: 50.6s\n",
      "834:\tlearn: 0.1991003\ttotal: 4m 14s\tremaining: 50.3s\n",
      "835:\tlearn: 0.1988409\ttotal: 4m 14s\tremaining: 50s\n",
      "836:\tlearn: 0.1988199\ttotal: 4m 15s\tremaining: 49.7s\n",
      "837:\tlearn: 0.1987940\ttotal: 4m 15s\tremaining: 49.4s\n",
      "838:\tlearn: 0.1987838\ttotal: 4m 15s\tremaining: 49.1s\n",
      "839:\tlearn: 0.1986717\ttotal: 4m 15s\tremaining: 48.8s\n",
      "840:\tlearn: 0.1986393\ttotal: 4m 16s\tremaining: 48.5s\n",
      "841:\tlearn: 0.1984429\ttotal: 4m 16s\tremaining: 48.2s\n",
      "842:\tlearn: 0.1984199\ttotal: 4m 17s\tremaining: 47.9s\n",
      "843:\tlearn: 0.1982575\ttotal: 4m 17s\tremaining: 47.6s\n",
      "844:\tlearn: 0.1981548\ttotal: 4m 17s\tremaining: 47.3s\n",
      "845:\tlearn: 0.1981174\ttotal: 4m 17s\tremaining: 46.9s\n",
      "846:\tlearn: 0.1980947\ttotal: 4m 18s\tremaining: 46.6s\n",
      "847:\tlearn: 0.1980194\ttotal: 4m 18s\tremaining: 46.3s\n",
      "848:\tlearn: 0.1977889\ttotal: 4m 18s\tremaining: 46s\n",
      "849:\tlearn: 0.1974991\ttotal: 4m 18s\tremaining: 45.7s\n",
      "850:\tlearn: 0.1974389\ttotal: 4m 19s\tremaining: 45.4s\n",
      "851:\tlearn: 0.1973651\ttotal: 4m 19s\tremaining: 45.1s\n",
      "852:\tlearn: 0.1973151\ttotal: 4m 19s\tremaining: 44.8s\n",
      "853:\tlearn: 0.1972724\ttotal: 4m 20s\tremaining: 44.5s\n",
      "854:\tlearn: 0.1972105\ttotal: 4m 20s\tremaining: 44.1s\n",
      "855:\tlearn: 0.1969080\ttotal: 4m 20s\tremaining: 43.8s\n",
      "856:\tlearn: 0.1969039\ttotal: 4m 20s\tremaining: 43.5s\n",
      "857:\tlearn: 0.1968159\ttotal: 4m 21s\tremaining: 43.2s\n",
      "858:\tlearn: 0.1967952\ttotal: 4m 21s\tremaining: 42.9s\n",
      "859:\tlearn: 0.1966238\ttotal: 4m 21s\tremaining: 42.6s\n",
      "860:\tlearn: 0.1965930\ttotal: 4m 22s\tremaining: 42.3s\n",
      "861:\tlearn: 0.1964570\ttotal: 4m 22s\tremaining: 42s\n",
      "862:\tlearn: 0.1964278\ttotal: 4m 22s\tremaining: 41.7s\n",
      "863:\tlearn: 0.1962901\ttotal: 4m 22s\tremaining: 41.4s\n",
      "864:\tlearn: 0.1962376\ttotal: 4m 23s\tremaining: 41.1s\n",
      "865:\tlearn: 0.1961746\ttotal: 4m 23s\tremaining: 40.8s\n",
      "866:\tlearn: 0.1959389\ttotal: 4m 23s\tremaining: 40.5s\n",
      "867:\tlearn: 0.1957656\ttotal: 4m 24s\tremaining: 40.2s\n",
      "868:\tlearn: 0.1956352\ttotal: 4m 24s\tremaining: 39.8s\n",
      "869:\tlearn: 0.1955817\ttotal: 4m 24s\tremaining: 39.5s\n",
      "870:\tlearn: 0.1955483\ttotal: 4m 24s\tremaining: 39.2s\n",
      "871:\tlearn: 0.1954024\ttotal: 4m 25s\tremaining: 38.9s\n",
      "872:\tlearn: 0.1953269\ttotal: 4m 25s\tremaining: 38.6s\n",
      "873:\tlearn: 0.1952603\ttotal: 4m 25s\tremaining: 38.3s\n",
      "874:\tlearn: 0.1951637\ttotal: 4m 25s\tremaining: 38s\n",
      "875:\tlearn: 0.1951068\ttotal: 4m 26s\tremaining: 37.7s\n",
      "876:\tlearn: 0.1950974\ttotal: 4m 26s\tremaining: 37.4s\n",
      "877:\tlearn: 0.1950326\ttotal: 4m 26s\tremaining: 37.1s\n",
      "878:\tlearn: 0.1948888\ttotal: 4m 27s\tremaining: 36.8s\n",
      "879:\tlearn: 0.1948070\ttotal: 4m 27s\tremaining: 36.5s\n",
      "880:\tlearn: 0.1946122\ttotal: 4m 27s\tremaining: 36.2s\n",
      "881:\tlearn: 0.1944012\ttotal: 4m 28s\tremaining: 35.9s\n",
      "882:\tlearn: 0.1943504\ttotal: 4m 28s\tremaining: 35.6s\n",
      "883:\tlearn: 0.1943199\ttotal: 4m 28s\tremaining: 35.3s\n",
      "884:\tlearn: 0.1943048\ttotal: 4m 29s\tremaining: 35s\n",
      "885:\tlearn: 0.1941232\ttotal: 4m 29s\tremaining: 34.7s\n",
      "886:\tlearn: 0.1941047\ttotal: 4m 29s\tremaining: 34.4s\n",
      "887:\tlearn: 0.1940961\ttotal: 4m 30s\tremaining: 34.1s\n",
      "888:\tlearn: 0.1939048\ttotal: 4m 30s\tremaining: 33.8s\n",
      "889:\tlearn: 0.1938066\ttotal: 4m 30s\tremaining: 33.5s\n",
      "890:\tlearn: 0.1937042\ttotal: 4m 31s\tremaining: 33.2s\n",
      "891:\tlearn: 0.1936389\ttotal: 4m 31s\tremaining: 32.9s\n",
      "892:\tlearn: 0.1935772\ttotal: 4m 31s\tremaining: 32.5s\n",
      "893:\tlearn: 0.1934007\ttotal: 4m 31s\tremaining: 32.2s\n",
      "894:\tlearn: 0.1932790\ttotal: 4m 32s\tremaining: 32s\n",
      "895:\tlearn: 0.1932287\ttotal: 4m 32s\tremaining: 31.7s\n",
      "896:\tlearn: 0.1931041\ttotal: 4m 33s\tremaining: 31.4s\n",
      "897:\tlearn: 0.1930596\ttotal: 4m 33s\tremaining: 31.1s\n",
      "898:\tlearn: 0.1929514\ttotal: 4m 34s\tremaining: 30.8s\n",
      "899:\tlearn: 0.1929330\ttotal: 4m 34s\tremaining: 30.5s\n",
      "900:\tlearn: 0.1928499\ttotal: 4m 35s\tremaining: 30.2s\n",
      "901:\tlearn: 0.1928150\ttotal: 4m 35s\tremaining: 29.9s\n",
      "902:\tlearn: 0.1927537\ttotal: 4m 36s\tremaining: 29.7s\n",
      "903:\tlearn: 0.1927266\ttotal: 4m 36s\tremaining: 29.4s\n",
      "904:\tlearn: 0.1925489\ttotal: 4m 37s\tremaining: 29.1s\n",
      "905:\tlearn: 0.1925053\ttotal: 4m 37s\tremaining: 28.8s\n",
      "906:\tlearn: 0.1923389\ttotal: 4m 37s\tremaining: 28.5s\n",
      "907:\tlearn: 0.1921945\ttotal: 4m 38s\tremaining: 28.2s\n",
      "908:\tlearn: 0.1921469\ttotal: 4m 38s\tremaining: 27.9s\n",
      "909:\tlearn: 0.1921379\ttotal: 4m 38s\tremaining: 27.6s\n",
      "910:\tlearn: 0.1920217\ttotal: 4m 39s\tremaining: 27.3s\n",
      "911:\tlearn: 0.1918972\ttotal: 4m 39s\tremaining: 27s\n",
      "912:\tlearn: 0.1916719\ttotal: 4m 39s\tremaining: 26.7s\n",
      "913:\tlearn: 0.1916053\ttotal: 4m 40s\tremaining: 26.4s\n",
      "914:\tlearn: 0.1915379\ttotal: 4m 40s\tremaining: 26.1s\n",
      "915:\tlearn: 0.1914121\ttotal: 4m 40s\tremaining: 25.7s\n",
      "916:\tlearn: 0.1913595\ttotal: 4m 40s\tremaining: 25.4s\n",
      "917:\tlearn: 0.1913453\ttotal: 4m 41s\tremaining: 25.1s\n",
      "918:\tlearn: 0.1913008\ttotal: 4m 41s\tremaining: 24.8s\n",
      "919:\tlearn: 0.1912330\ttotal: 4m 41s\tremaining: 24.5s\n",
      "920:\tlearn: 0.1911667\ttotal: 4m 42s\tremaining: 24.2s\n",
      "921:\tlearn: 0.1911216\ttotal: 4m 42s\tremaining: 23.9s\n",
      "922:\tlearn: 0.1910435\ttotal: 4m 42s\tremaining: 23.6s\n",
      "923:\tlearn: 0.1910053\ttotal: 4m 42s\tremaining: 23.3s\n",
      "924:\tlearn: 0.1909105\ttotal: 4m 43s\tremaining: 23s\n",
      "925:\tlearn: 0.1908847\ttotal: 4m 43s\tremaining: 22.6s\n",
      "926:\tlearn: 0.1907927\ttotal: 4m 43s\tremaining: 22.3s\n",
      "927:\tlearn: 0.1907436\ttotal: 4m 43s\tremaining: 22s\n",
      "928:\tlearn: 0.1907375\ttotal: 4m 44s\tremaining: 21.7s\n"
     ]
    },
    {
     "name": "stdout",
     "output_type": "stream",
     "text": [
      "929:\tlearn: 0.1906695\ttotal: 4m 44s\tremaining: 21.4s\n",
      "930:\tlearn: 0.1906095\ttotal: 4m 44s\tremaining: 21.1s\n",
      "931:\tlearn: 0.1904114\ttotal: 4m 45s\tremaining: 20.8s\n",
      "932:\tlearn: 0.1903950\ttotal: 4m 45s\tremaining: 20.5s\n",
      "933:\tlearn: 0.1902315\ttotal: 4m 45s\tremaining: 20.2s\n",
      "934:\tlearn: 0.1902031\ttotal: 4m 45s\tremaining: 19.9s\n",
      "935:\tlearn: 0.1901641\ttotal: 4m 46s\tremaining: 19.6s\n",
      "936:\tlearn: 0.1901481\ttotal: 4m 46s\tremaining: 19.3s\n",
      "937:\tlearn: 0.1901436\ttotal: 4m 46s\tremaining: 18.9s\n",
      "938:\tlearn: 0.1901244\ttotal: 4m 46s\tremaining: 18.6s\n",
      "939:\tlearn: 0.1900049\ttotal: 4m 47s\tremaining: 18.3s\n",
      "940:\tlearn: 0.1899433\ttotal: 4m 47s\tremaining: 18s\n",
      "941:\tlearn: 0.1899156\ttotal: 4m 47s\tremaining: 17.7s\n",
      "942:\tlearn: 0.1898568\ttotal: 4m 47s\tremaining: 17.4s\n",
      "943:\tlearn: 0.1897552\ttotal: 4m 48s\tremaining: 17.1s\n",
      "944:\tlearn: 0.1895375\ttotal: 4m 48s\tremaining: 16.8s\n",
      "945:\tlearn: 0.1895193\ttotal: 4m 48s\tremaining: 16.5s\n",
      "946:\tlearn: 0.1894012\ttotal: 4m 49s\tremaining: 16.2s\n",
      "947:\tlearn: 0.1893654\ttotal: 4m 49s\tremaining: 15.9s\n",
      "948:\tlearn: 0.1893264\ttotal: 4m 49s\tremaining: 15.6s\n",
      "949:\tlearn: 0.1893154\ttotal: 4m 49s\tremaining: 15.3s\n",
      "950:\tlearn: 0.1892818\ttotal: 4m 50s\tremaining: 15s\n",
      "951:\tlearn: 0.1891749\ttotal: 4m 50s\tremaining: 14.6s\n",
      "952:\tlearn: 0.1891617\ttotal: 4m 50s\tremaining: 14.3s\n",
      "953:\tlearn: 0.1890593\ttotal: 4m 51s\tremaining: 14s\n",
      "954:\tlearn: 0.1890257\ttotal: 4m 51s\tremaining: 13.7s\n",
      "955:\tlearn: 0.1889624\ttotal: 4m 51s\tremaining: 13.4s\n",
      "956:\tlearn: 0.1889489\ttotal: 4m 51s\tremaining: 13.1s\n",
      "957:\tlearn: 0.1887602\ttotal: 4m 52s\tremaining: 12.8s\n",
      "958:\tlearn: 0.1886439\ttotal: 4m 52s\tremaining: 12.5s\n",
      "959:\tlearn: 0.1886165\ttotal: 4m 52s\tremaining: 12.2s\n",
      "960:\tlearn: 0.1885253\ttotal: 4m 52s\tremaining: 11.9s\n",
      "961:\tlearn: 0.1884884\ttotal: 4m 53s\tremaining: 11.6s\n",
      "962:\tlearn: 0.1883590\ttotal: 4m 53s\tremaining: 11.3s\n",
      "963:\tlearn: 0.1883067\ttotal: 4m 53s\tremaining: 11s\n",
      "964:\tlearn: 0.1882895\ttotal: 4m 54s\tremaining: 10.7s\n",
      "965:\tlearn: 0.1881970\ttotal: 4m 54s\tremaining: 10.4s\n",
      "966:\tlearn: 0.1881310\ttotal: 4m 54s\tremaining: 10.1s\n",
      "967:\tlearn: 0.1881197\ttotal: 4m 54s\tremaining: 9.75s\n",
      "968:\tlearn: 0.1880135\ttotal: 4m 55s\tremaining: 9.44s\n",
      "969:\tlearn: 0.1879830\ttotal: 4m 55s\tremaining: 9.13s\n",
      "970:\tlearn: 0.1879761\ttotal: 4m 55s\tremaining: 8.83s\n",
      "971:\tlearn: 0.1878635\ttotal: 4m 55s\tremaining: 8.52s\n",
      "972:\tlearn: 0.1877977\ttotal: 4m 56s\tremaining: 8.22s\n",
      "973:\tlearn: 0.1876808\ttotal: 4m 56s\tremaining: 7.91s\n",
      "974:\tlearn: 0.1876621\ttotal: 4m 56s\tremaining: 7.61s\n",
      "975:\tlearn: 0.1876370\ttotal: 4m 56s\tremaining: 7.3s\n",
      "976:\tlearn: 0.1875914\ttotal: 4m 57s\tremaining: 7s\n",
      "977:\tlearn: 0.1875721\ttotal: 4m 57s\tremaining: 6.69s\n",
      "978:\tlearn: 0.1874779\ttotal: 4m 57s\tremaining: 6.39s\n",
      "979:\tlearn: 0.1874635\ttotal: 4m 58s\tremaining: 6.08s\n",
      "980:\tlearn: 0.1874563\ttotal: 4m 58s\tremaining: 5.78s\n",
      "981:\tlearn: 0.1874469\ttotal: 4m 58s\tremaining: 5.47s\n",
      "982:\tlearn: 0.1872648\ttotal: 4m 58s\tremaining: 5.17s\n",
      "983:\tlearn: 0.1871444\ttotal: 4m 59s\tremaining: 4.86s\n",
      "984:\tlearn: 0.1871184\ttotal: 4m 59s\tremaining: 4.56s\n",
      "985:\tlearn: 0.1870004\ttotal: 4m 59s\tremaining: 4.25s\n",
      "986:\tlearn: 0.1868683\ttotal: 4m 59s\tremaining: 3.95s\n",
      "987:\tlearn: 0.1868357\ttotal: 5m\tremaining: 3.65s\n",
      "988:\tlearn: 0.1866867\ttotal: 5m\tremaining: 3.34s\n",
      "989:\tlearn: 0.1866273\ttotal: 5m\tremaining: 3.04s\n",
      "990:\tlearn: 0.1865341\ttotal: 5m 1s\tremaining: 2.73s\n",
      "991:\tlearn: 0.1865191\ttotal: 5m 1s\tremaining: 2.43s\n",
      "992:\tlearn: 0.1864874\ttotal: 5m 1s\tremaining: 2.13s\n",
      "993:\tlearn: 0.1864001\ttotal: 5m 1s\tremaining: 1.82s\n",
      "994:\tlearn: 0.1863918\ttotal: 5m 2s\tremaining: 1.52s\n",
      "995:\tlearn: 0.1862419\ttotal: 5m 2s\tremaining: 1.21s\n",
      "996:\tlearn: 0.1862321\ttotal: 5m 2s\tremaining: 911ms\n",
      "997:\tlearn: 0.1862124\ttotal: 5m 2s\tremaining: 607ms\n",
      "998:\tlearn: 0.1861480\ttotal: 5m 3s\tremaining: 303ms\n",
      "999:\tlearn: 0.1861392\ttotal: 5m 3s\tremaining: 0us\n"
     ]
    },
    {
     "data": {
      "text/plain": [
       "<catboost.core.CatBoostClassifier at 0x1a1d37eb00>"
      ]
     },
     "execution_count": 67,
     "metadata": {},
     "output_type": "execute_result"
    }
   ],
   "source": [
    "catboost = CatBoostClassifier(custom_loss=['Accuracy'])\n",
    "\n",
    "catboost.fit(X_train[:, pixel_wanted], y_train)"
   ]
  },
  {
   "cell_type": "code",
   "execution_count": 68,
   "metadata": {},
   "outputs": [
    {
     "name": "stdout",
     "output_type": "stream",
     "text": [
      "train score 0.9390305478414542\n",
      "validation score 0.8643992932862191\n",
      "test score 0.8604240282685512\n"
     ]
    }
   ],
   "source": [
    "print('train score', catboost.score(X_train[:, pixel_wanted], y_train))\n",
    "print('validation score', catboost.score(X_validate[:, pixel_wanted], y_validate))\n",
    "print('test score', catboost.score(X_test[:, pixel_wanted], y_test))"
   ]
  },
  {
   "cell_type": "code",
   "execution_count": 71,
   "metadata": {},
   "outputs": [
    {
     "data": {
      "text/plain": [
       "0.9247664731128503"
      ]
     },
     "execution_count": 71,
     "metadata": {},
     "output_type": "execute_result"
    }
   ],
   "source": [
    "recall_score(y_train, catboost.predict(X_train[:, pixel_wanted]))"
   ]
  },
  {
   "cell_type": "code",
   "execution_count": 72,
   "metadata": {},
   "outputs": [
    {
     "data": {
      "text/plain": [
       "0.8409893992932862"
      ]
     },
     "execution_count": 72,
     "metadata": {},
     "output_type": "execute_result"
    }
   ],
   "source": [
    "recall_score(y_validate, catboost.predict(X_validate[:, pixel_wanted]))"
   ]
  },
  {
   "cell_type": "code",
   "execution_count": null,
   "metadata": {},
   "outputs": [],
   "source": [
    "test_proba = catboost.predict_proba(X_test[:, pixel_wanted])"
   ]
  },
  {
   "cell_type": "code",
   "execution_count": null,
   "metadata": {},
   "outputs": [],
   "source": [
    "test_proba"
   ]
  },
  {
   "cell_type": "code",
   "execution_count": null,
   "metadata": {},
   "outputs": [],
   "source": [
    "from sklearn.metrics import roc_curve, auc\n",
    "fpr, tpr, thresholds = roc_curve(y_test, test_proba[:,1]) \n",
    "roc_auc = auc(fpr, tpr)\n",
    "\n",
    "plt.figure(figsize=[8,8])\n",
    "plt.plot(fpr, tpr, label='ROC curve (area = %0.2f)' % roc_auc, linewidth=4)\n",
    "plt.plot([0, 1], [0, 1], 'k--', linewidth=4)\n",
    "plt.xlim([-0.05, 1.0])\n",
    "plt.ylim([-0.05, 1.05])\n",
    "plt.xlabel('False Positive Rate', fontsize=18)\n",
    "plt.ylabel('True Positive Rate', fontsize=18)\n",
    "plt.title('Pneumonia Detection', fontsize=18)\n",
    "plt.legend(loc=\"lower right\")\n",
    "plt.show()"
   ]
  }
 ],
 "metadata": {
  "kernelspec": {
   "display_name": "Python 3",
   "language": "python",
   "name": "python3"
  },
  "language_info": {
   "codemirror_mode": {
    "name": "ipython",
    "version": 3
   },
   "file_extension": ".py",
   "mimetype": "text/x-python",
   "name": "python",
   "nbconvert_exporter": "python",
   "pygments_lexer": "ipython3",
   "version": "3.6.5"
  }
 },
 "nbformat": 4,
 "nbformat_minor": 2
}
