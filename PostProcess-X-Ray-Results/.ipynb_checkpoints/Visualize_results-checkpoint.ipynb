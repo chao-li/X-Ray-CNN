{
 "cells": [
  {
   "cell_type": "code",
   "execution_count": 1,
   "metadata": {},
   "outputs": [],
   "source": [
    "import numpy as np\n",
    "from sklearn.metrics import accuracy_score"
   ]
  },
  {
   "cell_type": "code",
   "execution_count": 2,
   "metadata": {},
   "outputs": [],
   "source": [
    "folder_path = '/Users/clidev/Desktop/Capstone_Project/pnumonia/X-Ray-CNN/image_as_numpy/'\n",
    "\n",
    "X_train = np.load(folder_path + 'X_train.npy')\n",
    "X_validate = np.load(folder_path + 'X_validate.npy')\n",
    "X_test = np.load(folder_path + 'X_test.npy')\n",
    "\n",
    "y_train = np.load(folder_path + 'y_train.npy')\n",
    "y_validate = np.load(folder_path + 'y_validate.npy')\n",
    "y_test = np.load(folder_path + 'y_test.npy')"
   ]
  },
  {
   "cell_type": "code",
   "execution_count": 3,
   "metadata": {},
   "outputs": [],
   "source": [
    "path = '/Users/clidev/Desktop/Capstone_Project/pnumonia/X-Ray-CNN/postprocess_output/BaselineNet_Adam_batch64_E150/'"
   ]
  },
  {
   "cell_type": "code",
   "execution_count": 4,
   "metadata": {},
   "outputs": [],
   "source": [
    "train_evaluate = np.load(path + 'train_evaluate.npy')\n",
    "validate_evaluate = np.load(path + 'validate_evaluate.npy')\n",
    "test_evaluate = np.load(path + 'test_evaluate.npy')"
   ]
  },
  {
   "cell_type": "code",
   "execution_count": 5,
   "metadata": {},
   "outputs": [],
   "source": [
    "y_train_pred = np.load(path + 'y_train_pred.npy')\n",
    "y_validate_pred = np.load(path + 'y_validate_pred.npy')\n",
    "y_test_pred = np.load(path + 'y_test_pred.npy')"
   ]
  },
  {
   "cell_type": "code",
   "execution_count": 6,
   "metadata": {},
   "outputs": [],
   "source": [
    "# y_train_proba = np.load(path + 'y_train_proba.npy')\n",
    "# y_validate_proba = np.load(path + 'y_validate_proba.npy')\n",
    "# y_test_proba = np.load(path + 'y_test_proba.npy')"
   ]
  },
  {
   "cell_type": "markdown",
   "metadata": {},
   "source": [
    "## Look at evaluation"
   ]
  },
  {
   "cell_type": "code",
   "execution_count": 7,
   "metadata": {},
   "outputs": [
    {
     "data": {
      "text/plain": [
       "array([0.20774752, 0.91668771])"
      ]
     },
     "execution_count": 7,
     "metadata": {},
     "output_type": "execute_result"
    }
   ],
   "source": [
    "train_evaluate"
   ]
  },
  {
   "cell_type": "code",
   "execution_count": 8,
   "metadata": {},
   "outputs": [
    {
     "data": {
      "text/plain": [
       "array([0.2219674, 0.9094523])"
      ]
     },
     "execution_count": 8,
     "metadata": {},
     "output_type": "execute_result"
    }
   ],
   "source": [
    "validate_evaluate"
   ]
  },
  {
   "cell_type": "code",
   "execution_count": 9,
   "metadata": {},
   "outputs": [
    {
     "data": {
      "text/plain": [
       "array([0.22623649, 0.90636043])"
      ]
     },
     "execution_count": 9,
     "metadata": {},
     "output_type": "execute_result"
    }
   ],
   "source": [
    "test_evaluate"
   ]
  },
  {
   "cell_type": "markdown",
   "metadata": {},
   "source": [
    "## Look at prediction"
   ]
  },
  {
   "cell_type": "code",
   "execution_count": 10,
   "metadata": {},
   "outputs": [],
   "source": [
    "import matplotlib.pyplot as plt\n",
    "%matplotlib inline"
   ]
  },
  {
   "cell_type": "code",
   "execution_count": 11,
   "metadata": {},
   "outputs": [
    {
     "data": {
      "text/plain": [
       "(array([299., 113.,  57.,  44.,  22.,  12.,  12.,  17.,  13.,  10.,  24.,\n",
       "         14.,  14.,   7.,  10.,  16.,  21.,  25.,  50., 352.]),\n",
       " array([0.00235834, 0.05223921, 0.10212009, 0.15200096, 0.20188183,\n",
       "        0.25176272, 0.30164358, 0.35152444, 0.40140533, 0.4512862 ,\n",
       "        0.50116706, 0.5510479 , 0.60092884, 0.6508097 , 0.70069057,\n",
       "        0.7505714 , 0.8004523 , 0.85033315, 0.9002141 , 0.95009494,\n",
       "        0.9999758 ], dtype=float32),\n",
       " <a list of 20 Patch objects>)"
      ]
     },
     "execution_count": 11,
     "metadata": {},
     "output_type": "execute_result"
    },
    {
     "data": {
      "image/png": "[encoded data removed]",
      "text/plain": [
       "<Figure size 432x288 with 1 Axes>"
      ]
     },
     "metadata": {},
     "output_type": "display_data"
    }
   ],
   "source": [
    "plt.hist(y_test_pred[:,0], bins = 20)"
   ]
  },
  {
   "cell_type": "code",
   "execution_count": null,
   "metadata": {},
   "outputs": [],
   "source": []
  },
  {
   "cell_type": "code",
   "execution_count": null,
   "metadata": {},
   "outputs": [],
   "source": []
  },
  {
   "cell_type": "code",
   "execution_count": null,
   "metadata": {},
   "outputs": [],
   "source": []
  }
 ],
 "metadata": {
  "kernelspec": {
   "display_name": "Python 3",
   "language": "python",
   "name": "python3"
  },
  "language_info": {
   "codemirror_mode": {
    "name": "ipython",
    "version": 3
   },
   "file_extension": ".py",
   "mimetype": "text/x-python",
   "name": "python",
   "nbconvert_exporter": "python",
   "pygments_lexer": "ipython3",
   "version": "3.6.5"
  }
 },
 "nbformat": 4,
 "nbformat_minor": 2
}
